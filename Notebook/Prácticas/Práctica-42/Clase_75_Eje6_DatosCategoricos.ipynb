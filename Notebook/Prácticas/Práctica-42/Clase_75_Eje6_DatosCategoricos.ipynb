{
 "cells": [
  {
   "cell_type": "markdown",
   "metadata": {},
   "source": [
    "## Datos Categóricos"
   ]
  },
  {
   "cell_type": "markdown",
   "metadata": {},
   "source": [
    "Ejercicio 6. Dados los siguientes datos:\n",
    "\n",
    "1- Recrear las etiquetas originales a partir de los índices codificados.\n",
    "2- Contar la frecuencia de cada etiqueta de animal.\n",
    "3- Identificar las etiquetas de animales únicas presentes en los datos.\n",
    "4- Determinar el animal más frecuente y el menos frecuente.\n",
    "5- Agrupar los animales y contar la frecuencia por grupos (mamíferos, aves, reptiles, etc.).\n",
    "6- Identificar la posición de las primeras y últimas ocurrencias de cada animal.\n",
    "7- Generar un resumen estadístico de las frecuencias de los animales (media, mediana, desviación estándar).\n",
    "8- Filtrar y mostrar solo los animales con una frecuencia mayor que 2.\n",
    "9- Encontrar y mostrar las etiquetas de animales que aparecen solo una vez.\n",
    "10- Calcular el porcentaje de apariciones de cada animal respecto al total.\n",
    "11- Ordenar las etiquetas de animales por frecuencia en orden descendente.\n",
    "12- Generar un DataFrame que muestre la frecuencia acumulativa de las etiquetas.\n"
   ]
  },
  {
   "cell_type": "code",
   "execution_count": 14,
   "metadata": {},
   "outputs": [],
   "source": [
    "import pandas as pd\n",
    "import numpy as np"
   ]
  },
  {
   "cell_type": "code",
   "execution_count": 15,
   "metadata": {},
   "outputs": [],
   "source": [
    "encoded_labels = [\n",
    "    0, 1, 2, 3, 0, 4, 5, 6, 2, 1, 3, 0, 5, 4, 6, 1, 2, 5, 4, 3,\n",
    "    7, 8, 9, 10, 7, 11, 12, 13, 9, 8, 10, 7, 12, 11, 13, 8, 9, 12, 11, 10,\n",
    "    14, 15, 16, 17, 18, 19, 20, 21, 22, 23, 24, 25, 26, 27, 28, 29, 30, 31, 32, 33\n",
    "]\n",
    "\n",
    "animal_labels = [\n",
    "    'cat', 'dog', 'bird', 'fish', 'lion', 'tiger', 'bear', 'elephant', \n",
    "    'giraffe', 'zebra', 'kangaroo', 'koala', 'panda', 'monkey',\n",
    "    'shark', 'whale', 'dolphin', 'penguin', 'ostrich', 'crocodile', \n",
    "    'alligator', 'hippopotamus', 'rhinoceros', 'cheetah', 'leopard', \n",
    "    'jaguar', 'wolf', 'fox', 'rabbit', 'squirrel', 'bat', 'owl', \n",
    "    'hawk', 'eagle'\n",
    "]"
   ]
  },
  {
   "cell_type": "markdown",
   "metadata": {},
   "source": [
    "1- Recrear las etiquetas originales a partir de los índices codificados."
   ]
  },
  {
   "cell_type": "code",
   "execution_count": 51,
   "metadata": {},
   "outputs": [
    {
     "data": {
      "text/plain": [
       "0              cat\n",
       "1              dog\n",
       "2             bird\n",
       "3             fish\n",
       "0              cat\n",
       "4             lion\n",
       "5            tiger\n",
       "6             bear\n",
       "2             bird\n",
       "1              dog\n",
       "3             fish\n",
       "0              cat\n",
       "5            tiger\n",
       "4             lion\n",
       "6             bear\n",
       "1              dog\n",
       "2             bird\n",
       "5            tiger\n",
       "4             lion\n",
       "3             fish\n",
       "7         elephant\n",
       "8          giraffe\n",
       "9            zebra\n",
       "10        kangaroo\n",
       "7         elephant\n",
       "11           koala\n",
       "12           panda\n",
       "13          monkey\n",
       "9            zebra\n",
       "8          giraffe\n",
       "10        kangaroo\n",
       "7         elephant\n",
       "12           panda\n",
       "11           koala\n",
       "13          monkey\n",
       "8          giraffe\n",
       "9            zebra\n",
       "12           panda\n",
       "11           koala\n",
       "10        kangaroo\n",
       "14           shark\n",
       "15           whale\n",
       "16         dolphin\n",
       "17         penguin\n",
       "18         ostrich\n",
       "19       crocodile\n",
       "20       alligator\n",
       "21    hippopotamus\n",
       "22      rhinoceros\n",
       "23         cheetah\n",
       "24         leopard\n",
       "25          jaguar\n",
       "26            wolf\n",
       "27             fox\n",
       "28          rabbit\n",
       "29        squirrel\n",
       "30             bat\n",
       "31             owl\n",
       "32            hawk\n",
       "33           eagle\n",
       "dtype: object"
      ]
     },
     "execution_count": 51,
     "metadata": {},
     "output_type": "execute_result"
    }
   ],
   "source": [
    "etiquetas_originales = pd.Series(animal_labels).take(encoded_labels)\n",
    "etiquetas_originales "
   ]
  },
  {
   "cell_type": "markdown",
   "metadata": {},
   "source": [
    "2- Contar la frecuencia de cada etiqueta de animal."
   ]
  },
  {
   "cell_type": "code",
   "execution_count": 52,
   "metadata": {},
   "outputs": [
    {
     "data": {
      "text/plain": [
       "cat             3\n",
       "dog             3\n",
       "bird            3\n",
       "fish            3\n",
       "lion            3\n",
       "tiger           3\n",
       "elephant        3\n",
       "giraffe         3\n",
       "zebra           3\n",
       "kangaroo        3\n",
       "panda           3\n",
       "koala           3\n",
       "bear            2\n",
       "monkey          2\n",
       "shark           1\n",
       "whale           1\n",
       "dolphin         1\n",
       "penguin         1\n",
       "ostrich         1\n",
       "crocodile       1\n",
       "alligator       1\n",
       "hippopotamus    1\n",
       "rhinoceros      1\n",
       "cheetah         1\n",
       "leopard         1\n",
       "jaguar          1\n",
       "wolf            1\n",
       "fox             1\n",
       "rabbit          1\n",
       "squirrel        1\n",
       "bat             1\n",
       "owl             1\n",
       "hawk            1\n",
       "eagle           1\n",
       "Name: count, dtype: int64"
      ]
     },
     "execution_count": 52,
     "metadata": {},
     "output_type": "execute_result"
    }
   ],
   "source": [
    "frecuencia_etiquetas = etiquetas_originales.value_counts()\n",
    "frecuencia_etiquetas"
   ]
  },
  {
   "cell_type": "markdown",
   "metadata": {},
   "source": [
    "Identificar las etiquetas de animales únicas presentes en los datos."
   ]
  },
  {
   "cell_type": "code",
   "execution_count": 53,
   "metadata": {},
   "outputs": [
    {
     "data": {
      "text/plain": [
       "array(['cat', 'dog', 'bird', 'fish', 'lion', 'tiger', 'bear', 'elephant',\n",
       "       'giraffe', 'zebra', 'kangaroo', 'koala', 'panda', 'monkey',\n",
       "       'shark', 'whale', 'dolphin', 'penguin', 'ostrich', 'crocodile',\n",
       "       'alligator', 'hippopotamus', 'rhinoceros', 'cheetah', 'leopard',\n",
       "       'jaguar', 'wolf', 'fox', 'rabbit', 'squirrel', 'bat', 'owl',\n",
       "       'hawk', 'eagle'], dtype=object)"
      ]
     },
     "execution_count": 53,
     "metadata": {},
     "output_type": "execute_result"
    }
   ],
   "source": [
    "etiquetas_unicas = etiquetas_originales.unique()\n",
    "etiquetas_unicas"
   ]
  },
  {
   "cell_type": "markdown",
   "metadata": {},
   "source": [
    "4- Determinar el animal más frecuente y el menos frecuente."
   ]
  },
  {
   "cell_type": "code",
   "execution_count": 57,
   "metadata": {},
   "outputs": [
    {
     "name": "stdout",
     "output_type": "stream",
     "text": [
      "El animal más frecuente es: cat\n",
      "El animal menos frecuente es: shark\n"
     ]
    }
   ],
   "source": [
    "# Etiqueta más frecuente\n",
    "animal_mas_frecuente = frecuencia_etiquetas.idxmax()\n",
    "\n",
    "# Etiqueta menos frecuente\n",
    "animal_menos_frecuente = frecuencia_etiquetas.idxmin()\n",
    "\n",
    "print(f\"El animal más frecuente es: {animal_mas_frecuente}\")\n",
    "print(f\"El animal menos frecuente es: {animal_menos_frecuente}\")\n"
   ]
  },
  {
   "cell_type": "markdown",
   "metadata": {},
   "source": [
    "5- Agrupar los animales y contar la frecuencia por grupos (mamíferos, aves, reptiles, etc.)."
   ]
  },
  {
   "cell_type": "code",
   "execution_count": 83,
   "metadata": {},
   "outputs": [],
   "source": [
    "categorias = {\n",
    "'mamiferos': ['cat', 'dog', 'lion', 'tiger', 'bear', 'elephant', 'giraffe', 'zebra', 'kangaroo', 'koala', 'panda', 'monkey', 'cheetah', 'leopard', 'jaguar', 'wolf', 'fox'],\n",
    "'aves': ['bird', 'penguin', 'ostrich', 'eagle', 'hawk', 'vulture', 'parrot', 'hummingbird', 'crow', 'swan', 'duck', 'goose'],\n",
    "'peces':['fish', 'sharks', 'whales', 'dolphins'],\n",
    "'reptiles':['crocodile', 'alligator', 'snake', 'turtle', 'iguana', 'lizard', 'chameleon'],\n",
    "}\n"
   ]
  },
  {
   "cell_type": "code",
   "execution_count": 70,
   "metadata": {},
   "outputs": [
    {
     "data": {
      "text/plain": [
       "alligator       20\n",
       "bat             30\n",
       "bear             6\n",
       "bird             2\n",
       "cat              0\n",
       "cheetah         23\n",
       "crocodile       19\n",
       "dog              1\n",
       "dolphin         16\n",
       "eagle           33\n",
       "elephant         7\n",
       "fish             3\n",
       "fox             27\n",
       "giraffe          8\n",
       "hawk            32\n",
       "hippopotamus    21\n",
       "jaguar          25\n",
       "kangaroo        10\n",
       "koala           11\n",
       "leopard         24\n",
       "lion             4\n",
       "monkey          13\n",
       "ostrich         18\n",
       "owl             31\n",
       "panda           12\n",
       "penguin         17\n",
       "rabbit          28\n",
       "rhinoceros      22\n",
       "shark           14\n",
       "squirrel        29\n",
       "tiger            5\n",
       "whale           15\n",
       "wolf            26\n",
       "zebra            9\n",
       "dtype: int64"
      ]
     },
     "execution_count": 70,
     "metadata": {},
     "output_type": "execute_result"
    }
   ],
   "source": [
    "# Encontrar la posición de la primera ocurrencia de cada animal\n",
    "primera_posicion = etiquetas_originales.groupby(etiquetas_originales).apply(lambda x: x.index[0])\n",
    "primera_posicion\n"
   ]
  },
  {
   "cell_type": "code",
   "execution_count": 74,
   "metadata": {},
   "outputs": [
    {
     "data": {
      "text/plain": [
       "alligator       20\n",
       "bat             30\n",
       "bear             6\n",
       "bird             2\n",
       "cat              0\n",
       "cheetah         23\n",
       "crocodile       19\n",
       "dog              1\n",
       "dolphin         16\n",
       "eagle           33\n",
       "elephant         7\n",
       "fish             3\n",
       "fox             27\n",
       "giraffe          8\n",
       "hawk            32\n",
       "hippopotamus    21\n",
       "jaguar          25\n",
       "kangaroo        10\n",
       "koala           11\n",
       "leopard         24\n",
       "lion             4\n",
       "monkey          13\n",
       "ostrich         18\n",
       "owl             31\n",
       "panda           12\n",
       "penguin         17\n",
       "rabbit          28\n",
       "rhinoceros      22\n",
       "shark           14\n",
       "squirrel        29\n",
       "tiger            5\n",
       "whale           15\n",
       "wolf            26\n",
       "zebra            9\n",
       "dtype: int64"
      ]
     },
     "execution_count": 74,
     "metadata": {},
     "output_type": "execute_result"
    }
   ],
   "source": [
    "# Encontrar la posición de la primera ocurrencia de cada animal\n",
    "ultima_posicion = etiquetas_originales.groupby(etiquetas_originales).apply(lambda x: x.index[-1])\n",
    "ultima_posicion"
   ]
  },
  {
   "cell_type": "markdown",
   "metadata": {},
   "source": [
    "7- Generar un resumen estadístico de las frecuencias de los animales (media, mediana, desviación estándar)."
   ]
  },
  {
   "cell_type": "code",
   "execution_count": 73,
   "metadata": {},
   "outputs": [
    {
     "name": "stdout",
     "output_type": "stream",
     "text": [
      "Media: 1.76\n",
      "Mediana: 1.00\n",
      "Desviación Estándar: 0.96\n"
     ]
    }
   ],
   "source": [
    "# Calcular la media (promedio)\n",
    "media = etiquetas_originales.value_counts().mean()\n",
    "# Calcular la mediana\n",
    "mediana = etiquetas_originales.value_counts().median()\n",
    "# Calcular la desviación estándar\n",
    "desviacion_estandar = etiquetas_originales.value_counts().std()\n",
    "\n",
    "print(f\"Media: {media:.2f}\")\n",
    "print(f\"Mediana: {mediana:.2f}\")\n",
    "print(f\"Desviación Estándar: {desviacion_estandar:.2f}\")"
   ]
  },
  {
   "cell_type": "markdown",
   "metadata": {},
   "source": [
    "8- Filtrar y mostrar solo los animales con una frecuencia mayor que 2."
   ]
  },
  {
   "cell_type": "code",
   "execution_count": 75,
   "metadata": {},
   "outputs": [
    {
     "name": "stdout",
     "output_type": "stream",
     "text": [
      "cat         3\n",
      "dog         3\n",
      "bird        3\n",
      "fish        3\n",
      "lion        3\n",
      "tiger       3\n",
      "elephant    3\n",
      "giraffe     3\n",
      "zebra       3\n",
      "kangaroo    3\n",
      "panda       3\n",
      "koala       3\n",
      "Name: count, dtype: int64\n"
     ]
    }
   ],
   "source": [
    "# Filtrar los animales con frecuencia mayor que 2\n",
    "animales_filtrados = frecuencia_etiquetas[frecuencia_etiquetas > 2]\n",
    "print(animales_filtrados)"
   ]
  },
  {
   "cell_type": "markdown",
   "metadata": {},
   "source": [
    "9- Encontrar y mostrar las etiquetas de animales que aparecen solo una vez."
   ]
  },
  {
   "cell_type": "code",
   "execution_count": 76,
   "metadata": {},
   "outputs": [
    {
     "name": "stdout",
     "output_type": "stream",
     "text": [
      "shark           1\n",
      "whale           1\n",
      "dolphin         1\n",
      "penguin         1\n",
      "ostrich         1\n",
      "crocodile       1\n",
      "alligator       1\n",
      "hippopotamus    1\n",
      "rhinoceros      1\n",
      "cheetah         1\n",
      "leopard         1\n",
      "jaguar          1\n",
      "wolf            1\n",
      "fox             1\n",
      "rabbit          1\n",
      "squirrel        1\n",
      "bat             1\n",
      "owl             1\n",
      "hawk            1\n",
      "eagle           1\n",
      "Name: count, dtype: int64\n"
     ]
    }
   ],
   "source": [
    "# Filtrar las etiquetas únicas (aparecen solo una vez)\n",
    "etiquetas_unicas = frecuencia_etiquetas[frecuencia_etiquetas == 1]\n",
    "\n",
    "# Mostrar las etiquetas únicas\n",
    "print(etiquetas_unicas)"
   ]
  },
  {
   "cell_type": "markdown",
   "metadata": {},
   "source": [
    "10- Calcular el porcentaje de apariciones de cada animal respecto al total."
   ]
  },
  {
   "cell_type": "code",
   "execution_count": 78,
   "metadata": {},
   "outputs": [
    {
     "name": "stdout",
     "output_type": "stream",
     "text": [
      "cat             5.00\n",
      "dog             5.00\n",
      "bird            5.00\n",
      "fish            5.00\n",
      "lion            5.00\n",
      "tiger           5.00\n",
      "elephant        5.00\n",
      "giraffe         5.00\n",
      "zebra           5.00\n",
      "kangaroo        5.00\n",
      "panda           5.00\n",
      "koala           5.00\n",
      "bear            3.33\n",
      "monkey          3.33\n",
      "shark           1.67\n",
      "whale           1.67\n",
      "dolphin         1.67\n",
      "penguin         1.67\n",
      "ostrich         1.67\n",
      "crocodile       1.67\n",
      "alligator       1.67\n",
      "hippopotamus    1.67\n",
      "rhinoceros      1.67\n",
      "cheetah         1.67\n",
      "leopard         1.67\n",
      "jaguar          1.67\n",
      "wolf            1.67\n",
      "fox             1.67\n",
      "rabbit          1.67\n",
      "squirrel        1.67\n",
      "bat             1.67\n",
      "owl             1.67\n",
      "hawk            1.67\n",
      "eagle           1.67\n",
      "Name: count, dtype: float64\n"
     ]
    }
   ],
   "source": [
    "# Calcular el total de apariciones\n",
    "total_apariciones = frecuencia_etiquetas.sum()\n",
    "\n",
    "# Calcular el porcentaje para cada animal\n",
    "porcentajes = (frecuencia_etiquetas / total_apariciones) * 100\n",
    "\n",
    "# Mostrar los porcentajes\n",
    "print(porcentajes.round(2))"
   ]
  },
  {
   "cell_type": "markdown",
   "metadata": {},
   "source": [
    "11- Ordenar las etiquetas de animales por frecuencia en orden descendente."
   ]
  },
  {
   "cell_type": "code",
   "execution_count": 80,
   "metadata": {},
   "outputs": [
    {
     "name": "stdout",
     "output_type": "stream",
     "text": [
      "cat             3\n",
      "dog             3\n",
      "bird            3\n",
      "fish            3\n",
      "lion            3\n",
      "tiger           3\n",
      "elephant        3\n",
      "giraffe         3\n",
      "zebra           3\n",
      "kangaroo        3\n",
      "panda           3\n",
      "koala           3\n",
      "bear            2\n",
      "monkey          2\n",
      "shark           1\n",
      "whale           1\n",
      "dolphin         1\n",
      "penguin         1\n",
      "ostrich         1\n",
      "crocodile       1\n",
      "alligator       1\n",
      "hippopotamus    1\n",
      "rhinoceros      1\n",
      "cheetah         1\n",
      "leopard         1\n",
      "jaguar          1\n",
      "wolf            1\n",
      "fox             1\n",
      "rabbit          1\n",
      "squirrel        1\n",
      "bat             1\n",
      "owl             1\n",
      "hawk            1\n",
      "eagle           1\n",
      "Name: count, dtype: int64\n"
     ]
    }
   ],
   "source": [
    "# Ordenar en orden descendente\n",
    "frecuencias_ordenadas = frecuencia_etiquetas.sort_values(ascending=False)\n",
    "\n",
    "print(frecuencias_ordenadas)"
   ]
  },
  {
   "cell_type": "code",
   "execution_count": 85,
   "metadata": {},
   "outputs": [
    {
     "data": {
      "text/html": [
       "<div>\n",
       "<style scoped>\n",
       "    .dataframe tbody tr th:only-of-type {\n",
       "        vertical-align: middle;\n",
       "    }\n",
       "\n",
       "    .dataframe tbody tr th {\n",
       "        vertical-align: top;\n",
       "    }\n",
       "\n",
       "    .dataframe thead th {\n",
       "        text-align: right;\n",
       "    }\n",
       "</style>\n",
       "<table border=\"1\" class=\"dataframe\">\n",
       "  <thead>\n",
       "    <tr style=\"text-align: right;\">\n",
       "      <th></th>\n",
       "      <th>Etiqueta</th>\n",
       "      <th>Frecuencia Acumulativa</th>\n",
       "    </tr>\n",
       "  </thead>\n",
       "  <tbody>\n",
       "    <tr>\n",
       "      <th>0</th>\n",
       "      <td>cat</td>\n",
       "      <td>3</td>\n",
       "    </tr>\n",
       "    <tr>\n",
       "      <th>1</th>\n",
       "      <td>dog</td>\n",
       "      <td>6</td>\n",
       "    </tr>\n",
       "    <tr>\n",
       "      <th>2</th>\n",
       "      <td>bird</td>\n",
       "      <td>9</td>\n",
       "    </tr>\n",
       "    <tr>\n",
       "      <th>3</th>\n",
       "      <td>fish</td>\n",
       "      <td>12</td>\n",
       "    </tr>\n",
       "    <tr>\n",
       "      <th>4</th>\n",
       "      <td>lion</td>\n",
       "      <td>15</td>\n",
       "    </tr>\n",
       "    <tr>\n",
       "      <th>5</th>\n",
       "      <td>tiger</td>\n",
       "      <td>18</td>\n",
       "    </tr>\n",
       "    <tr>\n",
       "      <th>6</th>\n",
       "      <td>elephant</td>\n",
       "      <td>21</td>\n",
       "    </tr>\n",
       "    <tr>\n",
       "      <th>7</th>\n",
       "      <td>giraffe</td>\n",
       "      <td>24</td>\n",
       "    </tr>\n",
       "    <tr>\n",
       "      <th>8</th>\n",
       "      <td>zebra</td>\n",
       "      <td>27</td>\n",
       "    </tr>\n",
       "    <tr>\n",
       "      <th>9</th>\n",
       "      <td>kangaroo</td>\n",
       "      <td>30</td>\n",
       "    </tr>\n",
       "    <tr>\n",
       "      <th>10</th>\n",
       "      <td>panda</td>\n",
       "      <td>33</td>\n",
       "    </tr>\n",
       "    <tr>\n",
       "      <th>11</th>\n",
       "      <td>koala</td>\n",
       "      <td>36</td>\n",
       "    </tr>\n",
       "    <tr>\n",
       "      <th>12</th>\n",
       "      <td>bear</td>\n",
       "      <td>38</td>\n",
       "    </tr>\n",
       "    <tr>\n",
       "      <th>13</th>\n",
       "      <td>monkey</td>\n",
       "      <td>40</td>\n",
       "    </tr>\n",
       "    <tr>\n",
       "      <th>14</th>\n",
       "      <td>shark</td>\n",
       "      <td>41</td>\n",
       "    </tr>\n",
       "    <tr>\n",
       "      <th>15</th>\n",
       "      <td>whale</td>\n",
       "      <td>42</td>\n",
       "    </tr>\n",
       "    <tr>\n",
       "      <th>16</th>\n",
       "      <td>dolphin</td>\n",
       "      <td>43</td>\n",
       "    </tr>\n",
       "    <tr>\n",
       "      <th>17</th>\n",
       "      <td>penguin</td>\n",
       "      <td>44</td>\n",
       "    </tr>\n",
       "    <tr>\n",
       "      <th>18</th>\n",
       "      <td>ostrich</td>\n",
       "      <td>45</td>\n",
       "    </tr>\n",
       "    <tr>\n",
       "      <th>19</th>\n",
       "      <td>crocodile</td>\n",
       "      <td>46</td>\n",
       "    </tr>\n",
       "    <tr>\n",
       "      <th>20</th>\n",
       "      <td>alligator</td>\n",
       "      <td>47</td>\n",
       "    </tr>\n",
       "    <tr>\n",
       "      <th>21</th>\n",
       "      <td>hippopotamus</td>\n",
       "      <td>48</td>\n",
       "    </tr>\n",
       "    <tr>\n",
       "      <th>22</th>\n",
       "      <td>rhinoceros</td>\n",
       "      <td>49</td>\n",
       "    </tr>\n",
       "    <tr>\n",
       "      <th>23</th>\n",
       "      <td>cheetah</td>\n",
       "      <td>50</td>\n",
       "    </tr>\n",
       "    <tr>\n",
       "      <th>24</th>\n",
       "      <td>leopard</td>\n",
       "      <td>51</td>\n",
       "    </tr>\n",
       "    <tr>\n",
       "      <th>25</th>\n",
       "      <td>jaguar</td>\n",
       "      <td>52</td>\n",
       "    </tr>\n",
       "    <tr>\n",
       "      <th>26</th>\n",
       "      <td>wolf</td>\n",
       "      <td>53</td>\n",
       "    </tr>\n",
       "    <tr>\n",
       "      <th>27</th>\n",
       "      <td>fox</td>\n",
       "      <td>54</td>\n",
       "    </tr>\n",
       "    <tr>\n",
       "      <th>28</th>\n",
       "      <td>rabbit</td>\n",
       "      <td>55</td>\n",
       "    </tr>\n",
       "    <tr>\n",
       "      <th>29</th>\n",
       "      <td>squirrel</td>\n",
       "      <td>56</td>\n",
       "    </tr>\n",
       "    <tr>\n",
       "      <th>30</th>\n",
       "      <td>bat</td>\n",
       "      <td>57</td>\n",
       "    </tr>\n",
       "    <tr>\n",
       "      <th>31</th>\n",
       "      <td>owl</td>\n",
       "      <td>58</td>\n",
       "    </tr>\n",
       "    <tr>\n",
       "      <th>32</th>\n",
       "      <td>hawk</td>\n",
       "      <td>59</td>\n",
       "    </tr>\n",
       "    <tr>\n",
       "      <th>33</th>\n",
       "      <td>eagle</td>\n",
       "      <td>60</td>\n",
       "    </tr>\n",
       "  </tbody>\n",
       "</table>\n",
       "</div>"
      ],
      "text/plain": [
       "        Etiqueta  Frecuencia Acumulativa\n",
       "0            cat                       3\n",
       "1            dog                       6\n",
       "2           bird                       9\n",
       "3           fish                      12\n",
       "4           lion                      15\n",
       "5          tiger                      18\n",
       "6       elephant                      21\n",
       "7        giraffe                      24\n",
       "8          zebra                      27\n",
       "9       kangaroo                      30\n",
       "10         panda                      33\n",
       "11         koala                      36\n",
       "12          bear                      38\n",
       "13        monkey                      40\n",
       "14         shark                      41\n",
       "15         whale                      42\n",
       "16       dolphin                      43\n",
       "17       penguin                      44\n",
       "18       ostrich                      45\n",
       "19     crocodile                      46\n",
       "20     alligator                      47\n",
       "21  hippopotamus                      48\n",
       "22    rhinoceros                      49\n",
       "23       cheetah                      50\n",
       "24       leopard                      51\n",
       "25        jaguar                      52\n",
       "26          wolf                      53\n",
       "27           fox                      54\n",
       "28        rabbit                      55\n",
       "29      squirrel                      56\n",
       "30           bat                      57\n",
       "31           owl                      58\n",
       "32          hawk                      59\n",
       "33         eagle                      60"
      ]
     },
     "execution_count": 85,
     "metadata": {},
     "output_type": "execute_result"
    }
   ],
   "source": [
    "# Crear un DataFrame con las etiquetas originales\n",
    "df = pd.DataFrame({'Etiqueta': etiquetas_originales})\n",
    "\n",
    "# Calcular la frecuencia de cada etiqueta\n",
    "frecuencia_etiquetas = df['Etiqueta'].value_counts()\n",
    "\n",
    "# Calcular la frecuencia acumulativa\n",
    "frecuencia_acumulativa = frecuencia_etiquetas.cumsum()\n",
    "\n",
    "# Crear un nuevo DataFrame con las frecuencias acumulativas\n",
    "df_frecuencia_acumulativa = pd.DataFrame({'Etiqueta': frecuencia_acumulativa.index, 'Frecuencia Acumulativa': frecuencia_acumulativa.values})\n",
    "\n",
    "# Mostrar el DataFrame resultante\n",
    "df_frecuencia_acumulativa"
   ]
  }
 ],
 "metadata": {
  "kernelspec": {
   "display_name": "Curso_Python",
   "language": "python",
   "name": "python3"
  },
  "language_info": {
   "codemirror_mode": {
    "name": "ipython",
    "version": 3
   },
   "file_extension": ".py",
   "mimetype": "text/x-python",
   "name": "python",
   "nbconvert_exporter": "python",
   "pygments_lexer": "ipython3",
   "version": "3.11.9"
  }
 },
 "nbformat": 4,
 "nbformat_minor": 2
}
