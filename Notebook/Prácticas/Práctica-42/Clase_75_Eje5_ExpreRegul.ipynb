{
 "cells": [
  {
   "cell_type": "markdown",
   "metadata": {},
   "source": [
    "Ejercicio 5. Expresiones regulares."
   ]
  },
  {
   "cell_type": "markdown",
   "metadata": {},
   "source": [
    "Dado el siguiente Diccionario:"
   ]
  },
  {
   "cell_type": "code",
   "execution_count": 4,
   "metadata": {},
   "outputs": [],
   "source": [
    "import pandas as pd\n",
    "import numpy as np"
   ]
  },
  {
   "cell_type": "code",
   "execution_count": 5,
   "metadata": {},
   "outputs": [],
   "source": [
    "data = {\n",
    "    'Name': [\n",
    "        'Dave', 'Steve', 'Rob', 'Ryan', 'Alice', 'Eve', 'John', 'Jane', 'Peter', 'Mary', 'Tom', 'Lucy', \n",
    "        'Mike', 'Chris', 'Emma', 'Olivia', 'Sophia', 'Liam', 'Noah', 'Mason', 'Ava', 'Mia', 'James', 'Benjamin'\n",
    "    ],\n",
    "    'Email': [\n",
    "        'dave@google.com', 'steve@gmail.com', 'rob@yahoo.com', 'ryan@gmail.com', \n",
    "        'alice@hotmail.com', 'eve@google.com', 'john@outlook.com', 'jane@gmail.com',\n",
    "        'peter@amazon.com', 'mary@google.com', 'tom@apple.com', 'lucy@yahoo.com',\n",
    "        'mike@facebook.com', 'chris@netflix.com', 'emma@google.com', 'olivia@gmail.com',\n",
    "        'sophia@amazon.com', 'liam@apple.com', 'noah@google.com', 'mason@yahoo.com',\n",
    "        'ava@outlook.com', 'mia@gmail.com', 'james@hotmail.com', 'benjamin@google.com'\n",
    "    ]\n",
    "}"
   ]
  },
  {
   "cell_type": "code",
   "execution_count": 6,
   "metadata": {},
   "outputs": [
    {
     "data": {
      "text/html": [
       "<div>\n",
       "<style scoped>\n",
       "    .dataframe tbody tr th:only-of-type {\n",
       "        vertical-align: middle;\n",
       "    }\n",
       "\n",
       "    .dataframe tbody tr th {\n",
       "        vertical-align: top;\n",
       "    }\n",
       "\n",
       "    .dataframe thead th {\n",
       "        text-align: right;\n",
       "    }\n",
       "</style>\n",
       "<table border=\"1\" class=\"dataframe\">\n",
       "  <thead>\n",
       "    <tr style=\"text-align: right;\">\n",
       "      <th></th>\n",
       "      <th>Name</th>\n",
       "      <th>Email</th>\n",
       "    </tr>\n",
       "  </thead>\n",
       "  <tbody>\n",
       "    <tr>\n",
       "      <th>0</th>\n",
       "      <td>Dave</td>\n",
       "      <td>dave@google.com</td>\n",
       "    </tr>\n",
       "    <tr>\n",
       "      <th>1</th>\n",
       "      <td>Steve</td>\n",
       "      <td>steve@gmail.com</td>\n",
       "    </tr>\n",
       "    <tr>\n",
       "      <th>2</th>\n",
       "      <td>Rob</td>\n",
       "      <td>rob@yahoo.com</td>\n",
       "    </tr>\n",
       "    <tr>\n",
       "      <th>3</th>\n",
       "      <td>Ryan</td>\n",
       "      <td>ryan@gmail.com</td>\n",
       "    </tr>\n",
       "    <tr>\n",
       "      <th>4</th>\n",
       "      <td>Alice</td>\n",
       "      <td>alice@hotmail.com</td>\n",
       "    </tr>\n",
       "    <tr>\n",
       "      <th>5</th>\n",
       "      <td>Eve</td>\n",
       "      <td>eve@google.com</td>\n",
       "    </tr>\n",
       "    <tr>\n",
       "      <th>6</th>\n",
       "      <td>John</td>\n",
       "      <td>john@outlook.com</td>\n",
       "    </tr>\n",
       "    <tr>\n",
       "      <th>7</th>\n",
       "      <td>Jane</td>\n",
       "      <td>jane@gmail.com</td>\n",
       "    </tr>\n",
       "    <tr>\n",
       "      <th>8</th>\n",
       "      <td>Peter</td>\n",
       "      <td>peter@amazon.com</td>\n",
       "    </tr>\n",
       "    <tr>\n",
       "      <th>9</th>\n",
       "      <td>Mary</td>\n",
       "      <td>mary@google.com</td>\n",
       "    </tr>\n",
       "    <tr>\n",
       "      <th>10</th>\n",
       "      <td>Tom</td>\n",
       "      <td>tom@apple.com</td>\n",
       "    </tr>\n",
       "    <tr>\n",
       "      <th>11</th>\n",
       "      <td>Lucy</td>\n",
       "      <td>lucy@yahoo.com</td>\n",
       "    </tr>\n",
       "    <tr>\n",
       "      <th>12</th>\n",
       "      <td>Mike</td>\n",
       "      <td>mike@facebook.com</td>\n",
       "    </tr>\n",
       "    <tr>\n",
       "      <th>13</th>\n",
       "      <td>Chris</td>\n",
       "      <td>chris@netflix.com</td>\n",
       "    </tr>\n",
       "    <tr>\n",
       "      <th>14</th>\n",
       "      <td>Emma</td>\n",
       "      <td>emma@google.com</td>\n",
       "    </tr>\n",
       "    <tr>\n",
       "      <th>15</th>\n",
       "      <td>Olivia</td>\n",
       "      <td>olivia@gmail.com</td>\n",
       "    </tr>\n",
       "    <tr>\n",
       "      <th>16</th>\n",
       "      <td>Sophia</td>\n",
       "      <td>sophia@amazon.com</td>\n",
       "    </tr>\n",
       "    <tr>\n",
       "      <th>17</th>\n",
       "      <td>Liam</td>\n",
       "      <td>liam@apple.com</td>\n",
       "    </tr>\n",
       "    <tr>\n",
       "      <th>18</th>\n",
       "      <td>Noah</td>\n",
       "      <td>noah@google.com</td>\n",
       "    </tr>\n",
       "    <tr>\n",
       "      <th>19</th>\n",
       "      <td>Mason</td>\n",
       "      <td>mason@yahoo.com</td>\n",
       "    </tr>\n",
       "    <tr>\n",
       "      <th>20</th>\n",
       "      <td>Ava</td>\n",
       "      <td>ava@outlook.com</td>\n",
       "    </tr>\n",
       "    <tr>\n",
       "      <th>21</th>\n",
       "      <td>Mia</td>\n",
       "      <td>mia@gmail.com</td>\n",
       "    </tr>\n",
       "    <tr>\n",
       "      <th>22</th>\n",
       "      <td>James</td>\n",
       "      <td>james@hotmail.com</td>\n",
       "    </tr>\n",
       "    <tr>\n",
       "      <th>23</th>\n",
       "      <td>Benjamin</td>\n",
       "      <td>benjamin@google.com</td>\n",
       "    </tr>\n",
       "  </tbody>\n",
       "</table>\n",
       "</div>"
      ],
      "text/plain": [
       "        Name                Email\n",
       "0       Dave      dave@google.com\n",
       "1      Steve      steve@gmail.com\n",
       "2        Rob        rob@yahoo.com\n",
       "3       Ryan       ryan@gmail.com\n",
       "4      Alice    alice@hotmail.com\n",
       "5        Eve       eve@google.com\n",
       "6       John     john@outlook.com\n",
       "7       Jane       jane@gmail.com\n",
       "8      Peter     peter@amazon.com\n",
       "9       Mary      mary@google.com\n",
       "10       Tom        tom@apple.com\n",
       "11      Lucy       lucy@yahoo.com\n",
       "12      Mike    mike@facebook.com\n",
       "13     Chris    chris@netflix.com\n",
       "14      Emma      emma@google.com\n",
       "15    Olivia     olivia@gmail.com\n",
       "16    Sophia    sophia@amazon.com\n",
       "17      Liam       liam@apple.com\n",
       "18      Noah      noah@google.com\n",
       "19     Mason      mason@yahoo.com\n",
       "20       Ava      ava@outlook.com\n",
       "21       Mia        mia@gmail.com\n",
       "22     James    james@hotmail.com\n",
       "23  Benjamin  benjamin@google.com"
      ]
     },
     "execution_count": 6,
     "metadata": {},
     "output_type": "execute_result"
    }
   ],
   "source": [
    "df = pd.DataFrame(data)\n",
    "df"
   ]
  },
  {
   "cell_type": "markdown",
   "metadata": {},
   "source": [
    "Una vez pasado el diccionario a un DataFrame que contiene nombres y direcciones de correo electrónico, realiza las siguientes tareas:\n",
    "\n",
    "- Extrae los dominios de los correos electrónicos.\n",
    "- Cuenta la frecuencia de cada dominio.\n",
    "- Crea un nuevo DataFrame que contenga cada dominio como columna y el número de veces que se repiten dichos dominios en las filas.\n",
    "- Resolver de las dos formas: Usando expresiones regulares y usando los métodos propios de pandas."
   ]
  },
  {
   "cell_type": "markdown",
   "metadata": {},
   "source": [
    "## Solución con expresiones regulares"
   ]
  },
  {
   "cell_type": "code",
   "execution_count": 21,
   "metadata": {},
   "outputs": [
    {
     "data": {
      "text/plain": [
       "0       google.com\n",
       "1        gmail.com\n",
       "2        yahoo.com\n",
       "3        gmail.com\n",
       "4      hotmail.com\n",
       "5       google.com\n",
       "6      outlook.com\n",
       "7        gmail.com\n",
       "8       amazon.com\n",
       "9       google.com\n",
       "10       apple.com\n",
       "11       yahoo.com\n",
       "12    facebook.com\n",
       "13     netflix.com\n",
       "14      google.com\n",
       "15       gmail.com\n",
       "16      amazon.com\n",
       "17       apple.com\n",
       "18      google.com\n",
       "19       yahoo.com\n",
       "20     outlook.com\n",
       "21       gmail.com\n",
       "22     hotmail.com\n",
       "23      google.com\n",
       "Name: Domain, dtype: object"
      ]
     },
     "execution_count": 21,
     "metadata": {},
     "output_type": "execute_result"
    }
   ],
   "source": [
    "# Se Extre el dominio con expresiones regulares\n",
    "df['Domain'] = df['Email'].str.extract(r'@(.+)$')  \n",
    "df['Domain']"
   ]
  },
  {
   "cell_type": "markdown",
   "metadata": {},
   "source": [
    "- df['Email'].str.extract(r'@(.+)$'):\n",
    "- df['Email']: Esto accede a la columna “Email” en el DataFrame df.\n",
    "- .str: Esto convierte la columna en una serie de objetos de tipo cadena (string).\n",
    "- .extract(r'@(.+)$'): Utiliza una expresión regular para extraer el dominio de cada dirección de correo electrónico.\n",
    "- r'@(.+)$': Esta expresión regular busca el símbolo “@” en la cadena y captura todo lo que sigue después de él hasta el final de la cadena.\n"
   ]
  },
  {
   "cell_type": "code",
   "execution_count": 8,
   "metadata": {},
   "outputs": [
    {
     "data": {
      "text/plain": [
       "Domain\n",
       "google.com      6\n",
       "gmail.com       5\n",
       "yahoo.com       3\n",
       "hotmail.com     2\n",
       "outlook.com     2\n",
       "amazon.com      2\n",
       "apple.com       2\n",
       "facebook.com    1\n",
       "netflix.com     1\n",
       "Name: count, dtype: int64"
      ]
     },
     "execution_count": 8,
     "metadata": {},
     "output_type": "execute_result"
    }
   ],
   "source": [
    "# Contar la frecuencia de cada dominio\n",
    "domain_counts =  df['Domain'].value_counts()\n",
    "domain_counts\n"
   ]
  },
  {
   "cell_type": "markdown",
   "metadata": {},
   "source": [
    "- df['Domain']: Esto accede a la columna “Domain” en el DataFrame df. Recordemos que previamente habíamos creado esta columna al extraer los dominios de las direcciones de correo electrónico.\n",
    "- .value_counts(): Este método cuenta cuántas veces aparece cada valor único en la columna “Domain”. En otras palabras, nos proporciona la frecuencia de cada dominio en la lista de direcciones de correo electrónico"
   ]
  },
  {
   "cell_type": "markdown",
   "metadata": {},
   "source": [
    "- Crea un nuevo DataFrame que contenga cada dominio como columna y el número de veces que se repiten dichos dominios en las filas."
   ]
  },
  {
   "cell_type": "code",
   "execution_count": 14,
   "metadata": {},
   "outputs": [
    {
     "name": "stdout",
     "output_type": "stream",
     "text": [
      "Domain     google.com  gmail.com  yahoo.com  hotmail.com  outlook.com\n",
      "Frequency           2          2          1            1            1\n"
     ]
    }
   ],
   "source": [
    "# DataFrame con los dominios y sus frecuencias\n",
    "domain_df = pd.DataFrame({\n",
    "    'Domain': ['google.com', 'gmail.com', 'yahoo.com', 'hotmail.com', 'outlook.com'],\n",
    "    'Frequency': [2, 2, 1, 1, 1]\n",
    "})\n",
    "\n",
    "# Transponer el DataFrame para que los dominios sean columnas\n",
    "domain_counts_df = domain_df.set_index('Domain').T\n",
    "\n",
    "print(domain_counts_df)"
   ]
  },
  {
   "cell_type": "markdown",
   "metadata": {},
   "source": [
    "- domain_df.set_index('Domain'): Esto establece la columna “Domain” como el índice del DataFrame domain_df. En otras palabras, ahora podemos acceder a las filas utilizando los dominios como etiquetas de fila.\n",
    "- .T: Este es el operador de transposición. Al aplicarlo al DataFrame, intercambia las filas por columnas y viceversa. Por lo tanto, ahora los dominios se convierten en columnas y las frecuencias se convierten en filas.\n",
    "El resultado de domain_df.set_index('Domain').T es un nuevo DataFrame donde los dominios son columnas y las frecuencias están en las filas"
   ]
  },
  {
   "cell_type": "markdown",
   "metadata": {},
   "source": [
    "## Solución con los métodos propios de Pandas"
   ]
  },
  {
   "cell_type": "code",
   "execution_count": 22,
   "metadata": {},
   "outputs": [
    {
     "name": "stdout",
     "output_type": "stream",
     "text": [
      "        Name                Email        Domain\n",
      "0       Dave      dave@google.com    google.com\n",
      "1      Steve      steve@gmail.com     gmail.com\n",
      "2        Rob        rob@yahoo.com     yahoo.com\n",
      "3       Ryan       ryan@gmail.com     gmail.com\n",
      "4      Alice    alice@hotmail.com   hotmail.com\n",
      "5        Eve       eve@google.com    google.com\n",
      "6       John     john@outlook.com   outlook.com\n",
      "7       Jane       jane@gmail.com     gmail.com\n",
      "8      Peter     peter@amazon.com    amazon.com\n",
      "9       Mary      mary@google.com    google.com\n",
      "10       Tom        tom@apple.com     apple.com\n",
      "11      Lucy       lucy@yahoo.com     yahoo.com\n",
      "12      Mike    mike@facebook.com  facebook.com\n",
      "13     Chris    chris@netflix.com   netflix.com\n",
      "14      Emma      emma@google.com    google.com\n",
      "15    Olivia     olivia@gmail.com     gmail.com\n",
      "16    Sophia    sophia@amazon.com    amazon.com\n",
      "17      Liam       liam@apple.com     apple.com\n",
      "18      Noah      noah@google.com    google.com\n",
      "19     Mason      mason@yahoo.com     yahoo.com\n",
      "20       Ava      ava@outlook.com   outlook.com\n",
      "21       Mia        mia@gmail.com     gmail.com\n",
      "22     James    james@hotmail.com   hotmail.com\n",
      "23  Benjamin  benjamin@google.com    google.com\n"
     ]
    }
   ],
   "source": [
    "# Extraer los dominios utilizando el método apply con una función lambda\n",
    "df['Domain'] = df['Email'].apply(lambda x: x.split('@')[1])\n",
    "print(df[['Name', 'Email', 'Domain']])\n"
   ]
  },
  {
   "cell_type": "code",
   "execution_count": 23,
   "metadata": {},
   "outputs": [
    {
     "data": {
      "text/plain": [
       "Domain\n",
       "google.com      6\n",
       "gmail.com       5\n",
       "yahoo.com       3\n",
       "hotmail.com     2\n",
       "outlook.com     2\n",
       "amazon.com      2\n",
       "apple.com       2\n",
       "facebook.com    1\n",
       "netflix.com     1\n",
       "Name: count, dtype: int64"
      ]
     },
     "execution_count": 23,
     "metadata": {},
     "output_type": "execute_result"
    }
   ],
   "source": [
    "# Contar la frecuencia de cada dominio\n",
    "domain_counts = df['Domain'].value_counts()\n",
    "domain_counts"
   ]
  },
  {
   "cell_type": "code",
   "execution_count": 33,
   "metadata": {},
   "outputs": [
    {
     "data": {
      "text/html": [
       "<div>\n",
       "<style scoped>\n",
       "    .dataframe tbody tr th:only-of-type {\n",
       "        vertical-align: middle;\n",
       "    }\n",
       "\n",
       "    .dataframe tbody tr th {\n",
       "        vertical-align: top;\n",
       "    }\n",
       "\n",
       "    .dataframe thead th {\n",
       "        text-align: right;\n",
       "    }\n",
       "</style>\n",
       "<table border=\"1\" class=\"dataframe\">\n",
       "  <thead>\n",
       "    <tr style=\"text-align: right;\">\n",
       "      <th>Dominio</th>\n",
       "      <th>google.com</th>\n",
       "      <th>yahoo.com</th>\n",
       "      <th>bing.com</th>\n",
       "    </tr>\n",
       "  </thead>\n",
       "  <tbody>\n",
       "    <tr>\n",
       "      <th>Repeticiones</th>\n",
       "      <td>10</td>\n",
       "      <td>5</td>\n",
       "      <td>8</td>\n",
       "    </tr>\n",
       "  </tbody>\n",
       "</table>\n",
       "</div>"
      ],
      "text/plain": [
       "Dominio      google.com yahoo.com bing.com\n",
       "Repeticiones         10         5        8"
      ]
     },
     "execution_count": 33,
     "metadata": {},
     "output_type": "execute_result"
    }
   ],
   "source": [
    "data_dict = {'Dominio': ['google.com', 'yahoo.com', 'bing.com'],\n",
    "             'Repeticiones': [10, 5, 8]}\n",
    "\n",
    "df = pd.DataFrame(data_dict)\n",
    "\n",
    "# Transponer el DataFrame y establecer los dominios como índice\n",
    "df_transpuesto = df.T\n",
    "df_transpuesto.columns = df_transpuesto.iloc[0]\n",
    "df_transpuesto = df_transpuesto[1:]\n",
    "df_transpuesto"
   ]
  },
  {
   "cell_type": "markdown",
   "metadata": {},
   "source": [
    "Creación del DataFrame original:\n",
    "- Primero, creamos un diccionario llamado data_dict con dos claves: ‘Dominio’ y ‘Repeticiones’.\n",
    "- La clave ‘Dominio’ tiene una lista de nombres de dominio: ['google.com', 'yahoo.com', 'bing.com'].\n",
    "- La clave ‘Repeticiones’ tiene una lista de números: [10, 5, 8].\n",
    "- Luego, utilizamos pd.DataFrame(data_dict) para crear un DataFrame a partir de este diccionario.\n",
    "\n",
    "Transponer el DataFrame:\n",
    "-Después de crear el DataFrame, aplicamos la operación de transposición utilizando .T.\n",
    "- Esto intercambia las filas con las columnas, de modo que los dominios ahora se convierten en columnas y las repeticiones en filas.\n",
    "\n",
    "Eliminar la primera fila de índices:\n",
    "- Por defecto, pandas agrega índices numéricos (0, 1, 2) como la primera fila después de la transposición.\n",
    "- Para eliminar esta fila, establecemos los nombres de columna del DataFrame transpuesto como los valores de la primera fila (df_transpuesto.columns = df_transpuesto.iloc[0]).\n",
    "- Luego, excluimos la primera fila utilizando df_transpuesto = df_transpuesto[1:]."
   ]
  },
  {
   "cell_type": "code",
   "execution_count": null,
   "metadata": {},
   "outputs": [],
   "source": []
  }
 ],
 "metadata": {
  "kernelspec": {
   "display_name": "Curso_Python",
   "language": "python",
   "name": "python3"
  },
  "language_info": {
   "codemirror_mode": {
    "name": "ipython",
    "version": 3
   },
   "file_extension": ".py",
   "mimetype": "text/x-python",
   "name": "python",
   "nbconvert_exporter": "python",
   "pygments_lexer": "ipython3",
   "version": "3.11.9"
  }
 },
 "nbformat": 4,
 "nbformat_minor": 2
}
