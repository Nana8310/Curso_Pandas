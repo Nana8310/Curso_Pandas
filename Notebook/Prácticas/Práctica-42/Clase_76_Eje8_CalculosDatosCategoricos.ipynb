{
 "cells": [
  {
   "cell_type": "markdown",
   "metadata": {},
   "source": [
    "Ejercicio 8. Basado en los siguientes datos:"
   ]
  },
  {
   "cell_type": "code",
   "execution_count": 4,
   "metadata": {},
   "outputs": [],
   "source": [
    "data = {\n",
    "    'consumer_id': range(1, 21),\n",
    "    'product_preference': [\n",
    "        'Vegano', 'Ecológico', 'Sin Gluten', 'Normal', 'Ecológico',\n",
    "        'Vegano', 'Normal', 'Sin Gluten', 'Vegano', 'Ecológico',\n",
    "        'Normal', 'Ecológico', 'Sin Gluten', 'Vegano', 'Normal',\n",
    "        'Vegano', 'Sin Gluten', 'Normal', 'Normal', 'Vegano'\n",
    "    ]\n",
    "}"
   ]
  },
  {
   "cell_type": "markdown",
   "metadata": {},
   "source": [
    "Responder las siguientes preguntas.\n",
    "\n",
    "1- Crear un dataframe e imprima un head.\n",
    "2- Cambiar el dtype de product_preference a categórico.\n",
    "3- Medir el uso de memoria antes y después de convertir a categórico.\n",
    "4- Añadir dos categorías más: Orgánico y Keto.\n",
    "5- Filtrar los datos para incluir solo preferencias 'Vegano' y 'Ecológico'.\n",
    "6- Eliminar categorías no utilizadas en los datos filtrados.\n",
    "7- Medir el tiempo de ejecución de value_counts() en la columna product_preference.\n",
    "8- Reordenar las categorías en un orden específico.\n",
    "9- Obtener estadísticas descriptivas de la columna categórica.\n",
    "10- Agrupar los datos por product_preference y contar el número de consumidores en cada categoría.\n",
    "11- Transformar categorías a números utilizando cat.codes."
   ]
  },
  {
   "cell_type": "code",
   "execution_count": 30,
   "metadata": {},
   "outputs": [],
   "source": [
    "import pandas as pd\n",
    "import time"
   ]
  },
  {
   "cell_type": "markdown",
   "metadata": {},
   "source": [
    "1- Crear un dataframe e imprima un head."
   ]
  },
  {
   "cell_type": "code",
   "execution_count": 5,
   "metadata": {},
   "outputs": [
    {
     "data": {
      "text/html": [
       "<div>\n",
       "<style scoped>\n",
       "    .dataframe tbody tr th:only-of-type {\n",
       "        vertical-align: middle;\n",
       "    }\n",
       "\n",
       "    .dataframe tbody tr th {\n",
       "        vertical-align: top;\n",
       "    }\n",
       "\n",
       "    .dataframe thead th {\n",
       "        text-align: right;\n",
       "    }\n",
       "</style>\n",
       "<table border=\"1\" class=\"dataframe\">\n",
       "  <thead>\n",
       "    <tr style=\"text-align: right;\">\n",
       "      <th></th>\n",
       "      <th>consumer_id</th>\n",
       "      <th>product_preference</th>\n",
       "    </tr>\n",
       "  </thead>\n",
       "  <tbody>\n",
       "    <tr>\n",
       "      <th>0</th>\n",
       "      <td>1</td>\n",
       "      <td>Vegano</td>\n",
       "    </tr>\n",
       "    <tr>\n",
       "      <th>1</th>\n",
       "      <td>2</td>\n",
       "      <td>Ecológico</td>\n",
       "    </tr>\n",
       "    <tr>\n",
       "      <th>2</th>\n",
       "      <td>3</td>\n",
       "      <td>Sin Gluten</td>\n",
       "    </tr>\n",
       "    <tr>\n",
       "      <th>3</th>\n",
       "      <td>4</td>\n",
       "      <td>Normal</td>\n",
       "    </tr>\n",
       "    <tr>\n",
       "      <th>4</th>\n",
       "      <td>5</td>\n",
       "      <td>Ecológico</td>\n",
       "    </tr>\n",
       "  </tbody>\n",
       "</table>\n",
       "</div>"
      ],
      "text/plain": [
       "   consumer_id product_preference\n",
       "0            1             Vegano\n",
       "1            2          Ecológico\n",
       "2            3         Sin Gluten\n",
       "3            4             Normal\n",
       "4            5          Ecológico"
      ]
     },
     "execution_count": 5,
     "metadata": {},
     "output_type": "execute_result"
    }
   ],
   "source": [
    "df = pd.DataFrame(data)\n",
    "df.head()"
   ]
  },
  {
   "cell_type": "markdown",
   "metadata": {},
   "source": [
    "2- Cambiar el dtype de product_preference a categórico."
   ]
  },
  {
   "cell_type": "code",
   "execution_count": 12,
   "metadata": {},
   "outputs": [
    {
     "data": {
      "text/plain": [
       "consumer_id              int64\n",
       "product_preference    category\n",
       "dtype: object"
      ]
     },
     "execution_count": 12,
     "metadata": {},
     "output_type": "execute_result"
    }
   ],
   "source": [
    "# Convertir a categoría\n",
    "df['product_preference'] = df['product_preference'].astype('category')\n",
    "df.dtypes\n"
   ]
  },
  {
   "cell_type": "markdown",
   "metadata": {},
   "source": [
    "3- Medir el uso de memoria antes y después de convertir a categórico."
   ]
  },
  {
   "cell_type": "code",
   "execution_count": 6,
   "metadata": {},
   "outputs": [
    {
     "name": "stdout",
     "output_type": "stream",
     "text": [
      "Uso de memoria antes de convertir a categórico:\n",
      "Index                  132\n",
      "consumer_id            160\n",
      "product_preference    1384\n",
      "dtype: int64\n"
     ]
    }
   ],
   "source": [
    "# Medir el uso de memoria antes de convertir a categórico\n",
    "memory_before = df.memory_usage(deep=True)\n",
    "print(\"Uso de memoria antes de convertir a categórico:\")\n",
    "print(memory_before)"
   ]
  },
  {
   "cell_type": "code",
   "execution_count": 8,
   "metadata": {},
   "outputs": [
    {
     "name": "stdout",
     "output_type": "stream",
     "text": [
      "\n",
      "Uso de memoria después de convertir a categórico:\n",
      "Index                 132\n",
      "consumer_id           160\n",
      "product_preference    486\n",
      "dtype: int64\n"
     ]
    }
   ],
   "source": [
    "# Medir el uso de memoria después de convertir a categórico\n",
    "memory_after = df.memory_usage(deep=True)\n",
    "print(\"\\nUso de memoria después de convertir a categórico:\")\n",
    "print(memory_after)"
   ]
  },
  {
   "cell_type": "code",
   "execution_count": 11,
   "metadata": {},
   "outputs": [
    {
     "name": "stdout",
     "output_type": "stream",
     "text": [
      "\n",
      "Diferencia en el uso de memoria: 898 bytes\n"
     ]
    }
   ],
   "source": [
    "# Comparar el uso de memoria\n",
    "memory_difference = memory_before.sum() - memory_after.sum()\n",
    "print(f\"\\nDiferencia en el uso de memoria: {memory_difference} bytes\")\n"
   ]
  },
  {
   "cell_type": "markdown",
   "metadata": {},
   "source": [
    "4- Añadir dos categorías más: Orgánico y Keto."
   ]
  },
  {
   "cell_type": "code",
   "execution_count": 23,
   "metadata": {},
   "outputs": [],
   "source": [
    "# Añadir nuevas categorías\n",
    "df['product_preference'] = df['product_preference'].cat.add_categories(['Orgánico', 'Keto'])"
   ]
  },
  {
   "cell_type": "code",
   "execution_count": 25,
   "metadata": {},
   "outputs": [
    {
     "name": "stdout",
     "output_type": "stream",
     "text": [
      "Index(['Ecológico', 'Normal', 'Sin Gluten', 'Vegano', 'Orgánico', 'Keto'], dtype='object')\n"
     ]
    }
   ],
   "source": [
    "# Verificar las categorías añadidas\n",
    "print(df['product_preference'].cat.categories)"
   ]
  },
  {
   "cell_type": "markdown",
   "metadata": {},
   "source": [
    "5-Filtrar los datos para incluir solo preferencias 'Vegano' y 'Ecológico'"
   ]
  },
  {
   "cell_type": "code",
   "execution_count": 27,
   "metadata": {},
   "outputs": [
    {
     "name": "stdout",
     "output_type": "stream",
     "text": [
      "    consumer_id product_preference\n",
      "0             1             Vegano\n",
      "1             2          Ecológico\n",
      "4             5          Ecológico\n",
      "5             6             Vegano\n",
      "8             9             Vegano\n",
      "9            10          Ecológico\n",
      "11           12          Ecológico\n",
      "13           14             Vegano\n",
      "15           16             Vegano\n",
      "19           20             Vegano\n"
     ]
    }
   ],
   "source": [
    "# Filtrar los datos para incluir solo 'Vegano' y 'Ecológico'\n",
    "filtered_df = df[df['product_preference'].isin(['Vegano', 'Ecológico'])]\n",
    "\n",
    "# Mostrar el DataFrame filtrado\n",
    "print(filtered_df)"
   ]
  },
  {
   "cell_type": "markdown",
   "metadata": {},
   "source": [
    "6- Eliminar categorías no utilizadas en los datos filtrados."
   ]
  },
  {
   "cell_type": "code",
   "execution_count": 28,
   "metadata": {},
   "outputs": [
    {
     "name": "stdout",
     "output_type": "stream",
     "text": [
      "    consumer_id product_preference\n",
      "0             1             Vegano\n",
      "1             2          Ecológico\n",
      "4             5          Ecológico\n",
      "5             6             Vegano\n",
      "8             9             Vegano\n",
      "9            10          Ecológico\n",
      "11           12          Ecológico\n",
      "13           14             Vegano\n",
      "15           16             Vegano\n",
      "19           20             Vegano\n",
      "Index(['Ecológico', 'Vegano'], dtype='object')\n"
     ]
    },
    {
     "name": "stderr",
     "output_type": "stream",
     "text": [
      "C:\\Users\\nanaw\\AppData\\Local\\Temp\\ipykernel_23472\\695090473.py:2: SettingWithCopyWarning: \n",
      "A value is trying to be set on a copy of a slice from a DataFrame.\n",
      "Try using .loc[row_indexer,col_indexer] = value instead\n",
      "\n",
      "See the caveats in the documentation: https://pandas.pydata.org/pandas-docs/stable/user_guide/indexing.html#returning-a-view-versus-a-copy\n",
      "  filtered_df['product_preference'] = filtered_df['product_preference'].cat.remove_unused_categories()\n"
     ]
    }
   ],
   "source": [
    "# Eliminar categorías no utilizadas en los datos filtrados\n",
    "filtered_df['product_preference'] = filtered_df['product_preference'].cat.remove_unused_categories()\n",
    "\n",
    "# Mostrar el DataFrame filtrado y las categorías restantes\n",
    "print(filtered_df)\n",
    "print(filtered_df['product_preference'].cat.categories)"
   ]
  },
  {
   "cell_type": "markdown",
   "metadata": {},
   "source": [
    "7-Medir el tiempo de ejecución de value_counts() en la columna product_preference."
   ]
  },
  {
   "cell_type": "code",
   "execution_count": 31,
   "metadata": {},
   "outputs": [
    {
     "name": "stdout",
     "output_type": "stream",
     "text": [
      "Value counts:\n",
      " product_preference\n",
      "Normal        6\n",
      "Vegano        6\n",
      "Ecológico     4\n",
      "Sin Gluten    4\n",
      "Orgánico      0\n",
      "Keto          0\n",
      "Name: count, dtype: int64\n",
      "Tiempo de ejecución: 0.000569 segundos\n"
     ]
    }
   ],
   "source": [
    "# Medir el tiempo de ejecución de value_counts()\n",
    "start_time = time.time()\n",
    "counts = df['product_preference'].value_counts()\n",
    "end_time = time.time()\n",
    "\n",
    "# Mostrar los resultados\n",
    "print(\"Value counts:\\n\", counts)\n",
    "print(\"Tiempo de ejecución: {:.6f} segundos\".format(end_time - start_time))"
   ]
  },
  {
   "cell_type": "markdown",
   "metadata": {},
   "source": [
    "8- Reordenar las categorías en un orden específico."
   ]
  },
  {
   "cell_type": "code",
   "execution_count": 32,
   "metadata": {},
   "outputs": [
    {
     "name": "stdout",
     "output_type": "stream",
     "text": [
      "    consumer_id product_preference\n",
      "0             1             Vegano\n",
      "1             2          Ecológico\n",
      "2             3         Sin Gluten\n",
      "3             4             Normal\n",
      "4             5          Ecológico\n",
      "5             6             Vegano\n",
      "6             7             Normal\n",
      "7             8         Sin Gluten\n",
      "8             9             Vegano\n",
      "9            10          Ecológico\n",
      "10           11             Normal\n",
      "11           12          Ecológico\n",
      "12           13         Sin Gluten\n",
      "13           14             Vegano\n",
      "14           15             Normal\n",
      "15           16             Vegano\n",
      "16           17         Sin Gluten\n",
      "17           18             Normal\n",
      "18           19             Normal\n",
      "19           20             Vegano\n"
     ]
    }
   ],
   "source": [
    "# Reordenar las categorías en un orden específico\n",
    "df['product_preference'] = df['product_preference'].cat.reorder_categories(\n",
    "    ['Normal', 'Ecológico', 'Vegano', 'Sin Gluten', 'Orgánico', 'Keto'],\n",
    "    ordered=True\n",
    ")\n",
    "\n",
    "print(df)"
   ]
  },
  {
   "cell_type": "markdown",
   "metadata": {},
   "source": [
    "9- Obtener estadísticas descriptivas de la columna categórica."
   ]
  },
  {
   "cell_type": "code",
   "execution_count": 33,
   "metadata": {},
   "outputs": [
    {
     "name": "stdout",
     "output_type": "stream",
     "text": [
      "count         20\n",
      "unique         4\n",
      "top       Normal\n",
      "freq           6\n",
      "Name: product_preference, dtype: object\n"
     ]
    }
   ],
   "source": [
    "# Obtener estadísticas descriptivas de la columna categórica\n",
    "descriptive_stats = df['product_preference'].describe()\n",
    "\n",
    "print(descriptive_stats)"
   ]
  },
  {
   "cell_type": "markdown",
   "metadata": {},
   "source": [
    "count: 20: Esto indica que hay 20 valores en la columna product_preference. En otras palabras, hay 20 consumidores en tu DataFrame.\n",
    "unique: 4: Esto muestra que hay 4 categorías únicas en la columna product_preference. Las categorías únicas en tu caso son ‘Normal’, ‘Ecológico’, ‘Vegano’ y ‘Sin Gluten’. Aunque añadiste ‘Orgánico’ y ‘Keto’ como categorías, no hay consumidores que prefieran estos productos en los datos actuales.\n",
    "top: Normal: Esta es la categoría más frecuente en la columna product_preference. En este caso, ‘Normal’ es la preferencia de producto más común entre los consumidores.\n",
    "freq: 6: Esto indica la frecuencia de la categoría más común. Aquí, ‘Normal’ aparece 6 veces en la columna product_preference.\n",
    "En resumen, de los 20 consumidores, la mayoría (6) prefieren productos ‘Normales’, y hay un total de 4 categorías únicas representadas en los datos actuales."
   ]
  },
  {
   "cell_type": "markdown",
   "metadata": {},
   "source": [
    "10- Agrupar los datos por product_preference y contar el número de consumidores en cada categoría."
   ]
  },
  {
   "cell_type": "code",
   "execution_count": 34,
   "metadata": {},
   "outputs": [
    {
     "name": "stdout",
     "output_type": "stream",
     "text": [
      "  product_preference  count\n",
      "0             Normal      6\n",
      "1          Ecológico      4\n",
      "2             Vegano      6\n",
      "3         Sin Gluten      4\n",
      "4           Orgánico      0\n",
      "5               Keto      0\n"
     ]
    },
    {
     "name": "stderr",
     "output_type": "stream",
     "text": [
      "C:\\Users\\nanaw\\AppData\\Local\\Temp\\ipykernel_23472\\2268738724.py:2: FutureWarning: The default of observed=False is deprecated and will be changed to True in a future version of pandas. Pass observed=False to retain current behavior or observed=True to adopt the future default and silence this warning.\n",
      "  grouped_data = df.groupby('product_preference').size().reset_index(name='count')\n"
     ]
    }
   ],
   "source": [
    "# Agrupar los datos por product_preference y contar el número de consumidores en cada categoría\n",
    "grouped_data = df.groupby('product_preference').size().reset_index(name='count')\n",
    "\n",
    "print(grouped_data)"
   ]
  },
  {
   "cell_type": "markdown",
   "metadata": {},
   "source": [
    "11- Transformar categorías a números utilizando cat.codes."
   ]
  },
  {
   "cell_type": "code",
   "execution_count": 35,
   "metadata": {},
   "outputs": [
    {
     "name": "stdout",
     "output_type": "stream",
     "text": [
      "    consumer_id product_preference  product_preference_codes\n",
      "0             1             Vegano                         2\n",
      "1             2          Ecológico                         1\n",
      "2             3         Sin Gluten                         3\n",
      "3             4             Normal                         0\n",
      "4             5          Ecológico                         1\n",
      "5             6             Vegano                         2\n",
      "6             7             Normal                         0\n",
      "7             8         Sin Gluten                         3\n",
      "8             9             Vegano                         2\n",
      "9            10          Ecológico                         1\n",
      "10           11             Normal                         0\n",
      "11           12          Ecológico                         1\n",
      "12           13         Sin Gluten                         3\n",
      "13           14             Vegano                         2\n",
      "14           15             Normal                         0\n",
      "15           16             Vegano                         2\n",
      "16           17         Sin Gluten                         3\n",
      "17           18             Normal                         0\n",
      "18           19             Normal                         0\n",
      "19           20             Vegano                         2\n"
     ]
    }
   ],
   "source": [
    "# Transformar categorías a números utilizando cat.codes\n",
    "df['product_preference_codes'] = df['product_preference'].cat.codes\n",
    "\n",
    "print(df)"
   ]
  }
 ],
 "metadata": {
  "kernelspec": {
   "display_name": "Curso_Python",
   "language": "python",
   "name": "python3"
  },
  "language_info": {
   "codemirror_mode": {
    "name": "ipython",
    "version": 3
   },
   "file_extension": ".py",
   "mimetype": "text/x-python",
   "name": "python",
   "nbconvert_exporter": "python",
   "pygments_lexer": "ipython3",
   "version": "3.11.9"
  }
 },
 "nbformat": 4,
 "nbformat_minor": 2
}
