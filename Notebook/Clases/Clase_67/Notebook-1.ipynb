{
    "metadata": {
        "kernelspec": {
            "name": "SQL",
            "display_name": "SQL",
            "language": "sql"
        },
        "language_info": {
            "name": "sql",
            "version": ""
        }
    },
    "nbformat_minor": 2,
    "nbformat": 4,
    "cells": [
        {
            "cell_type": "code",
            "source": [
                "use AdventureWorks2019\r\n",
                "\r\n",
                "select\r\n",
                "\t year(t1.OrderDate) as 'año', \r\n",
                "\t month(t1.OrderDate) as 'mes',\r\n",
                "\t sum(t1.TotalDue) as 'ventas'\r\n",
                "from Sales.SalesOrderHeader as t1\r\n",
                "\tgroup by year(t1.OrderDate), month(t1.OrderDate) \r\n",
                "\torder by year(t1.OrderDate), month(t1.OrderDate)"
            ],
            "metadata": {
                "azdata_cell_guid": "7a73e923-9a47-44c0-b2a3-a9bd5e26346b",
                "language": "sql"
            },
            "outputs": [
                {
                    "output_type": "display_data",
                    "data": {
                        "text/html": "(38 rows affected)"
                    },
                    "metadata": {}
                },
                {
                    "output_type": "display_data",
                    "data": {
                        "text/html": "Total execution time: 00:00:00.133"
                    },
                    "metadata": {}
                },
                {
                    "output_type": "execute_result",
                    "execution_count": 3,
                    "data": {
                        "application/vnd.dataresource+json": {
                            "schema": {
                                "fields": [
                                    {
                                        "name": "año"
                                    },
                                    {
                                        "name": "mes"
                                    },
                                    {
                                        "name": "ventas"
                                    }
                                ]
                            },
                            "data": [
                                {
                                    "año": "2011",
                                    "mes": "5",
                                    "ventas": "567020,9498"
                                },
                                {
                                    "año": "2011",
                                    "mes": "6",
                                    "ventas": "507096,469"
                                },
                                {
                                    "año": "2011",
                                    "mes": "7",
                                    "ventas": "2292182,8828"
                                },
                                {
                                    "año": "2011",
                                    "mes": "8",
                                    "ventas": "2800576,1723"
                                },
                                {
                                    "año": "2011",
                                    "mes": "9",
                                    "ventas": "554791,6082"
                                },
                                {
                                    "año": "2011",
                                    "mes": "10",
                                    "ventas": "5156269,5291"
                                },
                                {
                                    "año": "2011",
                                    "mes": "11",
                                    "ventas": "815313,0152"
                                },
                                {
                                    "año": "2011",
                                    "mes": "12",
                                    "ventas": "1462448,8986"
                                },
                                {
                                    "año": "2012",
                                    "mes": "1",
                                    "ventas": "4458337,4444"
                                },
                                {
                                    "año": "2012",
                                    "mes": "2",
                                    "ventas": "1649051,9001"
                                },
                                {
                                    "año": "2012",
                                    "mes": "3",
                                    "ventas": "3336347,4716"
                                },
                                {
                                    "año": "2012",
                                    "mes": "4",
                                    "ventas": "1871923,5039"
                                },
                                {
                                    "año": "2012",
                                    "mes": "5",
                                    "ventas": "3452924,4537"
                                },
                                {
                                    "año": "2012",
                                    "mes": "6",
                                    "ventas": "4610647,2153"
                                },
                                {
                                    "año": "2012",
                                    "mes": "7",
                                    "ventas": "3840231,459"
                                },
                                {
                                    "año": "2012",
                                    "mes": "8",
                                    "ventas": "2442451,1831"
                                },
                                {
                                    "año": "2012",
                                    "mes": "9",
                                    "ventas": "3881724,186"
                                },
                                {
                                    "año": "2012",
                                    "mes": "10",
                                    "ventas": "2858060,197"
                                },
                                {
                                    "año": "2012",
                                    "mes": "11",
                                    "ventas": "2097153,1292"
                                },
                                {
                                    "año": "2012",
                                    "mes": "12",
                                    "ventas": "3176848,1687"
                                },
                                {
                                    "año": "2013",
                                    "mes": "1",
                                    "ventas": "2340061,5521"
                                },
                                {
                                    "año": "2013",
                                    "mes": "2",
                                    "ventas": "2600218,8667"
                                },
                                {
                                    "año": "2013",
                                    "mes": "3",
                                    "ventas": "3831605,9389"
                                },
                                {
                                    "año": "2013",
                                    "mes": "4",
                                    "ventas": "2840711,1734"
                                },
                                {
                                    "año": "2013",
                                    "mes": "5",
                                    "ventas": "3658084,9461"
                                },
                                {
                                    "año": "2013",
                                    "mes": "6",
                                    "ventas": "5726265,2635"
                                },
                                {
                                    "año": "2013",
                                    "mes": "7",
                                    "ventas": "5521840,8445"
                                },
                                {
                                    "año": "2013",
                                    "mes": "8",
                                    "ventas": "3733973,0032"
                                },
                                {
                                    "año": "2013",
                                    "mes": "9",
                                    "ventas": "5083505,3374"
                                },
                                {
                                    "año": "2013",
                                    "mes": "10",
                                    "ventas": "5374375,9418"
                                },
                                {
                                    "año": "2013",
                                    "mes": "11",
                                    "ventas": "3694667,9998"
                                },
                                {
                                    "año": "2013",
                                    "mes": "12",
                                    "ventas": "4560577,0958"
                                },
                                {
                                    "año": "2014",
                                    "mes": "1",
                                    "ventas": "4798027,8709"
                                },
                                {
                                    "año": "2014",
                                    "mes": "2",
                                    "ventas": "1478213,292"
                                },
                                {
                                    "año": "2014",
                                    "mes": "3",
                                    "ventas": "8097036,3137"
                                },
                                {
                                    "año": "2014",
                                    "mes": "4",
                                    "ventas": "1985886,1496"
                                },
                                {
                                    "año": "2014",
                                    "mes": "5",
                                    "ventas": "6006183,211"
                                },
                                {
                                    "año": "2014",
                                    "mes": "6",
                                    "ventas": "54151,4785"
                                }
                            ]
                        },
                        "text/html": "<table><tr><th>año</th><th>mes</th><th>ventas</th></tr><tr><td>2011</td><td>5</td><td>567020,9498</td></tr><tr><td>2011</td><td>6</td><td>507096,469</td></tr><tr><td>2011</td><td>7</td><td>2292182,8828</td></tr><tr><td>2011</td><td>8</td><td>2800576,1723</td></tr><tr><td>2011</td><td>9</td><td>554791,6082</td></tr><tr><td>2011</td><td>10</td><td>5156269,5291</td></tr><tr><td>2011</td><td>11</td><td>815313,0152</td></tr><tr><td>2011</td><td>12</td><td>1462448,8986</td></tr><tr><td>2012</td><td>1</td><td>4458337,4444</td></tr><tr><td>2012</td><td>2</td><td>1649051,9001</td></tr><tr><td>2012</td><td>3</td><td>3336347,4716</td></tr><tr><td>2012</td><td>4</td><td>1871923,5039</td></tr><tr><td>2012</td><td>5</td><td>3452924,4537</td></tr><tr><td>2012</td><td>6</td><td>4610647,2153</td></tr><tr><td>2012</td><td>7</td><td>3840231,459</td></tr><tr><td>2012</td><td>8</td><td>2442451,1831</td></tr><tr><td>2012</td><td>9</td><td>3881724,186</td></tr><tr><td>2012</td><td>10</td><td>2858060,197</td></tr><tr><td>2012</td><td>11</td><td>2097153,1292</td></tr><tr><td>2012</td><td>12</td><td>3176848,1687</td></tr><tr><td>2013</td><td>1</td><td>2340061,5521</td></tr><tr><td>2013</td><td>2</td><td>2600218,8667</td></tr><tr><td>2013</td><td>3</td><td>3831605,9389</td></tr><tr><td>2013</td><td>4</td><td>2840711,1734</td></tr><tr><td>2013</td><td>5</td><td>3658084,9461</td></tr><tr><td>2013</td><td>6</td><td>5726265,2635</td></tr><tr><td>2013</td><td>7</td><td>5521840,8445</td></tr><tr><td>2013</td><td>8</td><td>3733973,0032</td></tr><tr><td>2013</td><td>9</td><td>5083505,3374</td></tr><tr><td>2013</td><td>10</td><td>5374375,9418</td></tr><tr><td>2013</td><td>11</td><td>3694667,9998</td></tr><tr><td>2013</td><td>12</td><td>4560577,0958</td></tr><tr><td>2014</td><td>1</td><td>4798027,8709</td></tr><tr><td>2014</td><td>2</td><td>1478213,292</td></tr><tr><td>2014</td><td>3</td><td>8097036,3137</td></tr><tr><td>2014</td><td>4</td><td>1985886,1496</td></tr><tr><td>2014</td><td>5</td><td>6006183,211</td></tr><tr><td>2014</td><td>6</td><td>54151,4785</td></tr></table>"
                    },
                    "metadata": {}
                }
            ],
            "execution_count": 3
        },
        {
            "cell_type": "code",
            "source": [
                "SELECT\r\n",
                "    E.BusinessEntityID AS EmployeeID,\r\n",
                "    YEAR(SOH.OrderDate) AS Year,\r\n",
                "    SUM(SOD.LineTotal) AS TotalSales,\r\n",
                "    SUM(SQH.SalesQuota) AS TotalQuota\r\n",
                "FROM\r\n",
                "    Sales.SalesOrderHeader SOH\r\n",
                "JOIN\r\n",
                "    Sales.SalesOrderDetail SOD ON SOH.SalesOrderID = SOD.SalesOrderID\r\n",
                "JOIN\r\n",
                "    HumanResources.Employee E ON SOH.SalesPersonID = E.BusinessEntityID\r\n",
                "LEFT JOIN\r\n",
                "    Sales.SalesPersonQuotaHistory SQH ON E.BusinessEntityID = SQH.BusinessEntityID\r\n",
                "    AND YEAR(SOH.OrderDate) = YEAR(SQH.QuotaDate)\r\n",
                "GROUP BY\r\n",
                "    E.BusinessEntityID,\r\n",
                "    YEAR(SOH.OrderDate)\r\n",
                "ORDER BY\r\n",
                "    E.BusinessEntityID,\r\n",
                "    YEAR(SOH.OrderDate);"
            ],
            "metadata": {
                "azdata_cell_guid": "0579a4c8-fbfd-412f-add5-10d1fa513428",
                "language": "sql"
            },
            "outputs": [
                {
                    "output_type": "display_data",
                    "data": {
                        "text/html": "(58 rows affected)"
                    },
                    "metadata": {}
                },
                {
                    "output_type": "display_data",
                    "data": {
                        "text/html": "Total execution time: 00:00:00.513"
                    },
                    "metadata": {}
                },
                {
                    "output_type": "execute_result",
                    "execution_count": 17,
                    "data": {
                        "application/vnd.dataresource+json": {
                            "schema": {
                                "fields": [
                                    {
                                        "name": "EmployeeID"
                                    },
                                    {
                                        "name": "Year"
                                    },
                                    {
                                        "name": "TotalSales"
                                    },
                                    {
                                        "name": "TotalQuota"
                                    }
                                ]
                            },
                            "data": [
                                {
                                    "EmployeeID": "274",
                                    "Year": "2011",
                                    "TotalSales": "86778.739500",
                                    "TotalQuota": "2142000,00"
                                },
                                {
                                    "EmployeeID": "274",
                                    "Year": "2012",
                                    "TotalSales": "1814098.093132",
                                    "TotalQuota": "136590000,00"
                                },
                                {
                                    "EmployeeID": "274",
                                    "Year": "2013",
                                    "TotalSales": "1724354.894636",
                                    "TotalQuota": "147964000,00"
                                },
                                {
                                    "EmployeeID": "274",
                                    "Year": "2014",
                                    "TotalSales": "178584.362508",
                                    "TotalQuota": "37587000,00"
                                },
                                {
                                    "EmployeeID": "275",
                                    "Year": "2011",
                                    "TotalSales": "2627471.495520",
                                    "TotalQuota": "887775000,00"
                                },
                                {
                                    "EmployeeID": "275",
                                    "Year": "2012",
                                    "TotalSales": "13501827.578144",
                                    "TotalQuota": "9910656000,00"
                                },
                                {
                                    "EmployeeID": "275",
                                    "Year": "2013",
                                    "TotalSales": "15941499.597812",
                                    "TotalQuota": "14822340000,00"
                                },
                                {
                                    "EmployeeID": "275",
                                    "Year": "2014",
                                    "TotalSales": "1057247.378572",
                                    "TotalQuota": "802087000,00"
                                },
                                {
                                    "EmployeeID": "276",
                                    "Year": "2011",
                                    "TotalSales": "3449145.975900",
                                    "TotalQuota": "989425000,00"
                                },
                                {
                                    "EmployeeID": "276",
                                    "Year": "2012",
                                    "TotalSales": "15339634.695688",
                                    "TotalQuota": "9823609000,00"
                                },
                                {
                                    "EmployeeID": "276",
                                    "Year": "2013",
                                    "TotalSales": "16445179.621400",
                                    "TotalQuota": "14624316000,00"
                                },
                                {
                                    "EmployeeID": "276",
                                    "Year": "2014",
                                    "TotalSales": "1271088.521461",
                                    "TotalQuota": "1110512000,00"
                                },
                                {
                                    "EmployeeID": "277",
                                    "Year": "2011",
                                    "TotalSales": "3934881.875538",
                                    "TotalQuota": "1792155000,00"
                                },
                                {
                                    "EmployeeID": "277",
                                    "Year": "2012",
                                    "TotalSales": "17269226.296820",
                                    "TotalQuota": "13299372000,00"
                                },
                                {
                                    "EmployeeID": "277",
                                    "Year": "2013",
                                    "TotalSales": "13587105.069160",
                                    "TotalQuota": "13553800000,00"
                                },
                                {
                                    "EmployeeID": "277",
                                    "Year": "2014",
                                    "TotalSales": "1040093.406901",
                                    "TotalQuota": "973516000,00"
                                },
                                {
                                    "EmployeeID": "278",
                                    "Year": "2011",
                                    "TotalSales": "1500275.460600",
                                    "TotalQuota": "245944000,00"
                                },
                                {
                                    "EmployeeID": "278",
                                    "Year": "2012",
                                    "TotalSales": "5134278.517400",
                                    "TotalQuota": "1587394000,00"
                                },
                                {
                                    "EmployeeID": "278",
                                    "Year": "2013",
                                    "TotalSales": "5559347.240160",
                                    "TotalQuota": "2352702000,00"
                                },
                                {
                                    "EmployeeID": "278",
                                    "Year": "2014",
                                    "TotalSales": "435948.955166",
                                    "TotalQuota": "189930000,00"
                                },
                                {
                                    "EmployeeID": "279",
                                    "Year": "2011",
                                    "TotalSales": "4563867.564204",
                                    "TotalQuota": "1554462000,00"
                                },
                                {
                                    "EmployeeID": "279",
                                    "Year": "2012",
                                    "TotalSales": "10697745.405676",
                                    "TotalQuota": "5284926000,00"
                                },
                                {
                                    "EmployeeID": "279",
                                    "Year": "2013",
                                    "TotalSales": "8752331.123256",
                                    "TotalQuota": "5945890000,00"
                                },
                                {
                                    "EmployeeID": "279",
                                    "Year": "2014",
                                    "TotalSales": "787204.428840",
                                    "TotalQuota": "457562000,00"
                                },
                                {
                                    "EmployeeID": "280",
                                    "Year": "2011",
                                    "TotalSales": "1945456.758600",
                                    "TotalQuota": "245154000,00"
                                },
                                {
                                    "EmployeeID": "280",
                                    "Year": "2012",
                                    "TotalSales": "4833057.533148",
                                    "TotalQuota": "733257000,00"
                                },
                                {
                                    "EmployeeID": "280",
                                    "Year": "2013",
                                    "TotalSales": "3853682.321808",
                                    "TotalQuota": "920504000,00"
                                },
                                {
                                    "EmployeeID": "280",
                                    "Year": "2014",
                                    "TotalSales": "504932.044040",
                                    "TotalQuota": "121290000,00"
                                },
                                {
                                    "EmployeeID": "281",
                                    "Year": "2011",
                                    "TotalSales": "2902791.869778",
                                    "TotalQuota": "706914000,00"
                                },
                                {
                                    "EmployeeID": "281",
                                    "Year": "2012",
                                    "TotalSales": "9176842.201872",
                                    "TotalQuota": "4170040000,00"
                                },
                                {
                                    "EmployeeID": "281",
                                    "Year": "2013",
                                    "TotalSales": "9549024.245888",
                                    "TotalQuota": "5419872000,00"
                                },
                                {
                                    "EmployeeID": "281",
                                    "Year": "2014",
                                    "TotalSales": "777941.652023",
                                    "TotalQuota": "463360000,00"
                                },
                                {
                                    "EmployeeID": "282",
                                    "Year": "2011",
                                    "TotalSales": "3525022.425972",
                                    "TotalQuota": "1320000000,00"
                                },
                                {
                                    "EmployeeID": "282",
                                    "Year": "2012",
                                    "TotalSales": "7342863.481072",
                                    "TotalQuota": "2401080000,00"
                                },
                                {
                                    "EmployeeID": "282",
                                    "Year": "2013",
                                    "TotalSales": "7483536.727864",
                                    "TotalQuota": "4175028000,00"
                                },
                                {
                                    "EmployeeID": "282",
                                    "Year": "2014",
                                    "TotalSales": "1044810.827687",
                                    "TotalQuota": "656530000,00"
                                },
                                {
                                    "EmployeeID": "283",
                                    "Year": "2011",
                                    "TotalSales": "1799963.833050",
                                    "TotalQuota": "188980000,00"
                                },
                                {
                                    "EmployeeID": "283",
                                    "Year": "2012",
                                    "TotalSales": "5152274.893908",
                                    "TotalQuota": "920322000,00"
                                },
                                {
                                    "EmployeeID": "283",
                                    "Year": "2013",
                                    "TotalSales": "5405689.448092",
                                    "TotalQuota": "1446471000,00"
                                },
                                {
                                    "EmployeeID": "283",
                                    "Year": "2014",
                                    "TotalSales": "490466.318915",
                                    "TotalQuota": "135005000,00"
                                },
                                {
                                    "EmployeeID": "284",
                                    "Year": "2012",
                                    "TotalSales": "883279.192152",
                                    "TotalQuota": "225750000,00"
                                },
                                {
                                    "EmployeeID": "284",
                                    "Year": "2013",
                                    "TotalSales": "5079635.694052",
                                    "TotalQuota": "1769780000,00"
                                },
                                {
                                    "EmployeeID": "284",
                                    "Year": "2014",
                                    "TotalSales": "600997.170358",
                                    "TotalQuota": "222656000,00"
                                },
                                {
                                    "EmployeeID": "285",
                                    "Year": "2013",
                                    "TotalSales": "453771.345225",
                                    "TotalQuota": "39022000,00"
                                },
                                {
                                    "EmployeeID": "285",
                                    "Year": "2014",
                                    "TotalSales": "21267.336000",
                                    "TotalQuota": "702000,00"
                                },
                                {
                                    "EmployeeID": "286",
                                    "Year": "2013",
                                    "TotalSales": "2508165.369942",
                                    "TotalQuota": "1096356000,00"
                                },
                                {
                                    "EmployeeID": "286",
                                    "Year": "2014",
                                    "TotalSales": "585755.800528",
                                    "TotalQuota": "253442000,00"
                                },
                                {
                                    "EmployeeID": "287",
                                    "Year": "2012",
                                    "TotalSales": "348088.955964",
                                    "TotalQuota": "14523000,00"
                                },
                                {
                                    "EmployeeID": "287",
                                    "Year": "2013",
                                    "TotalSales": "2240367.137028",
                                    "TotalQuota": "332502000,00"
                                },
                                {
                                    "EmployeeID": "287",
                                    "Year": "2014",
                                    "TotalSales": "56637.747800",
                                    "TotalQuota": "30000,00"
                                },
                                {
                                    "EmployeeID": "288",
                                    "Year": "2013",
                                    "TotalSales": "3736376.338680",
                                    "TotalQuota": "2030180000,00"
                                },
                                {
                                    "EmployeeID": "288",
                                    "Year": "2014",
                                    "TotalSales": "581607.932181",
                                    "TotalQuota": "351120000,00"
                                },
                                {
                                    "EmployeeID": "289",
                                    "Year": "2012",
                                    "TotalSales": "9042834.140760",
                                    "TotalQuota": "9216402000,00"
                                },
                                {
                                    "EmployeeID": "289",
                                    "Year": "2013",
                                    "TotalSales": "16424256.058224",
                                    "TotalQuota": "17005841000,00"
                                },
                                {
                                    "EmployeeID": "289",
                                    "Year": "2014",
                                    "TotalSales": "1382996.583910",
                                    "TotalQuota": "1523034000,00"
                                },
                                {
                                    "EmployeeID": "290",
                                    "Year": "2012",
                                    "TotalSales": "2988875.723805",
                                    "TotalQuota": "944725000,00"
                                },
                                {
                                    "EmployeeID": "290",
                                    "Year": "2013",
                                    "TotalSales": "10584313.635364",
                                    "TotalQuota": "6805120000,00"
                                },
                                {
                                    "EmployeeID": "290",
                                    "Year": "2014",
                                    "TotalSales": "867518.613975",
                                    "TotalQuota": "599280000,00"
                                }
                            ]
                        },
                        "text/html": "<table><tr><th>EmployeeID</th><th>Year</th><th>TotalSales</th><th>TotalQuota</th></tr><tr><td>274</td><td>2011</td><td>86778.739500</td><td>2142000,00</td></tr><tr><td>274</td><td>2012</td><td>1814098.093132</td><td>136590000,00</td></tr><tr><td>274</td><td>2013</td><td>1724354.894636</td><td>147964000,00</td></tr><tr><td>274</td><td>2014</td><td>178584.362508</td><td>37587000,00</td></tr><tr><td>275</td><td>2011</td><td>2627471.495520</td><td>887775000,00</td></tr><tr><td>275</td><td>2012</td><td>13501827.578144</td><td>9910656000,00</td></tr><tr><td>275</td><td>2013</td><td>15941499.597812</td><td>14822340000,00</td></tr><tr><td>275</td><td>2014</td><td>1057247.378572</td><td>802087000,00</td></tr><tr><td>276</td><td>2011</td><td>3449145.975900</td><td>989425000,00</td></tr><tr><td>276</td><td>2012</td><td>15339634.695688</td><td>9823609000,00</td></tr><tr><td>276</td><td>2013</td><td>16445179.621400</td><td>14624316000,00</td></tr><tr><td>276</td><td>2014</td><td>1271088.521461</td><td>1110512000,00</td></tr><tr><td>277</td><td>2011</td><td>3934881.875538</td><td>1792155000,00</td></tr><tr><td>277</td><td>2012</td><td>17269226.296820</td><td>13299372000,00</td></tr><tr><td>277</td><td>2013</td><td>13587105.069160</td><td>13553800000,00</td></tr><tr><td>277</td><td>2014</td><td>1040093.406901</td><td>973516000,00</td></tr><tr><td>278</td><td>2011</td><td>1500275.460600</td><td>245944000,00</td></tr><tr><td>278</td><td>2012</td><td>5134278.517400</td><td>1587394000,00</td></tr><tr><td>278</td><td>2013</td><td>5559347.240160</td><td>2352702000,00</td></tr><tr><td>278</td><td>2014</td><td>435948.955166</td><td>189930000,00</td></tr><tr><td>279</td><td>2011</td><td>4563867.564204</td><td>1554462000,00</td></tr><tr><td>279</td><td>2012</td><td>10697745.405676</td><td>5284926000,00</td></tr><tr><td>279</td><td>2013</td><td>8752331.123256</td><td>5945890000,00</td></tr><tr><td>279</td><td>2014</td><td>787204.428840</td><td>457562000,00</td></tr><tr><td>280</td><td>2011</td><td>1945456.758600</td><td>245154000,00</td></tr><tr><td>280</td><td>2012</td><td>4833057.533148</td><td>733257000,00</td></tr><tr><td>280</td><td>2013</td><td>3853682.321808</td><td>920504000,00</td></tr><tr><td>280</td><td>2014</td><td>504932.044040</td><td>121290000,00</td></tr><tr><td>281</td><td>2011</td><td>2902791.869778</td><td>706914000,00</td></tr><tr><td>281</td><td>2012</td><td>9176842.201872</td><td>4170040000,00</td></tr><tr><td>281</td><td>2013</td><td>9549024.245888</td><td>5419872000,00</td></tr><tr><td>281</td><td>2014</td><td>777941.652023</td><td>463360000,00</td></tr><tr><td>282</td><td>2011</td><td>3525022.425972</td><td>1320000000,00</td></tr><tr><td>282</td><td>2012</td><td>7342863.481072</td><td>2401080000,00</td></tr><tr><td>282</td><td>2013</td><td>7483536.727864</td><td>4175028000,00</td></tr><tr><td>282</td><td>2014</td><td>1044810.827687</td><td>656530000,00</td></tr><tr><td>283</td><td>2011</td><td>1799963.833050</td><td>188980000,00</td></tr><tr><td>283</td><td>2012</td><td>5152274.893908</td><td>920322000,00</td></tr><tr><td>283</td><td>2013</td><td>5405689.448092</td><td>1446471000,00</td></tr><tr><td>283</td><td>2014</td><td>490466.318915</td><td>135005000,00</td></tr><tr><td>284</td><td>2012</td><td>883279.192152</td><td>225750000,00</td></tr><tr><td>284</td><td>2013</td><td>5079635.694052</td><td>1769780000,00</td></tr><tr><td>284</td><td>2014</td><td>600997.170358</td><td>222656000,00</td></tr><tr><td>285</td><td>2013</td><td>453771.345225</td><td>39022000,00</td></tr><tr><td>285</td><td>2014</td><td>21267.336000</td><td>702000,00</td></tr><tr><td>286</td><td>2013</td><td>2508165.369942</td><td>1096356000,00</td></tr><tr><td>286</td><td>2014</td><td>585755.800528</td><td>253442000,00</td></tr><tr><td>287</td><td>2012</td><td>348088.955964</td><td>14523000,00</td></tr><tr><td>287</td><td>2013</td><td>2240367.137028</td><td>332502000,00</td></tr><tr><td>287</td><td>2014</td><td>56637.747800</td><td>30000,00</td></tr><tr><td>288</td><td>2013</td><td>3736376.338680</td><td>2030180000,00</td></tr><tr><td>288</td><td>2014</td><td>581607.932181</td><td>351120000,00</td></tr><tr><td>289</td><td>2012</td><td>9042834.140760</td><td>9216402000,00</td></tr><tr><td>289</td><td>2013</td><td>16424256.058224</td><td>17005841000,00</td></tr><tr><td>289</td><td>2014</td><td>1382996.583910</td><td>1523034000,00</td></tr><tr><td>290</td><td>2012</td><td>2988875.723805</td><td>944725000,00</td></tr><tr><td>290</td><td>2013</td><td>10584313.635364</td><td>6805120000,00</td></tr><tr><td>290</td><td>2014</td><td>867518.613975</td><td>599280000,00</td></tr></table>"
                    },
                    "metadata": {}
                }
            ],
            "execution_count": 17
        }
    ]
}