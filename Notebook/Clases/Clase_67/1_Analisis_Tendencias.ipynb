{
 "cells": [
  {
   "cell_type": "markdown",
   "id": "1f183e6d",
   "metadata": {},
   "source": [
    "# Análisis Descriptivo: Análisis de Tendencias de las ventas del negocio"
   ]
  },
  {
   "cell_type": "markdown",
   "id": "845a8c2e",
   "metadata": {},
   "source": [
    "El análisis de tendencia es una técnica estadística que se utiliza para identificar patrones o tendencias en un conjunto de datos a lo largo del tiempo. El análisis de tendencia es utilizado para predecir la dirección futura del comportamiento de los datos basándose en su comportamiento pasado."
   ]
  },
  {
   "cell_type": "markdown",
   "id": "ce99ea90",
   "metadata": {},
   "source": [
    "### Carga de las librerías de pyhton necesarias"
   ]
  },
  {
   "cell_type": "code",
   "execution_count": 3,
   "id": "5a2d004e",
   "metadata": {},
   "outputs": [
    {
     "name": "stdout",
     "output_type": "stream",
     "text": [
      "Requirement already satisfied: seaborn in c:\\users\\nanaw\\anaconda3\\envs\\curso_python\\lib\\site-packages (0.13.2)\n",
      "Requirement already satisfied: numpy!=1.24.0,>=1.20 in c:\\users\\nanaw\\anaconda3\\envs\\curso_python\\lib\\site-packages (from seaborn) (2.0.0)\n",
      "Requirement already satisfied: pandas>=1.2 in c:\\users\\nanaw\\anaconda3\\envs\\curso_python\\lib\\site-packages (from seaborn) (2.2.2)\n",
      "Requirement already satisfied: matplotlib!=3.6.1,>=3.4 in c:\\users\\nanaw\\anaconda3\\envs\\curso_python\\lib\\site-packages (from seaborn) (3.9.0)\n",
      "Requirement already satisfied: contourpy>=1.0.1 in c:\\users\\nanaw\\anaconda3\\envs\\curso_python\\lib\\site-packages (from matplotlib!=3.6.1,>=3.4->seaborn) (1.2.1)\n",
      "Requirement already satisfied: cycler>=0.10 in c:\\users\\nanaw\\anaconda3\\envs\\curso_python\\lib\\site-packages (from matplotlib!=3.6.1,>=3.4->seaborn) (0.12.1)\n",
      "Requirement already satisfied: fonttools>=4.22.0 in c:\\users\\nanaw\\anaconda3\\envs\\curso_python\\lib\\site-packages (from matplotlib!=3.6.1,>=3.4->seaborn) (4.53.0)\n",
      "Requirement already satisfied: kiwisolver>=1.3.1 in c:\\users\\nanaw\\anaconda3\\envs\\curso_python\\lib\\site-packages (from matplotlib!=3.6.1,>=3.4->seaborn) (1.4.5)\n",
      "Requirement already satisfied: packaging>=20.0 in c:\\users\\nanaw\\anaconda3\\envs\\curso_python\\lib\\site-packages (from matplotlib!=3.6.1,>=3.4->seaborn) (23.2)\n",
      "Requirement already satisfied: pillow>=8 in c:\\users\\nanaw\\anaconda3\\envs\\curso_python\\lib\\site-packages (from matplotlib!=3.6.1,>=3.4->seaborn) (10.4.0)\n",
      "Requirement already satisfied: pyparsing>=2.3.1 in c:\\users\\nanaw\\anaconda3\\envs\\curso_python\\lib\\site-packages (from matplotlib!=3.6.1,>=3.4->seaborn) (3.1.2)\n",
      "Requirement already satisfied: python-dateutil>=2.7 in c:\\users\\nanaw\\anaconda3\\envs\\curso_python\\lib\\site-packages (from matplotlib!=3.6.1,>=3.4->seaborn) (2.8.2)\n",
      "Requirement already satisfied: pytz>=2020.1 in c:\\users\\nanaw\\anaconda3\\envs\\curso_python\\lib\\site-packages (from pandas>=1.2->seaborn) (2024.1)\n",
      "Requirement already satisfied: tzdata>=2022.7 in c:\\users\\nanaw\\anaconda3\\envs\\curso_python\\lib\\site-packages (from pandas>=1.2->seaborn) (2024.1)\n",
      "Requirement already satisfied: six>=1.5 in c:\\users\\nanaw\\anaconda3\\envs\\curso_python\\lib\\site-packages (from python-dateutil>=2.7->matplotlib!=3.6.1,>=3.4->seaborn) (1.16.0)\n"
     ]
    }
   ],
   "source": [
    "!pip install seaborn"
   ]
  },
  {
   "cell_type": "code",
   "execution_count": 4,
   "id": "6435daaf",
   "metadata": {},
   "outputs": [],
   "source": [
    "# Debe instalar las librerias necesarias antes del import\n",
    "import pyodbc\n",
    "import pandas as pd\n",
    "import numpy as np\n",
    "import matplotlib.pyplot as plt\n",
    "import seaborn as sns\n",
    "\n",
    "plt.rcParams['figure.figsize'] = [12, 8]\n",
    "\n",
    "pd.options.display.float_format = '{:.2f}'.format"
   ]
  },
  {
   "cell_type": "markdown",
   "id": "da98587a",
   "metadata": {},
   "source": [
    "Las librerías de Python son conjuntos de código predefinidos que se utilizan para realizar tareas específicas en el lenguaje de programación Python.\n",
    "Las librerías se utilizan para diferentes propósitos, como manipulación de datos, análisis de datos, visualización de datos, aprendizaje automático, desarrollo web, entre otros. "
   ]
  },
  {
   "cell_type": "markdown",
   "id": "90dc0f21",
   "metadata": {},
   "source": [
    "### Conexión a SQL Server y extracción de los datos"
   ]
  },
  {
   "cell_type": "markdown",
   "id": "3a5fcc80-13a9-4b50-86d7-1abf901bf94f",
   "metadata": {},
   "source": [
    "- Explique línea a línea el código mostrado abajo. Debe explicar tambien la query. Puede probar aparte la query desde Azure Data Studio o directamente desde SQL Server Managment Studio."
   ]
  },
  {
   "cell_type": "code",
   "execution_count": 3,
   "id": "e4087e9c",
   "metadata": {},
   "outputs": [
    {
     "name": "stderr",
     "output_type": "stream",
     "text": [
      "C:\\Users\\nanaw\\AppData\\Local\\Temp\\ipykernel_12540\\1963310288.py:12: UserWarning: pandas only supports SQLAlchemy connectable (engine/connection) or database string URI or sqlite3 DBAPI2 connection. Other DBAPI2 objects are not tested. Please consider using SQLAlchemy.\n",
      "  ventas = pd.read_sql(input_query, conn_str)\n"
     ]
    }
   ],
   "source": [
    "conn_str = pyodbc.connect('Driver={SQL Server};' 'Server=ANGELICA_RIOS_G;''Database=AdventureWorks2019;''Trusted_Connection=yes;')\n",
    "# En Server=BALRODJJ debes colocar el nombre de tu base de datos.\n",
    "# Lo demás se deja igual\n",
    "input_query = '''select\n",
    "\t year(t1.OrderDate) as 'año',  \n",
    "\t month(t1.OrderDate) as 'mes',\n",
    "\t sum(t1.TotalDue) as 'ventas'\n",
    "from Sales.SalesOrderHeader as t1\n",
    "\tgroup by year(t1.OrderDate), month(t1.OrderDate) \n",
    "\torder by year(t1.OrderDate), month(t1.OrderDate)'''\n",
    "\n",
    "ventas = pd.read_sql(input_query, conn_str)"
   ]
  },
  {
   "cell_type": "markdown",
   "id": "ef63ce39",
   "metadata": {},
   "source": [
    "- 1.  conn_str = pyodbc.connect('Driver={SQL Server};' 'Server=ANGELICA_RIOS_G;''Database=AdventureWorks2019;''Trusted_Connection=yes;'): Esta línea crea una conexión a una base de datos SQL Server utilizando la biblioteca pyodbc. Veamos los detalles:\n",
    "- 'Driver={SQL Server};': Aquí se especifica el controlador (driver) que se utilizará para conectarse a SQL Server.\n",
    "- 'Server=ANGELICA_RIOS_G;': Indica el nombre del servidor SQL al que se conectará. En este caso, el servidor se llama “ANGELICA_RIOS_G”.\n",
    "- 'Database=AdventureWorks2019;': Especifica la base de datos a la que se accederá. En este ejemplo, se utiliza la base de datos “AdventureWorks2019”.\n",
    "- 'Trusted_Connection=yes;': Esta parte indica que se utilizará una conexión de confianza (trusted connection), lo que significa que se autenticará automáticamente utilizando las credenciales del usuario actual.\n",
    "# En Server=BALRODJJ debes colocar el: Este comentario sugiere que debes reemplazar “ANGELICA_RIOS_G” con el nombre de tu propio servidor SQL en la línea anterior. Por lo tanto, si tienes un servidor llamado “BALRODJJ”, debes modificar la cadena de conexión para que se ajuste a tu configuración específica.\n",
    "En resumen, el código establece una conexión a una base de datos SQL Server llamada “AdventureWorks2019” en el servidor “ANGELICA_RIOS_G”, utilizando una conexión de confianza. Si deseas utilizar otro servidor, simplemente cambia el nombre en la cadena de conexión"
   ]
  },
  {
   "cell_type": "markdown",
   "id": "e91c7c4e",
   "metadata": {},
   "source": [
    "# Explicación Query: \n",
    "1. year(t1.OrderDate) as 'año': Esta parte extrae el año de la columna OrderDate y lo nombra como ‘año’.\n",
    "2. month(t1.OrderDate) as 'mes': Aquí se obtiene el mes de la misma columna y se le asigna el alias ‘mes’.\n",
    "3. sum(t1.TotalDue) as 'ventas': Calcula la suma de los valores en la columna TotalDue y la etiqueta como ‘ventas’.\n",
    "4. from Sales.SalesOrderHeader as t1: Indica que los datos provienen de la tabla SalesOrderHeader y se le asigna el alias t1.\n",
    "5. group by year(t1.OrderDate), month(t1.OrderDate): Agrupa los resultados por año y mes.\n",
    "6. order by year(t1.OrderDate), month(t1.OrderDate): Ordena los resultados en orden ascendente por año y mes.\n",
    "Esta consulta recopila datos de la tabla SalesOrderHeader, calcula las ventas totales por mes y año, y los presenta en un formato tabular. Luego, el resultado se carga en un DataFrame de pandas llamado ventas."
   ]
  },
  {
   "cell_type": "code",
   "execution_count": 4,
   "id": "13b7d255-5adb-438b-b2aa-1b37c8f7caae",
   "metadata": {},
   "outputs": [
    {
     "data": {
      "text/html": [
       "<div>\n",
       "<style scoped>\n",
       "    .dataframe tbody tr th:only-of-type {\n",
       "        vertical-align: middle;\n",
       "    }\n",
       "\n",
       "    .dataframe tbody tr th {\n",
       "        vertical-align: top;\n",
       "    }\n",
       "\n",
       "    .dataframe thead th {\n",
       "        text-align: right;\n",
       "    }\n",
       "</style>\n",
       "<table border=\"1\" class=\"dataframe\">\n",
       "  <thead>\n",
       "    <tr style=\"text-align: right;\">\n",
       "      <th></th>\n",
       "      <th>año</th>\n",
       "      <th>mes</th>\n",
       "      <th>ventas</th>\n",
       "    </tr>\n",
       "  </thead>\n",
       "  <tbody>\n",
       "    <tr>\n",
       "      <th>0</th>\n",
       "      <td>2011</td>\n",
       "      <td>5</td>\n",
       "      <td>567020.95</td>\n",
       "    </tr>\n",
       "    <tr>\n",
       "      <th>1</th>\n",
       "      <td>2011</td>\n",
       "      <td>6</td>\n",
       "      <td>507096.47</td>\n",
       "    </tr>\n",
       "    <tr>\n",
       "      <th>2</th>\n",
       "      <td>2011</td>\n",
       "      <td>7</td>\n",
       "      <td>2292182.88</td>\n",
       "    </tr>\n",
       "    <tr>\n",
       "      <th>3</th>\n",
       "      <td>2011</td>\n",
       "      <td>8</td>\n",
       "      <td>2800576.17</td>\n",
       "    </tr>\n",
       "    <tr>\n",
       "      <th>4</th>\n",
       "      <td>2011</td>\n",
       "      <td>9</td>\n",
       "      <td>554791.61</td>\n",
       "    </tr>\n",
       "    <tr>\n",
       "      <th>5</th>\n",
       "      <td>2011</td>\n",
       "      <td>10</td>\n",
       "      <td>5156269.53</td>\n",
       "    </tr>\n",
       "    <tr>\n",
       "      <th>6</th>\n",
       "      <td>2011</td>\n",
       "      <td>11</td>\n",
       "      <td>815313.02</td>\n",
       "    </tr>\n",
       "    <tr>\n",
       "      <th>7</th>\n",
       "      <td>2011</td>\n",
       "      <td>12</td>\n",
       "      <td>1462448.90</td>\n",
       "    </tr>\n",
       "    <tr>\n",
       "      <th>8</th>\n",
       "      <td>2012</td>\n",
       "      <td>1</td>\n",
       "      <td>4458337.44</td>\n",
       "    </tr>\n",
       "    <tr>\n",
       "      <th>9</th>\n",
       "      <td>2012</td>\n",
       "      <td>2</td>\n",
       "      <td>1649051.90</td>\n",
       "    </tr>\n",
       "    <tr>\n",
       "      <th>10</th>\n",
       "      <td>2012</td>\n",
       "      <td>3</td>\n",
       "      <td>3336347.47</td>\n",
       "    </tr>\n",
       "    <tr>\n",
       "      <th>11</th>\n",
       "      <td>2012</td>\n",
       "      <td>4</td>\n",
       "      <td>1871923.50</td>\n",
       "    </tr>\n",
       "    <tr>\n",
       "      <th>12</th>\n",
       "      <td>2012</td>\n",
       "      <td>5</td>\n",
       "      <td>3452924.45</td>\n",
       "    </tr>\n",
       "    <tr>\n",
       "      <th>13</th>\n",
       "      <td>2012</td>\n",
       "      <td>6</td>\n",
       "      <td>4610647.22</td>\n",
       "    </tr>\n",
       "    <tr>\n",
       "      <th>14</th>\n",
       "      <td>2012</td>\n",
       "      <td>7</td>\n",
       "      <td>3840231.46</td>\n",
       "    </tr>\n",
       "    <tr>\n",
       "      <th>15</th>\n",
       "      <td>2012</td>\n",
       "      <td>8</td>\n",
       "      <td>2442451.18</td>\n",
       "    </tr>\n",
       "    <tr>\n",
       "      <th>16</th>\n",
       "      <td>2012</td>\n",
       "      <td>9</td>\n",
       "      <td>3881724.19</td>\n",
       "    </tr>\n",
       "    <tr>\n",
       "      <th>17</th>\n",
       "      <td>2012</td>\n",
       "      <td>10</td>\n",
       "      <td>2858060.20</td>\n",
       "    </tr>\n",
       "    <tr>\n",
       "      <th>18</th>\n",
       "      <td>2012</td>\n",
       "      <td>11</td>\n",
       "      <td>2097153.13</td>\n",
       "    </tr>\n",
       "    <tr>\n",
       "      <th>19</th>\n",
       "      <td>2012</td>\n",
       "      <td>12</td>\n",
       "      <td>3176848.17</td>\n",
       "    </tr>\n",
       "    <tr>\n",
       "      <th>20</th>\n",
       "      <td>2013</td>\n",
       "      <td>1</td>\n",
       "      <td>2340061.55</td>\n",
       "    </tr>\n",
       "    <tr>\n",
       "      <th>21</th>\n",
       "      <td>2013</td>\n",
       "      <td>2</td>\n",
       "      <td>2600218.87</td>\n",
       "    </tr>\n",
       "    <tr>\n",
       "      <th>22</th>\n",
       "      <td>2013</td>\n",
       "      <td>3</td>\n",
       "      <td>3831605.94</td>\n",
       "    </tr>\n",
       "    <tr>\n",
       "      <th>23</th>\n",
       "      <td>2013</td>\n",
       "      <td>4</td>\n",
       "      <td>2840711.17</td>\n",
       "    </tr>\n",
       "    <tr>\n",
       "      <th>24</th>\n",
       "      <td>2013</td>\n",
       "      <td>5</td>\n",
       "      <td>3658084.95</td>\n",
       "    </tr>\n",
       "    <tr>\n",
       "      <th>25</th>\n",
       "      <td>2013</td>\n",
       "      <td>6</td>\n",
       "      <td>5726265.26</td>\n",
       "    </tr>\n",
       "    <tr>\n",
       "      <th>26</th>\n",
       "      <td>2013</td>\n",
       "      <td>7</td>\n",
       "      <td>5521840.84</td>\n",
       "    </tr>\n",
       "    <tr>\n",
       "      <th>27</th>\n",
       "      <td>2013</td>\n",
       "      <td>8</td>\n",
       "      <td>3733973.00</td>\n",
       "    </tr>\n",
       "    <tr>\n",
       "      <th>28</th>\n",
       "      <td>2013</td>\n",
       "      <td>9</td>\n",
       "      <td>5083505.34</td>\n",
       "    </tr>\n",
       "    <tr>\n",
       "      <th>29</th>\n",
       "      <td>2013</td>\n",
       "      <td>10</td>\n",
       "      <td>5374375.94</td>\n",
       "    </tr>\n",
       "    <tr>\n",
       "      <th>30</th>\n",
       "      <td>2013</td>\n",
       "      <td>11</td>\n",
       "      <td>3694668.00</td>\n",
       "    </tr>\n",
       "    <tr>\n",
       "      <th>31</th>\n",
       "      <td>2013</td>\n",
       "      <td>12</td>\n",
       "      <td>4560577.10</td>\n",
       "    </tr>\n",
       "    <tr>\n",
       "      <th>32</th>\n",
       "      <td>2014</td>\n",
       "      <td>1</td>\n",
       "      <td>4798027.87</td>\n",
       "    </tr>\n",
       "    <tr>\n",
       "      <th>33</th>\n",
       "      <td>2014</td>\n",
       "      <td>2</td>\n",
       "      <td>1478213.29</td>\n",
       "    </tr>\n",
       "    <tr>\n",
       "      <th>34</th>\n",
       "      <td>2014</td>\n",
       "      <td>3</td>\n",
       "      <td>8097036.31</td>\n",
       "    </tr>\n",
       "    <tr>\n",
       "      <th>35</th>\n",
       "      <td>2014</td>\n",
       "      <td>4</td>\n",
       "      <td>1985886.15</td>\n",
       "    </tr>\n",
       "    <tr>\n",
       "      <th>36</th>\n",
       "      <td>2014</td>\n",
       "      <td>5</td>\n",
       "      <td>6006183.21</td>\n",
       "    </tr>\n",
       "    <tr>\n",
       "      <th>37</th>\n",
       "      <td>2014</td>\n",
       "      <td>6</td>\n",
       "      <td>54151.48</td>\n",
       "    </tr>\n",
       "  </tbody>\n",
       "</table>\n",
       "</div>"
      ],
      "text/plain": [
       "     año  mes     ventas\n",
       "0   2011    5  567020.95\n",
       "1   2011    6  507096.47\n",
       "2   2011    7 2292182.88\n",
       "3   2011    8 2800576.17\n",
       "4   2011    9  554791.61\n",
       "5   2011   10 5156269.53\n",
       "6   2011   11  815313.02\n",
       "7   2011   12 1462448.90\n",
       "8   2012    1 4458337.44\n",
       "9   2012    2 1649051.90\n",
       "10  2012    3 3336347.47\n",
       "11  2012    4 1871923.50\n",
       "12  2012    5 3452924.45\n",
       "13  2012    6 4610647.22\n",
       "14  2012    7 3840231.46\n",
       "15  2012    8 2442451.18\n",
       "16  2012    9 3881724.19\n",
       "17  2012   10 2858060.20\n",
       "18  2012   11 2097153.13\n",
       "19  2012   12 3176848.17\n",
       "20  2013    1 2340061.55\n",
       "21  2013    2 2600218.87\n",
       "22  2013    3 3831605.94\n",
       "23  2013    4 2840711.17\n",
       "24  2013    5 3658084.95\n",
       "25  2013    6 5726265.26\n",
       "26  2013    7 5521840.84\n",
       "27  2013    8 3733973.00\n",
       "28  2013    9 5083505.34\n",
       "29  2013   10 5374375.94\n",
       "30  2013   11 3694668.00\n",
       "31  2013   12 4560577.10\n",
       "32  2014    1 4798027.87\n",
       "33  2014    2 1478213.29\n",
       "34  2014    3 8097036.31\n",
       "35  2014    4 1985886.15\n",
       "36  2014    5 6006183.21\n",
       "37  2014    6   54151.48"
      ]
     },
     "execution_count": 4,
     "metadata": {},
     "output_type": "execute_result"
    }
   ],
   "source": [
    "ventas"
   ]
  },
  {
   "cell_type": "markdown",
   "id": "388977fd-209b-4651-8def-76e32ac8bdcf",
   "metadata": {},
   "source": [
    "### El código **no** da error, sin embargo imprime un `warning` donde se sugiere el uso de `SQLAlchemy` en vez de `pyodbc`. Investigue como se hace la conexión a SQL Server con SQLAlchemy utilizando la misma base de datos , pruebe con la misma query anterior, guardar los resultados en un nuevo dataframe usando read_sql e imprima la tabla. Explicar linea por linea el código utilizado."
   ]
  },
  {
   "cell_type": "code",
   "execution_count": 2,
   "id": "1a3f734a",
   "metadata": {},
   "outputs": [
    {
     "name": "stdout",
     "output_type": "stream",
     "text": [
      "Requirement already satisfied: sqlalchemy in c:\\users\\nanaw\\anaconda3\\envs\\curso_python\\lib\\site-packages (2.0.31)\n",
      "Requirement already satisfied: pyodbc in c:\\users\\nanaw\\anaconda3\\envs\\curso_python\\lib\\site-packages (5.1.0)\n",
      "Requirement already satisfied: typing-extensions>=4.6.0 in c:\\users\\nanaw\\anaconda3\\envs\\curso_python\\lib\\site-packages (from sqlalchemy) (4.11.0)\n",
      "Requirement already satisfied: greenlet!=0.4.17 in c:\\users\\nanaw\\anaconda3\\envs\\curso_python\\lib\\site-packages (from sqlalchemy) (3.0.3)\n"
     ]
    }
   ],
   "source": [
    "!pip install sqlalchemy pyodbc"
   ]
  },
  {
   "cell_type": "code",
   "execution_count": 5,
   "id": "bacd924b",
   "metadata": {},
   "outputs": [
    {
     "name": "stdout",
     "output_type": "stream",
     "text": [
      "     año  mes     ventas\n",
      "0   2011    5  567020.95\n",
      "1   2011    6  507096.47\n",
      "2   2011    7 2292182.88\n",
      "3   2011    8 2800576.17\n",
      "4   2011    9  554791.61\n",
      "5   2011   10 5156269.53\n",
      "6   2011   11  815313.02\n",
      "7   2011   12 1462448.90\n",
      "8   2012    1 4458337.44\n",
      "9   2012    2 1649051.90\n",
      "10  2012    3 3336347.47\n",
      "11  2012    4 1871923.50\n",
      "12  2012    5 3452924.45\n",
      "13  2012    6 4610647.22\n",
      "14  2012    7 3840231.46\n",
      "15  2012    8 2442451.18\n",
      "16  2012    9 3881724.19\n",
      "17  2012   10 2858060.20\n",
      "18  2012   11 2097153.13\n",
      "19  2012   12 3176848.17\n",
      "20  2013    1 2340061.55\n",
      "21  2013    2 2600218.87\n",
      "22  2013    3 3831605.94\n",
      "23  2013    4 2840711.17\n",
      "24  2013    5 3658084.95\n",
      "25  2013    6 5726265.26\n",
      "26  2013    7 5521840.84\n",
      "27  2013    8 3733973.00\n",
      "28  2013    9 5083505.34\n",
      "29  2013   10 5374375.94\n",
      "30  2013   11 3694668.00\n",
      "31  2013   12 4560577.10\n",
      "32  2014    1 4798027.87\n",
      "33  2014    2 1478213.29\n",
      "34  2014    3 8097036.31\n",
      "35  2014    4 1985886.15\n",
      "36  2014    5 6006183.21\n",
      "37  2014    6   54151.48\n"
     ]
    }
   ],
   "source": [
    "from sqlalchemy import create_engine\n",
    "import pandas as pd\n",
    "\n",
    "# Crear la cadena de conexión usando SQLALchemy\n",
    "engine = create_engine('mssql+pyodbc://ANGELICA_RIOS_G/AdventureWorks2019?driver=SQL+Server&trusted_connection=yes')\n",
    "\n",
    "# Definir la consulta SQL\n",
    "input_query = '''\n",
    "SELECT\n",
    "    YEAR(t1.OrderDate) AS 'año',\n",
    "    MONTH(t1.OrderDate) AS 'mes',\n",
    "    SUM(t1.TotalDue) AS 'ventas'\n",
    "FROM Sales.SalesOrderHeader AS t1\n",
    "GROUP BY YEAR(t1.OrderDate), MONTH(t1.OrderDate)\n",
    "ORDER BY YEAR(t1.OrderDate), MONTH(t1.OrderDate)\n",
    "'''\n",
    "# Ejecutar la consulta y leer los datos en una DataFrame \n",
    "ventas = pd.read_sql(input_query, engine)\n",
    "\n",
    "# Mostrar el DataFrame\n",
    "print(ventas)\n"
   ]
  },
  {
   "cell_type": "code",
   "execution_count": 6,
   "id": "74579cb2",
   "metadata": {},
   "outputs": [
    {
     "data": {
      "text/html": [
       "<div>\n",
       "<style scoped>\n",
       "    .dataframe tbody tr th:only-of-type {\n",
       "        vertical-align: middle;\n",
       "    }\n",
       "\n",
       "    .dataframe tbody tr th {\n",
       "        vertical-align: top;\n",
       "    }\n",
       "\n",
       "    .dataframe thead th {\n",
       "        text-align: right;\n",
       "    }\n",
       "</style>\n",
       "<table border=\"1\" class=\"dataframe\">\n",
       "  <thead>\n",
       "    <tr style=\"text-align: right;\">\n",
       "      <th></th>\n",
       "      <th>año</th>\n",
       "      <th>mes</th>\n",
       "      <th>ventas</th>\n",
       "    </tr>\n",
       "  </thead>\n",
       "  <tbody>\n",
       "    <tr>\n",
       "      <th>0</th>\n",
       "      <td>2011</td>\n",
       "      <td>5</td>\n",
       "      <td>567020.95</td>\n",
       "    </tr>\n",
       "    <tr>\n",
       "      <th>1</th>\n",
       "      <td>2011</td>\n",
       "      <td>6</td>\n",
       "      <td>507096.47</td>\n",
       "    </tr>\n",
       "    <tr>\n",
       "      <th>2</th>\n",
       "      <td>2011</td>\n",
       "      <td>7</td>\n",
       "      <td>2292182.88</td>\n",
       "    </tr>\n",
       "    <tr>\n",
       "      <th>3</th>\n",
       "      <td>2011</td>\n",
       "      <td>8</td>\n",
       "      <td>2800576.17</td>\n",
       "    </tr>\n",
       "    <tr>\n",
       "      <th>4</th>\n",
       "      <td>2011</td>\n",
       "      <td>9</td>\n",
       "      <td>554791.61</td>\n",
       "    </tr>\n",
       "    <tr>\n",
       "      <th>5</th>\n",
       "      <td>2011</td>\n",
       "      <td>10</td>\n",
       "      <td>5156269.53</td>\n",
       "    </tr>\n",
       "    <tr>\n",
       "      <th>6</th>\n",
       "      <td>2011</td>\n",
       "      <td>11</td>\n",
       "      <td>815313.02</td>\n",
       "    </tr>\n",
       "    <tr>\n",
       "      <th>7</th>\n",
       "      <td>2011</td>\n",
       "      <td>12</td>\n",
       "      <td>1462448.90</td>\n",
       "    </tr>\n",
       "    <tr>\n",
       "      <th>8</th>\n",
       "      <td>2012</td>\n",
       "      <td>1</td>\n",
       "      <td>4458337.44</td>\n",
       "    </tr>\n",
       "    <tr>\n",
       "      <th>9</th>\n",
       "      <td>2012</td>\n",
       "      <td>2</td>\n",
       "      <td>1649051.90</td>\n",
       "    </tr>\n",
       "    <tr>\n",
       "      <th>10</th>\n",
       "      <td>2012</td>\n",
       "      <td>3</td>\n",
       "      <td>3336347.47</td>\n",
       "    </tr>\n",
       "    <tr>\n",
       "      <th>11</th>\n",
       "      <td>2012</td>\n",
       "      <td>4</td>\n",
       "      <td>1871923.50</td>\n",
       "    </tr>\n",
       "    <tr>\n",
       "      <th>12</th>\n",
       "      <td>2012</td>\n",
       "      <td>5</td>\n",
       "      <td>3452924.45</td>\n",
       "    </tr>\n",
       "    <tr>\n",
       "      <th>13</th>\n",
       "      <td>2012</td>\n",
       "      <td>6</td>\n",
       "      <td>4610647.22</td>\n",
       "    </tr>\n",
       "    <tr>\n",
       "      <th>14</th>\n",
       "      <td>2012</td>\n",
       "      <td>7</td>\n",
       "      <td>3840231.46</td>\n",
       "    </tr>\n",
       "    <tr>\n",
       "      <th>15</th>\n",
       "      <td>2012</td>\n",
       "      <td>8</td>\n",
       "      <td>2442451.18</td>\n",
       "    </tr>\n",
       "    <tr>\n",
       "      <th>16</th>\n",
       "      <td>2012</td>\n",
       "      <td>9</td>\n",
       "      <td>3881724.19</td>\n",
       "    </tr>\n",
       "    <tr>\n",
       "      <th>17</th>\n",
       "      <td>2012</td>\n",
       "      <td>10</td>\n",
       "      <td>2858060.20</td>\n",
       "    </tr>\n",
       "    <tr>\n",
       "      <th>18</th>\n",
       "      <td>2012</td>\n",
       "      <td>11</td>\n",
       "      <td>2097153.13</td>\n",
       "    </tr>\n",
       "    <tr>\n",
       "      <th>19</th>\n",
       "      <td>2012</td>\n",
       "      <td>12</td>\n",
       "      <td>3176848.17</td>\n",
       "    </tr>\n",
       "    <tr>\n",
       "      <th>20</th>\n",
       "      <td>2013</td>\n",
       "      <td>1</td>\n",
       "      <td>2340061.55</td>\n",
       "    </tr>\n",
       "    <tr>\n",
       "      <th>21</th>\n",
       "      <td>2013</td>\n",
       "      <td>2</td>\n",
       "      <td>2600218.87</td>\n",
       "    </tr>\n",
       "    <tr>\n",
       "      <th>22</th>\n",
       "      <td>2013</td>\n",
       "      <td>3</td>\n",
       "      <td>3831605.94</td>\n",
       "    </tr>\n",
       "    <tr>\n",
       "      <th>23</th>\n",
       "      <td>2013</td>\n",
       "      <td>4</td>\n",
       "      <td>2840711.17</td>\n",
       "    </tr>\n",
       "    <tr>\n",
       "      <th>24</th>\n",
       "      <td>2013</td>\n",
       "      <td>5</td>\n",
       "      <td>3658084.95</td>\n",
       "    </tr>\n",
       "    <tr>\n",
       "      <th>25</th>\n",
       "      <td>2013</td>\n",
       "      <td>6</td>\n",
       "      <td>5726265.26</td>\n",
       "    </tr>\n",
       "    <tr>\n",
       "      <th>26</th>\n",
       "      <td>2013</td>\n",
       "      <td>7</td>\n",
       "      <td>5521840.84</td>\n",
       "    </tr>\n",
       "    <tr>\n",
       "      <th>27</th>\n",
       "      <td>2013</td>\n",
       "      <td>8</td>\n",
       "      <td>3733973.00</td>\n",
       "    </tr>\n",
       "    <tr>\n",
       "      <th>28</th>\n",
       "      <td>2013</td>\n",
       "      <td>9</td>\n",
       "      <td>5083505.34</td>\n",
       "    </tr>\n",
       "    <tr>\n",
       "      <th>29</th>\n",
       "      <td>2013</td>\n",
       "      <td>10</td>\n",
       "      <td>5374375.94</td>\n",
       "    </tr>\n",
       "    <tr>\n",
       "      <th>30</th>\n",
       "      <td>2013</td>\n",
       "      <td>11</td>\n",
       "      <td>3694668.00</td>\n",
       "    </tr>\n",
       "    <tr>\n",
       "      <th>31</th>\n",
       "      <td>2013</td>\n",
       "      <td>12</td>\n",
       "      <td>4560577.10</td>\n",
       "    </tr>\n",
       "    <tr>\n",
       "      <th>32</th>\n",
       "      <td>2014</td>\n",
       "      <td>1</td>\n",
       "      <td>4798027.87</td>\n",
       "    </tr>\n",
       "    <tr>\n",
       "      <th>33</th>\n",
       "      <td>2014</td>\n",
       "      <td>2</td>\n",
       "      <td>1478213.29</td>\n",
       "    </tr>\n",
       "    <tr>\n",
       "      <th>34</th>\n",
       "      <td>2014</td>\n",
       "      <td>3</td>\n",
       "      <td>8097036.31</td>\n",
       "    </tr>\n",
       "    <tr>\n",
       "      <th>35</th>\n",
       "      <td>2014</td>\n",
       "      <td>4</td>\n",
       "      <td>1985886.15</td>\n",
       "    </tr>\n",
       "    <tr>\n",
       "      <th>36</th>\n",
       "      <td>2014</td>\n",
       "      <td>5</td>\n",
       "      <td>6006183.21</td>\n",
       "    </tr>\n",
       "    <tr>\n",
       "      <th>37</th>\n",
       "      <td>2014</td>\n",
       "      <td>6</td>\n",
       "      <td>54151.48</td>\n",
       "    </tr>\n",
       "  </tbody>\n",
       "</table>\n",
       "</div>"
      ],
      "text/plain": [
       "     año  mes     ventas\n",
       "0   2011    5  567020.95\n",
       "1   2011    6  507096.47\n",
       "2   2011    7 2292182.88\n",
       "3   2011    8 2800576.17\n",
       "4   2011    9  554791.61\n",
       "5   2011   10 5156269.53\n",
       "6   2011   11  815313.02\n",
       "7   2011   12 1462448.90\n",
       "8   2012    1 4458337.44\n",
       "9   2012    2 1649051.90\n",
       "10  2012    3 3336347.47\n",
       "11  2012    4 1871923.50\n",
       "12  2012    5 3452924.45\n",
       "13  2012    6 4610647.22\n",
       "14  2012    7 3840231.46\n",
       "15  2012    8 2442451.18\n",
       "16  2012    9 3881724.19\n",
       "17  2012   10 2858060.20\n",
       "18  2012   11 2097153.13\n",
       "19  2012   12 3176848.17\n",
       "20  2013    1 2340061.55\n",
       "21  2013    2 2600218.87\n",
       "22  2013    3 3831605.94\n",
       "23  2013    4 2840711.17\n",
       "24  2013    5 3658084.95\n",
       "25  2013    6 5726265.26\n",
       "26  2013    7 5521840.84\n",
       "27  2013    8 3733973.00\n",
       "28  2013    9 5083505.34\n",
       "29  2013   10 5374375.94\n",
       "30  2013   11 3694668.00\n",
       "31  2013   12 4560577.10\n",
       "32  2014    1 4798027.87\n",
       "33  2014    2 1478213.29\n",
       "34  2014    3 8097036.31\n",
       "35  2014    4 1985886.15\n",
       "36  2014    5 6006183.21\n",
       "37  2014    6   54151.48"
      ]
     },
     "execution_count": 6,
     "metadata": {},
     "output_type": "execute_result"
    }
   ],
   "source": [
    "ventas"
   ]
  },
  {
   "cell_type": "markdown",
   "id": "f0b853a6",
   "metadata": {},
   "source": [
    "### Exploración del dataset extraído (ventas)"
   ]
  },
  {
   "cell_type": "markdown",
   "id": "4f1fc40a-cf45-40e9-9603-7d484f4249ab",
   "metadata": {},
   "source": [
    "- Muestre la información general del dataframe (info):"
   ]
  },
  {
   "cell_type": "code",
   "execution_count": 9,
   "id": "3fa02ca6-461b-4620-bbb8-1a37104e88db",
   "metadata": {},
   "outputs": [
    {
     "name": "stdout",
     "output_type": "stream",
     "text": [
      "<class 'pandas.core.frame.DataFrame'>\n",
      "RangeIndex: 38 entries, 0 to 37\n",
      "Data columns (total 3 columns):\n",
      " #   Column  Non-Null Count  Dtype  \n",
      "---  ------  --------------  -----  \n",
      " 0   año     38 non-null     int64  \n",
      " 1   mes     38 non-null     int64  \n",
      " 2   ventas  38 non-null     float64\n",
      "dtypes: float64(1), int64(2)\n",
      "memory usage: 1.0 KB\n"
     ]
    }
   ],
   "source": [
    "ventas.info()"
   ]
  },
  {
   "cell_type": "markdown",
   "id": "efeec6ef-c877-4eb3-8af1-b94a526f2c0a",
   "metadata": {},
   "source": [
    "- Imprima un resumen de las principales estadisticas descriptivas para el dataframe ventas: count, mean, std, min, 25%,  50%, 75%, max. Explique e interprete la salida. "
   ]
  },
  {
   "cell_type": "code",
   "execution_count": 11,
   "id": "51cf8eb7-ec4f-405f-8010-34d44a8d8c6d",
   "metadata": {},
   "outputs": [
    {
     "name": "stdout",
     "output_type": "stream",
     "text": [
      "\n",
      " Resumen de las principales estadisticas descriptivas\n"
     ]
    },
    {
     "data": {
      "text/plain": [
       "count        38.00\n",
       "mean    3242547.00\n",
       "std     1787700.91\n",
       "min       54151.48\n",
       "25%     2013702.89\n",
       "50%     3256597.82\n",
       "75%     4535017.18\n",
       "max     8097036.31\n",
       "Name: ventas, dtype: float64"
      ]
     },
     "execution_count": 11,
     "metadata": {},
     "output_type": "execute_result"
    }
   ],
   "source": [
    "ventas_resumen = ventas[\"ventas\"].describe()\n",
    "print(\"\\n Resumen de las principales estadisticas descriptivas\")\n",
    "ventas_resumen"
   ]
  },
  {
   "cell_type": "markdown",
   "id": "4c9d4057",
   "metadata": {},
   "source": [
    "- Mostrar las dimensiones del dataset"
   ]
  },
  {
   "cell_type": "code",
   "execution_count": 19,
   "id": "75770ef7-8983-46ff-8bf8-78bedfd5a4e3",
   "metadata": {},
   "outputs": [
    {
     "name": "stdout",
     "output_type": "stream",
     "text": [
      "(38, 3)\n",
      "38\n",
      "114\n",
      "2\n"
     ]
    }
   ],
   "source": [
    "print(ventas.shape) #Tupla con número de filas y el número de columnas DataFrame\n",
    "print(len(ventas))  # Se obtiene el número de filas\n",
    "print(ventas.size)  #  Se obtiene el número de elementos de la dataFrame 38 x3\n",
    "print(ventas.ndim) # Se ve el número de dimensiones de la DataFrame"
   ]
  },
  {
   "cell_type": "markdown",
   "id": "bca68806-3b0f-4901-b6c7-726f0fd9325d",
   "metadata": {},
   "source": [
    "- Imprimir en un objeto tipo Index todas las columnas del dataframe"
   ]
  },
  {
   "cell_type": "code",
   "execution_count": 24,
   "id": "c5741cbe",
   "metadata": {},
   "outputs": [
    {
     "name": "stdout",
     "output_type": "stream",
     "text": [
      "Index(['año', 'mes', 'ventas'], dtype='object')\n"
     ]
    }
   ],
   "source": [
    "indices_columnas = ventas.columns\n",
    "print(indices_columnas)"
   ]
  },
  {
   "cell_type": "markdown",
   "id": "f9eaa9b4-86cc-446b-8666-b53af01e4cac",
   "metadata": {},
   "source": [
    "- Muestre el contenido de las primeras 15 líneas del dataframe"
   ]
  },
  {
   "cell_type": "code",
   "execution_count": 25,
   "id": "10ff1751-8639-4a88-ba8b-a61b9d4858f0",
   "metadata": {},
   "outputs": [
    {
     "data": {
      "text/html": [
       "<div>\n",
       "<style scoped>\n",
       "    .dataframe tbody tr th:only-of-type {\n",
       "        vertical-align: middle;\n",
       "    }\n",
       "\n",
       "    .dataframe tbody tr th {\n",
       "        vertical-align: top;\n",
       "    }\n",
       "\n",
       "    .dataframe thead th {\n",
       "        text-align: right;\n",
       "    }\n",
       "</style>\n",
       "<table border=\"1\" class=\"dataframe\">\n",
       "  <thead>\n",
       "    <tr style=\"text-align: right;\">\n",
       "      <th></th>\n",
       "      <th>año</th>\n",
       "      <th>mes</th>\n",
       "      <th>ventas</th>\n",
       "    </tr>\n",
       "  </thead>\n",
       "  <tbody>\n",
       "    <tr>\n",
       "      <th>0</th>\n",
       "      <td>2011</td>\n",
       "      <td>5</td>\n",
       "      <td>567020.95</td>\n",
       "    </tr>\n",
       "    <tr>\n",
       "      <th>1</th>\n",
       "      <td>2011</td>\n",
       "      <td>6</td>\n",
       "      <td>507096.47</td>\n",
       "    </tr>\n",
       "    <tr>\n",
       "      <th>2</th>\n",
       "      <td>2011</td>\n",
       "      <td>7</td>\n",
       "      <td>2292182.88</td>\n",
       "    </tr>\n",
       "    <tr>\n",
       "      <th>3</th>\n",
       "      <td>2011</td>\n",
       "      <td>8</td>\n",
       "      <td>2800576.17</td>\n",
       "    </tr>\n",
       "    <tr>\n",
       "      <th>4</th>\n",
       "      <td>2011</td>\n",
       "      <td>9</td>\n",
       "      <td>554791.61</td>\n",
       "    </tr>\n",
       "    <tr>\n",
       "      <th>5</th>\n",
       "      <td>2011</td>\n",
       "      <td>10</td>\n",
       "      <td>5156269.53</td>\n",
       "    </tr>\n",
       "    <tr>\n",
       "      <th>6</th>\n",
       "      <td>2011</td>\n",
       "      <td>11</td>\n",
       "      <td>815313.02</td>\n",
       "    </tr>\n",
       "    <tr>\n",
       "      <th>7</th>\n",
       "      <td>2011</td>\n",
       "      <td>12</td>\n",
       "      <td>1462448.90</td>\n",
       "    </tr>\n",
       "    <tr>\n",
       "      <th>8</th>\n",
       "      <td>2012</td>\n",
       "      <td>1</td>\n",
       "      <td>4458337.44</td>\n",
       "    </tr>\n",
       "    <tr>\n",
       "      <th>9</th>\n",
       "      <td>2012</td>\n",
       "      <td>2</td>\n",
       "      <td>1649051.90</td>\n",
       "    </tr>\n",
       "    <tr>\n",
       "      <th>10</th>\n",
       "      <td>2012</td>\n",
       "      <td>3</td>\n",
       "      <td>3336347.47</td>\n",
       "    </tr>\n",
       "    <tr>\n",
       "      <th>11</th>\n",
       "      <td>2012</td>\n",
       "      <td>4</td>\n",
       "      <td>1871923.50</td>\n",
       "    </tr>\n",
       "    <tr>\n",
       "      <th>12</th>\n",
       "      <td>2012</td>\n",
       "      <td>5</td>\n",
       "      <td>3452924.45</td>\n",
       "    </tr>\n",
       "    <tr>\n",
       "      <th>13</th>\n",
       "      <td>2012</td>\n",
       "      <td>6</td>\n",
       "      <td>4610647.22</td>\n",
       "    </tr>\n",
       "    <tr>\n",
       "      <th>14</th>\n",
       "      <td>2012</td>\n",
       "      <td>7</td>\n",
       "      <td>3840231.46</td>\n",
       "    </tr>\n",
       "  </tbody>\n",
       "</table>\n",
       "</div>"
      ],
      "text/plain": [
       "     año  mes     ventas\n",
       "0   2011    5  567020.95\n",
       "1   2011    6  507096.47\n",
       "2   2011    7 2292182.88\n",
       "3   2011    8 2800576.17\n",
       "4   2011    9  554791.61\n",
       "5   2011   10 5156269.53\n",
       "6   2011   11  815313.02\n",
       "7   2011   12 1462448.90\n",
       "8   2012    1 4458337.44\n",
       "9   2012    2 1649051.90\n",
       "10  2012    3 3336347.47\n",
       "11  2012    4 1871923.50\n",
       "12  2012    5 3452924.45\n",
       "13  2012    6 4610647.22\n",
       "14  2012    7 3840231.46"
      ]
     },
     "execution_count": 25,
     "metadata": {},
     "output_type": "execute_result"
    }
   ],
   "source": [
    "ventas_primeras_15 = ventas.iloc[:15]\n",
    "ventas_primeras_15 "
   ]
  },
  {
   "cell_type": "markdown",
   "id": "901cb91c-e275-46b8-9953-8f9f012ec6f2",
   "metadata": {},
   "source": [
    "- Muestre las últimas cinco líneas del dataframe"
   ]
  },
  {
   "cell_type": "code",
   "execution_count": 27,
   "id": "8ac42a65-3500-411d-9c35-1950327a956d",
   "metadata": {},
   "outputs": [
    {
     "data": {
      "text/html": [
       "<div>\n",
       "<style scoped>\n",
       "    .dataframe tbody tr th:only-of-type {\n",
       "        vertical-align: middle;\n",
       "    }\n",
       "\n",
       "    .dataframe tbody tr th {\n",
       "        vertical-align: top;\n",
       "    }\n",
       "\n",
       "    .dataframe thead th {\n",
       "        text-align: right;\n",
       "    }\n",
       "</style>\n",
       "<table border=\"1\" class=\"dataframe\">\n",
       "  <thead>\n",
       "    <tr style=\"text-align: right;\">\n",
       "      <th></th>\n",
       "      <th>año</th>\n",
       "      <th>mes</th>\n",
       "      <th>ventas</th>\n",
       "    </tr>\n",
       "  </thead>\n",
       "  <tbody>\n",
       "    <tr>\n",
       "      <th>23</th>\n",
       "      <td>2013</td>\n",
       "      <td>4</td>\n",
       "      <td>2840711.17</td>\n",
       "    </tr>\n",
       "    <tr>\n",
       "      <th>24</th>\n",
       "      <td>2013</td>\n",
       "      <td>5</td>\n",
       "      <td>3658084.95</td>\n",
       "    </tr>\n",
       "    <tr>\n",
       "      <th>25</th>\n",
       "      <td>2013</td>\n",
       "      <td>6</td>\n",
       "      <td>5726265.26</td>\n",
       "    </tr>\n",
       "    <tr>\n",
       "      <th>26</th>\n",
       "      <td>2013</td>\n",
       "      <td>7</td>\n",
       "      <td>5521840.84</td>\n",
       "    </tr>\n",
       "    <tr>\n",
       "      <th>27</th>\n",
       "      <td>2013</td>\n",
       "      <td>8</td>\n",
       "      <td>3733973.00</td>\n",
       "    </tr>\n",
       "    <tr>\n",
       "      <th>28</th>\n",
       "      <td>2013</td>\n",
       "      <td>9</td>\n",
       "      <td>5083505.34</td>\n",
       "    </tr>\n",
       "    <tr>\n",
       "      <th>29</th>\n",
       "      <td>2013</td>\n",
       "      <td>10</td>\n",
       "      <td>5374375.94</td>\n",
       "    </tr>\n",
       "    <tr>\n",
       "      <th>30</th>\n",
       "      <td>2013</td>\n",
       "      <td>11</td>\n",
       "      <td>3694668.00</td>\n",
       "    </tr>\n",
       "    <tr>\n",
       "      <th>31</th>\n",
       "      <td>2013</td>\n",
       "      <td>12</td>\n",
       "      <td>4560577.10</td>\n",
       "    </tr>\n",
       "    <tr>\n",
       "      <th>32</th>\n",
       "      <td>2014</td>\n",
       "      <td>1</td>\n",
       "      <td>4798027.87</td>\n",
       "    </tr>\n",
       "    <tr>\n",
       "      <th>33</th>\n",
       "      <td>2014</td>\n",
       "      <td>2</td>\n",
       "      <td>1478213.29</td>\n",
       "    </tr>\n",
       "    <tr>\n",
       "      <th>34</th>\n",
       "      <td>2014</td>\n",
       "      <td>3</td>\n",
       "      <td>8097036.31</td>\n",
       "    </tr>\n",
       "    <tr>\n",
       "      <th>35</th>\n",
       "      <td>2014</td>\n",
       "      <td>4</td>\n",
       "      <td>1985886.15</td>\n",
       "    </tr>\n",
       "    <tr>\n",
       "      <th>36</th>\n",
       "      <td>2014</td>\n",
       "      <td>5</td>\n",
       "      <td>6006183.21</td>\n",
       "    </tr>\n",
       "    <tr>\n",
       "      <th>37</th>\n",
       "      <td>2014</td>\n",
       "      <td>6</td>\n",
       "      <td>54151.48</td>\n",
       "    </tr>\n",
       "  </tbody>\n",
       "</table>\n",
       "</div>"
      ],
      "text/plain": [
       "     año  mes     ventas\n",
       "23  2013    4 2840711.17\n",
       "24  2013    5 3658084.95\n",
       "25  2013    6 5726265.26\n",
       "26  2013    7 5521840.84\n",
       "27  2013    8 3733973.00\n",
       "28  2013    9 5083505.34\n",
       "29  2013   10 5374375.94\n",
       "30  2013   11 3694668.00\n",
       "31  2013   12 4560577.10\n",
       "32  2014    1 4798027.87\n",
       "33  2014    2 1478213.29\n",
       "34  2014    3 8097036.31\n",
       "35  2014    4 1985886.15\n",
       "36  2014    5 6006183.21\n",
       "37  2014    6   54151.48"
      ]
     },
     "execution_count": 27,
     "metadata": {},
     "output_type": "execute_result"
    }
   ],
   "source": [
    "ventas_ultimas_15 = ventas.tail(15)\n",
    "ventas_ultimas_15 "
   ]
  },
  {
   "cell_type": "markdown",
   "id": "143fd4d2-0779-4aa5-a7a1-31c5d54036d2",
   "metadata": {},
   "source": [
    "- Calcule Correlaciones y Covarianzas. Explicar resultados"
   ]
  },
  {
   "cell_type": "code",
   "execution_count": 29,
   "id": "e7bd609b-aaac-44d1-b008-6572c973ff96",
   "metadata": {},
   "outputs": [
    {
     "data": {
      "text/plain": [
       "np.float64(0.4183269283862146)"
      ]
     },
     "execution_count": 29,
     "metadata": {},
     "output_type": "execute_result"
    }
   ],
   "source": [
    "correlacion = ventas['año'].corr(ventas['ventas'])\n",
    "correlacion"
   ]
  },
  {
   "cell_type": "code",
   "execution_count": 32,
   "id": "9f59977e",
   "metadata": {},
   "outputs": [
    {
     "name": "stdout",
     "output_type": "stream",
     "text": [
      "Correlación:\n",
      "         año   mes  ventas\n",
      "año     1.00 -0.40    0.42\n",
      "mes    -0.40  1.00   -0.04\n",
      "ventas  0.42 -0.04    1.00\n"
     ]
    }
   ],
   "source": [
    "# Calcula la matriz de correlación\n",
    "correlacion = ventas.corr()\n",
    "\n",
    "print(\"Correlación:\")\n",
    "print(correlacion)"
   ]
  },
  {
   "cell_type": "markdown",
   "id": "4b7bfd19",
   "metadata": {},
   "source": [
    "- Correlación entre “año” y “mes”:\n",
    "El valor es -0.40.\n",
    "Esto indica una correlación negativa moderada entre el año y el mes.\n",
    "Cuando el año aumenta, el mes tiende a disminuir y viceversa.\n",
    "- Correlación entre “año” y “ventas”:\n",
    "El valor es 0.42.\n",
    "Esto sugiere una correlación positiva moderada entre el año y las ventas.\n",
    "A medida que el año aumenta, las ventas también tienden a aumentar.\n",
    "- Correlación entre “mes” y “ventas”:\n",
    "El valor es -0.04.\n",
    "La correlación es cercana a cero, lo que indica que no hay una relación lineal fuerte entre el mes y las ventas."
   ]
  },
  {
   "cell_type": "code",
   "execution_count": 38,
   "id": "4bccce16",
   "metadata": {},
   "outputs": [
    {
     "name": "stdout",
     "output_type": "stream",
     "text": [
      "Covarianza\n",
      "             año        mes           ventas\n",
      "año         1.01      -1.38        750498.19\n",
      "mes        -1.38      11.66       -241446.93\n",
      "ventas 750498.19 -241446.93 3195874540096.30\n"
     ]
    }
   ],
   "source": [
    "# Calcula la covarianza\n",
    "covarianza = ventas.cov()\n",
    "\n",
    "print( \"Covarianza\")\n",
    "print(covarianza)"
   ]
  },
  {
   "cell_type": "markdown",
   "id": "3c5b3c9b",
   "metadata": {},
   "source": [
    "- Covarianza entre “año” y “mes”:\n",
    "El valor es -1.38.\n",
    "Esto indica una relación negativa entre el año y el mes. En otras palabras, cuando el año aumenta, el mes tiende a disminuir y viceversa.\n",
    "- Covarianza entre “año” y “ventas”:\n",
    "El valor es 750498.19.\n",
    "Esto sugiere una relación positiva entre el año y las ventas. A medida que el año aumenta, las ventas también tienden a aumentar.\n",
    "- Covarianza entre “mes” y “ventas”:\n",
    "El valor es -241446.93.\n",
    "Esto indica una relación negativa entre el mes y las ventas. Cuando el mes aumenta, las ventas tienden a disminuir y viceversa."
   ]
  },
  {
   "cell_type": "markdown",
   "id": "5b4bc3ae",
   "metadata": {},
   "source": [
    "## Visualización gráfica de los datos"
   ]
  },
  {
   "cell_type": "markdown",
   "id": "e6947453",
   "metadata": {},
   "source": [
    "### Gráfico de barras de las ventas por mes"
   ]
  },
  {
   "cell_type": "markdown",
   "id": "39116fc4",
   "metadata": {},
   "source": [
    "Se realiza una exploración visual de curva que dibuja las ventas agrupadas por mes."
   ]
  },
  {
   "cell_type": "markdown",
   "id": "65fc915b-91f5-4439-9595-ddf3f30a0625",
   "metadata": {},
   "source": [
    "- Explique línea por línea el siguiente código:"
   ]
  },
  {
   "cell_type": "code",
   "execution_count": null,
   "id": "f78e9fe7",
   "metadata": {},
   "outputs": [],
   "source": [
    "\n",
    "ventas_por_mes = ventas.groupby('mes')['ventas'].sum().reset_index()\n",
    "#Aquí estamos creando un nuevo DataFrame llamado ventas_por_mes.\n",
    "#Utilizamos el método groupby('mes') para agrupar los datos originales por la columna “mes”.\n",
    "#Luego, seleccionamos la columna “ventas” y aplicamos la función de agregación sum() para obtener la suma \n",
    "# total de las ventas para cada mes.\n",
    "#Finalmente, utilizamos reset_index() para reiniciar los índices del DataFrame resultante.\n",
    "\n",
    "sns.barplot(x='mes', y='ventas', data=ventas_por_mes)\n",
    "#Estamos creando un gráfico de barras utilizando la biblioteca Seaborn (importada como sns).\n",
    "#En el eje x (horizontal), representamos los valores de la columna “mes”.\n",
    "#En el eje y (vertical), representamos los valores de la columna “ventas”.\n",
    "#Utilizamos los datos del DataFrame ventas_por_mes.\n",
    "\n",
    "plt.title('Ventas por mes')\n",
    "#Establecemos un título para el gráfico. En este caso, el título es “Ventas por mes”.\n",
    "\n",
    "plt.show()\n",
    "#Finalmente, mostramos el gráfico en la pantalla."
   ]
  },
  {
   "cell_type": "code",
   "execution_count": 39,
   "id": "4bc6103d",
   "metadata": {},
   "outputs": [
    {
     "data": {
      "image/png": "[encoded data removed]",
      "text/plain": [
       "<Figure size 1200x800 with 1 Axes>"
      ]
     },
     "metadata": {},
     "output_type": "display_data"
    }
   ],
   "source": [
    "ventas_por_mes = ventas.groupby('mes')['ventas'].sum().reset_index()\n",
    "sns.barplot(x='mes', y='ventas', data=ventas_por_mes)\n",
    "plt.title('Ventas por mes')\n",
    "plt.show()"
   ]
  },
  {
   "cell_type": "code",
   "execution_count": 40,
   "id": "96e658e0",
   "metadata": {},
   "outputs": [
    {
     "name": "stdout",
     "output_type": "stream",
     "text": [
      "    mes      ventas\n",
      "0     1 11596426.87\n",
      "1     2  5727484.06\n",
      "2     3 15264989.72\n",
      "3     4  6698520.83\n",
      "4     5 13684213.56\n",
      "5     6 10898160.43\n",
      "6     7 11654255.19\n",
      "7     8  8977000.36\n",
      "8     9  9520021.13\n",
      "9    10 13388705.67\n",
      "10   11  6607134.14\n",
      "11   12  9199874.16\n"
     ]
    }
   ],
   "source": [
    "print(ventas_por_mes)"
   ]
  },
  {
   "cell_type": "markdown",
   "id": "517fe194-a7cb-4a70-8445-21222ab0ac17",
   "metadata": {},
   "source": [
    "- Interpretar o explicar lo que el gráfico de arriba 'esta diciendo'."
   ]
  },
  {
   "cell_type": "markdown",
   "id": "cf267e4d",
   "metadata": {},
   "source": [
    "En el gráfico proyectado se observa que en el mes(3)=15264989.72 se alcanzaron las mayores ventas, seguidas del mes(5)= 13684213.56 y mes(10) = 13388705.67\n",
    "los meses con menores ventas son el mes(2)= 5727484.06  mes(4)=6698520.83 y 11=6607134.14"
   ]
  },
  {
   "cell_type": "markdown",
   "id": "fd85d5fb",
   "metadata": {},
   "source": [
    "### Gráfico de línea de las ventas por año"
   ]
  },
  {
   "cell_type": "markdown",
   "id": "d49f891b",
   "metadata": {},
   "source": [
    "Se observa la curva que dibuja la evolución de las ventas agrupadas por año."
   ]
  },
  {
   "cell_type": "markdown",
   "id": "b0ac39e8-3bdc-4e0f-b2dc-bf74d7408dfe",
   "metadata": {},
   "source": [
    "- Explique línea por línea el siguiente código:"
   ]
  },
  {
   "cell_type": "code",
   "execution_count": null,
   "id": "fdd07aa8",
   "metadata": {},
   "outputs": [],
   "source": [
    "ventas_por_año = ventas.groupby('año')['ventas'].sum().reset_index()\n",
    "#Aquí estamos agrupando los datos de ventas por año. La función groupby('año') agrupa\n",
    "#los datos según la columna ‘año’, y luego aplicamos la función sum() a la columna ‘ventas’ \n",
    "#para obtener la suma total de ventas por año. El resultado se almacena en un nuevo DataFrame llamado ventas_por_año.\n",
    "\n",
    "plt.plot(ventas_por_año['año'], ventas_por_año['ventas'])\n",
    "#Esta línea crea un gráfico de líneas utilizando los datos del DataFrame ventas_por_año. El eje x representa los años (‘año’)\n",
    "#y el eje y representa las ventas (‘ventas’).\n",
    "\n",
    "plt.title('Ventas por año') #Establece el título del gráfico como “Ventas por año”.\n",
    "plt.xlabel('Año') # Etiqueta el eje x como “Año”.\n",
    "plt.ylabel('Ventas') #Etiqueta el eje y como “Ventas”.\n",
    "plt.show() # Muestra el gráfico en la pantalla."
   ]
  },
  {
   "cell_type": "code",
   "execution_count": 6,
   "id": "edf27161",
   "metadata": {},
   "outputs": [
    {
     "data": {
      "image/png": "[encoded data removed]",
      "text/plain": [
       "<Figure size 1200x800 with 1 Axes>"
      ]
     },
     "metadata": {},
     "output_type": "display_data"
    }
   ],
   "source": [
    "ventas_por_año = ventas.groupby('año')['ventas'].sum().reset_index()\n",
    "plt.plot(ventas_por_año['año'], ventas_por_año['ventas'])\n",
    "plt.title('Ventas por año')\n",
    "plt.xlabel('Año')\n",
    "plt.ylabel('Ventas')\n",
    "plt.show()"
   ]
  },
  {
   "cell_type": "code",
   "execution_count": 43,
   "id": "6aa96fce",
   "metadata": {},
   "outputs": [
    {
     "data": {
      "text/html": [
       "<div>\n",
       "<style scoped>\n",
       "    .dataframe tbody tr th:only-of-type {\n",
       "        vertical-align: middle;\n",
       "    }\n",
       "\n",
       "    .dataframe tbody tr th {\n",
       "        vertical-align: top;\n",
       "    }\n",
       "\n",
       "    .dataframe thead th {\n",
       "        text-align: right;\n",
       "    }\n",
       "</style>\n",
       "<table border=\"1\" class=\"dataframe\">\n",
       "  <thead>\n",
       "    <tr style=\"text-align: right;\">\n",
       "      <th></th>\n",
       "      <th>año</th>\n",
       "      <th>ventas</th>\n",
       "    </tr>\n",
       "  </thead>\n",
       "  <tbody>\n",
       "    <tr>\n",
       "      <th>0</th>\n",
       "      <td>2011</td>\n",
       "      <td>14155699.53</td>\n",
       "    </tr>\n",
       "    <tr>\n",
       "      <th>1</th>\n",
       "      <td>2012</td>\n",
       "      <td>37675700.31</td>\n",
       "    </tr>\n",
       "    <tr>\n",
       "      <th>2</th>\n",
       "      <td>2013</td>\n",
       "      <td>48965887.96</td>\n",
       "    </tr>\n",
       "    <tr>\n",
       "      <th>3</th>\n",
       "      <td>2014</td>\n",
       "      <td>22419498.32</td>\n",
       "    </tr>\n",
       "  </tbody>\n",
       "</table>\n",
       "</div>"
      ],
      "text/plain": [
       "    año      ventas\n",
       "0  2011 14155699.53\n",
       "1  2012 37675700.31\n",
       "2  2013 48965887.96\n",
       "3  2014 22419498.32"
      ]
     },
     "execution_count": 43,
     "metadata": {},
     "output_type": "execute_result"
    }
   ],
   "source": [
    "ventas_por_año"
   ]
  },
  {
   "cell_type": "markdown",
   "id": "811b0d40-3adb-4560-9df1-7427875218c0",
   "metadata": {},
   "source": [
    "- Interpretar o explicar lo que el gráfico de arriba 'esta diciendo'."
   ]
  },
  {
   "cell_type": "markdown",
   "id": "79d92790",
   "metadata": {},
   "source": [
    "Este gráfico visualiza cómo las ventas han variado a lo largo del tiempo (años). Observamos una tendencia creciente desde 2011 hasta 2013 alcanzado su mayor pico en el 2013, seguida de una fuerte disminución en las ventas en 2014"
   ]
  },
  {
   "cell_type": "markdown",
   "id": "8196accf",
   "metadata": {},
   "source": [
    "### Prueba formal: Prueba de tendencia"
   ]
  },
  {
   "cell_type": "markdown",
   "id": "f8df1a03",
   "metadata": {},
   "source": [
    "Existen diferentes métodos para realizar el análisis de tendencia, pero uno de los más utilizados es la regresión lineal. La regresión lineal es una técnica estadística que se utiliza para encontrar la relación entre una variable dependiente (por ejemplo, el precio de una acción) y una o más variables independientes (por ejemplo, el tiempo).\n",
    "\n",
    "Se realiza una prueba de tendencia utilizando la función linregress de la biblioteca scipy.stats. Esta función calcula la pendiente de una línea de regresión lineal y el valor p asociado, que indica la probabilidad de que la pendiente sea cero. Si el valor p es menor que 0,05, se concluye que hay evidencia de una tendencia significativa en los datos."
   ]
  },
  {
   "cell_type": "markdown",
   "id": "90201e80-9a7c-41b1-8b59-cd6bfbc3f03a",
   "metadata": {},
   "source": [
    "- Explicar el siguiente código:"
   ]
  },
  {
   "cell_type": "code",
   "execution_count": 46,
   "id": "909e9780",
   "metadata": {},
   "outputs": [
    {
     "name": "stdout",
     "output_type": "stream",
     "text": [
      "Collecting scipy\n",
      "  Downloading scipy-1.14.0-cp311-cp311-win_amd64.whl.metadata (60 kB)\n",
      "     ---------------------------------------- 0.0/60.8 kB ? eta -:--:--\n",
      "     ------------ ------------------------- 20.5/60.8 kB 320.0 kB/s eta 0:00:01\n",
      "     -------------------------------------- 60.8/60.8 kB 647.8 kB/s eta 0:00:00\n",
      "Requirement already satisfied: numpy<2.3,>=1.23.5 in c:\\users\\nanaw\\anaconda3\\envs\\curso_python\\lib\\site-packages (from scipy) (2.0.0)\n",
      "Downloading scipy-1.14.0-cp311-cp311-win_amd64.whl (44.7 MB)\n",
      "   ---------------------------------------- 0.0/44.7 MB ? eta -:--:--\n",
      "   ---------------------------------------- 0.2/44.7 MB 3.7 MB/s eta 0:00:13\n",
      "    --------------------------------------- 0.6/44.7 MB 6.4 MB/s eta 0:00:07\n",
      "   - -------------------------------------- 1.3/44.7 MB 9.2 MB/s eta 0:00:05\n",
      "   - -------------------------------------- 2.0/44.7 MB 10.5 MB/s eta 0:00:05\n",
      "   -- ------------------------------------- 2.6/44.7 MB 11.2 MB/s eta 0:00:04\n",
      "   -- ------------------------------------- 3.2/44.7 MB 12.0 MB/s eta 0:00:04\n",
      "   --- ------------------------------------ 3.8/44.7 MB 11.6 MB/s eta 0:00:04\n",
      "   ---- ----------------------------------- 4.5/44.7 MB 12.1 MB/s eta 0:00:04\n",
      "   ---- ----------------------------------- 5.1/44.7 MB 12.6 MB/s eta 0:00:04\n",
      "   ----- ---------------------------------- 5.8/44.7 MB 12.7 MB/s eta 0:00:04\n",
      "   ----- ---------------------------------- 6.3/44.7 MB 12.7 MB/s eta 0:00:04\n",
      "   ------ --------------------------------- 7.1/44.7 MB 12.9 MB/s eta 0:00:03\n",
      "   ------ --------------------------------- 7.8/44.7 MB 13.4 MB/s eta 0:00:03\n",
      "   ------- -------------------------------- 8.4/44.7 MB 13.1 MB/s eta 0:00:03\n",
      "   -------- ------------------------------- 9.0/44.7 MB 13.3 MB/s eta 0:00:03\n",
      "   -------- ------------------------------- 9.7/44.7 MB 13.1 MB/s eta 0:00:03\n",
      "   --------- ------------------------------ 10.3/44.7 MB 13.4 MB/s eta 0:00:03\n",
      "   --------- ------------------------------ 10.9/44.7 MB 13.9 MB/s eta 0:00:03\n",
      "   ---------- ----------------------------- 11.6/44.7 MB 13.9 MB/s eta 0:00:03\n",
      "   ---------- ----------------------------- 12.0/44.7 MB 14.2 MB/s eta 0:00:03\n",
      "   ---------- ----------------------------- 12.0/44.7 MB 14.2 MB/s eta 0:00:03\n",
      "   ---------- ----------------------------- 12.0/44.7 MB 14.2 MB/s eta 0:00:03\n",
      "   ---------- ----------------------------- 12.0/44.7 MB 14.2 MB/s eta 0:00:03\n",
      "   ---------- ----------------------------- 12.0/44.7 MB 14.2 MB/s eta 0:00:03\n",
      "   ---------- ----------------------------- 12.0/44.7 MB 14.2 MB/s eta 0:00:03\n",
      "   ---------- ----------------------------- 12.0/44.7 MB 14.2 MB/s eta 0:00:03\n",
      "   ----------- ---------------------------- 12.3/44.7 MB 10.1 MB/s eta 0:00:04\n",
      "   ----------- ---------------------------- 12.7/44.7 MB 9.9 MB/s eta 0:00:04\n",
      "   ----------- ---------------------------- 12.7/44.7 MB 9.9 MB/s eta 0:00:04\n",
      "   ----------- ---------------------------- 12.7/44.7 MB 9.9 MB/s eta 0:00:04\n",
      "   ----------- ---------------------------- 12.7/44.7 MB 9.9 MB/s eta 0:00:04\n",
      "   ----------- ---------------------------- 13.0/44.7 MB 8.5 MB/s eta 0:00:04\n",
      "   ------------ --------------------------- 13.5/44.7 MB 8.4 MB/s eta 0:00:04\n",
      "   ------------ --------------------------- 14.0/44.7 MB 8.3 MB/s eta 0:00:04\n",
      "   ------------- -------------------------- 14.7/44.7 MB 8.4 MB/s eta 0:00:04\n",
      "   ------------- -------------------------- 15.4/44.7 MB 8.3 MB/s eta 0:00:04\n",
      "   -------------- ------------------------- 15.8/44.7 MB 8.3 MB/s eta 0:00:04\n",
      "   -------------- ------------------------- 16.4/44.7 MB 8.2 MB/s eta 0:00:04\n",
      "   -------------- ------------------------- 16.7/44.7 MB 8.1 MB/s eta 0:00:04\n",
      "   --------------- ------------------------ 17.2/44.7 MB 8.0 MB/s eta 0:00:04\n",
      "   --------------- ------------------------ 17.8/44.7 MB 8.0 MB/s eta 0:00:04\n",
      "   ---------------- ----------------------- 18.1/44.7 MB 7.9 MB/s eta 0:00:04\n",
      "   ---------------- ----------------------- 18.9/44.7 MB 7.8 MB/s eta 0:00:04\n",
      "   ----------------- ---------------------- 19.4/44.7 MB 7.9 MB/s eta 0:00:04\n",
      "   ----------------- ---------------------- 20.0/44.7 MB 7.9 MB/s eta 0:00:04\n",
      "   ------------------ --------------------- 20.7/44.7 MB 7.9 MB/s eta 0:00:04\n",
      "   ------------------- -------------------- 21.4/44.7 MB 8.0 MB/s eta 0:00:03\n",
      "   ------------------- -------------------- 22.1/44.7 MB 8.0 MB/s eta 0:00:03\n",
      "   -------------------- ------------------- 22.5/44.7 MB 10.2 MB/s eta 0:00:03\n",
      "   -------------------- ------------------- 23.2/44.7 MB 12.3 MB/s eta 0:00:02\n",
      "   --------------------- ------------------ 23.9/44.7 MB 12.6 MB/s eta 0:00:02\n",
      "   --------------------- ------------------ 24.6/44.7 MB 12.8 MB/s eta 0:00:02\n",
      "   ---------------------- ----------------- 25.3/44.7 MB 12.6 MB/s eta 0:00:02\n",
      "   ----------------------- ---------------- 26.0/44.7 MB 12.8 MB/s eta 0:00:02\n",
      "   ----------------------- ---------------- 26.8/44.7 MB 13.4 MB/s eta 0:00:02\n",
      "   ------------------------ --------------- 27.3/44.7 MB 13.6 MB/s eta 0:00:02\n",
      "   ------------------------ --------------- 27.9/44.7 MB 13.6 MB/s eta 0:00:02\n",
      "   ------------------------- -------------- 28.6/44.7 MB 13.6 MB/s eta 0:00:02\n",
      "   -------------------------- ------------- 29.2/44.7 MB 13.6 MB/s eta 0:00:02\n",
      "   -------------------------- ------------- 29.8/44.7 MB 13.6 MB/s eta 0:00:02\n",
      "   --------------------------- ------------ 30.5/44.7 MB 13.9 MB/s eta 0:00:02\n",
      "   --------------------------- ------------ 31.2/44.7 MB 13.6 MB/s eta 0:00:01\n",
      "   ---------------------------- ----------- 31.9/44.7 MB 13.6 MB/s eta 0:00:01\n",
      "   ---------------------------- ----------- 32.4/44.7 MB 13.6 MB/s eta 0:00:01\n",
      "   ----------------------------- ---------- 32.9/44.7 MB 13.6 MB/s eta 0:00:01\n",
      "   ------------------------------ --------- 33.6/44.7 MB 13.6 MB/s eta 0:00:01\n",
      "   ------------------------------ --------- 34.1/44.7 MB 13.4 MB/s eta 0:00:01\n",
      "   ------------------------------- -------- 34.7/44.7 MB 13.6 MB/s eta 0:00:01\n",
      "   ------------------------------- -------- 35.4/44.7 MB 13.4 MB/s eta 0:00:01\n",
      "   -------------------------------- ------- 36.0/44.7 MB 13.4 MB/s eta 0:00:01\n",
      "   -------------------------------- ------- 36.5/44.7 MB 13.1 MB/s eta 0:00:01\n",
      "   --------------------------------- ------ 37.1/44.7 MB 13.4 MB/s eta 0:00:01\n",
      "   --------------------------------- ------ 37.6/44.7 MB 13.1 MB/s eta 0:00:01\n",
      "   ---------------------------------- ----- 38.2/44.7 MB 13.1 MB/s eta 0:00:01\n",
      "   ---------------------------------- ----- 38.8/44.7 MB 12.8 MB/s eta 0:00:01\n",
      "   ----------------------------------- ---- 39.4/44.7 MB 12.8 MB/s eta 0:00:01\n",
      "   ----------------------------------- ---- 40.0/44.7 MB 12.8 MB/s eta 0:00:01\n",
      "   ------------------------------------ --- 40.6/44.7 MB 12.6 MB/s eta 0:00:01\n",
      "   ------------------------------------ --- 41.2/44.7 MB 12.4 MB/s eta 0:00:01\n",
      "   ------------------------------------- -- 41.5/44.7 MB 12.4 MB/s eta 0:00:01\n",
      "   ------------------------------------- -- 42.1/44.7 MB 12.4 MB/s eta 0:00:01\n",
      "   -------------------------------------- - 42.7/44.7 MB 12.1 MB/s eta 0:00:01\n",
      "   -------------------------------------- - 43.2/44.7 MB 12.1 MB/s eta 0:00:01\n",
      "   ---------------------------------------  43.7/44.7 MB 12.1 MB/s eta 0:00:01\n",
      "   ---------------------------------------  44.3/44.7 MB 12.1 MB/s eta 0:00:01\n",
      "   ---------------------------------------  44.7/44.7 MB 11.9 MB/s eta 0:00:01\n",
      "   ---------------------------------------  44.7/44.7 MB 11.9 MB/s eta 0:00:01\n",
      "   ---------------------------------------  44.7/44.7 MB 11.9 MB/s eta 0:00:01\n",
      "   ---------------------------------------  44.7/44.7 MB 11.9 MB/s eta 0:00:01\n",
      "   ---------------------------------------  44.7/44.7 MB 11.9 MB/s eta 0:00:01\n",
      "   ---------------------------------------  44.7/44.7 MB 11.9 MB/s eta 0:00:01\n",
      "   ---------------------------------------  44.7/44.7 MB 11.9 MB/s eta 0:00:01\n",
      "   ---------------------------------------  44.7/44.7 MB 11.9 MB/s eta 0:00:01\n",
      "   ---------------------------------------  44.7/44.7 MB 11.9 MB/s eta 0:00:01\n",
      "   ---------------------------------------  44.7/44.7 MB 11.9 MB/s eta 0:00:01\n",
      "   ---------------------------------------- 44.7/44.7 MB 8.1 MB/s eta 0:00:00\n",
      "Installing collected packages: scipy\n",
      "Successfully installed scipy-1.14.0\n"
     ]
    }
   ],
   "source": [
    "!pip install scipy"
   ]
  },
  {
   "cell_type": "code",
   "execution_count": 47,
   "id": "21fb6ea8",
   "metadata": {},
   "outputs": [
    {
     "name": "stdout",
     "output_type": "stream",
     "text": [
      "Pendiente:  745198.0612926556\n",
      "Valor p:  0.008957361661883\n",
      "La tendencia es significativa\n"
     ]
    }
   ],
   "source": [
    "from scipy.stats import linregress\n",
    "\n",
    "slope, intercept, r_value, p_value, std_err = linregress(ventas['año'], ventas['ventas'])\n",
    "print('Pendiente: ', slope)\n",
    "print('Valor p: ', p_value)\n",
    "\n",
    "if p_value < 0.05:\n",
    "    print('La tendencia es significativa')\n",
    "else:\n",
    "    print('No hay evidencia de tendencia significativa')"
   ]
  },
  {
   "cell_type": "code",
   "execution_count": null,
   "id": "571ad857",
   "metadata": {},
   "outputs": [],
   "source": [
    "#Importación de la función linregress: La primera línea importa la función linregress del módulo scipy.stats. \n",
    "#Esta función se utiliza para realizar una regresión lineal simple.\n",
    "from scipy.stats import linregress\n",
    "\n",
    "#slope, intercept, r_value, p_value, std_err = linregress(ventas['año'], ventas['ventas']): Aquí, estamos \n",
    "# aplicando la regresión lineal a los datos de ventas. La función linregress toma dos argumentos: \n",
    "# las ventas en el eje Y (ventas['ventas']) y los años en el eje X (ventas['año']).\n",
    "\n",
    "slope, intercept, r_value, p_value, std_err = linregress(ventas['año'], ventas['ventas'])\n",
    "#slope: La pendiente de la línea de regresión (representa cómo cambian las ventas con respecto al año).\n",
    "#intercept: El valor de la intersección en el eje Y (cuando el año es 0).\n",
    "#r_value: El coeficiente de correlación (mide la relación entre las variables).\n",
    "#p_value: El valor p (indica si la relación es estadísticamente significativa).\n",
    "#std_err: El error estándar de la estimación.\n",
    "\n",
    "print('Pendiente: ', slope) #Imprime la pendiente de la regresión.\n",
    "print('Valor p: ', p_value) #Imprime el valor p. \n",
    "\n",
    "if p_value < 0.05:\n",
    "    print('La tendencia es significativa')\n",
    "else:\n",
    "    print('No hay evidencia de tendencia significativa')\n",
    "    \n",
    "#Luego, se verifica si el valor p es menor que 0.05 (un umbral común para la significancia estadística). \n",
    "#Si es así, se imprime “La tendencia es significativa”; de lo contrario, se imprime \n",
    "#“No hay evidencia de tendencia significativa”.    "
   ]
  },
  {
   "cell_type": "markdown",
   "id": "d48ee46b",
   "metadata": {},
   "source": [
    "## Conclusiones"
   ]
  },
  {
   "cell_type": "markdown",
   "id": "17fd1682",
   "metadata": {},
   "source": [
    "Luego del análisis realizado se puede concluir que la *pendiente* de **745198.0612926556** indica que hay un aumento en las ventas por año en la base de datos AdventureWorks2019. Es decir, en promedio, las ventas están aumentando en **745198.06 unidades por año**.\n",
    "\n",
    "El *valor p* de **0.008957361661882999** indica que la probabilidad de obtener una pendiente tan grande como la observada en los datos si la pendiente real es cero es de aproximadamente **0.9%**. Como este valor p es menor que el nivel de significancia comúnmente utilizado de *0,05*, se concluye que hay evidencia suficiente para afirmar que hay una tendencia significativa en los datos.\n",
    "\n",
    "***Por lo tanto, se puede afirmar que las ventas de AdventureWorks2019 están aumentando significativamente con el tiempo.***"
   ]
  },
  {
   "cell_type": "markdown",
   "id": "52fd71a6",
   "metadata": {},
   "source": [
    "## Recomendaciones"
   ]
  },
  {
   "cell_type": "markdown",
   "id": "cf9529d0",
   "metadata": {},
   "source": [
    "Dado que las ventas están aumentando significativamente con el tiempo, una recomendación para la empresa podría ser continuar invirtiendo en áreas clave para mantener esta tendencia positiva. Por ejemplo, la empresa podría considerar:\n",
    "\n",
    "* *Mejorar el marketing*: la empresa podría invertir en esfuerzos de marketing para aumentar la conciencia de marca y atraer a más clientes potenciales.\n",
    "\n",
    "* *Expandir la oferta de productos*: si la empresa ve un aumento en las ventas en ciertas categorías de productos, podría considerar expandir su oferta en esas áreas para aprovechar esa tendencia.\n",
    "\n",
    "* *Optimizar la cadena de suministro*: si la empresa ve una tendencia a largo plazo de aumento en las ventas, podría considerar optimizar su cadena de suministro para garantizar que pueda satisfacer la demanda futura y mantener su nivel de servicio al cliente.\n",
    "\n",
    "* *Fomentar la fidelidad del cliente*: la empresa podría implementar programas de lealtad para fomentar la fidelidad del cliente y aumentar la retención.\n",
    "\n",
    "* *Explorar nuevos canales de venta*: la empresa podría considerar expandir su presencia en línea o abrir nuevas tiendas para aprovechar la tendencia positiva en las ventas.\n",
    "\n",
    "En general, la recomendación sería que la empresa mantenga un enfoque en la comprensión y la satisfacción de las necesidades de sus clientes, así como en la eficiencia operativa, a medida que busca capitalizar en la tendencia positiva en las ventas."
   ]
  },
  {
   "cell_type": "markdown",
   "id": "28e61805-e1bc-4a01-9040-2cfe6d094ec1",
   "metadata": {},
   "source": [
    "- Efectuar nuevas consultas sql (desde **Azure Data Studio** o desde **SQL Server Managment Studio**).  Suponga que aún no le han informado del objetivo negocio, por lo tanto debe en primer lugar entender los datos que tiene. Explorar los datos que tienes en la misma base de datos **AdventureWorks2019** y ver que información relevante y de utilidad se puede extraer de allí. Guardar la(s) query(s) final(es) y luego pasarlo a `SQLALchemy` para obtener un dataframe final sobre el cual vas a realizar análisis descriptivos (con pandas) como los efectuados en el caso expuesto arriba. Los plots son opcionales. Elaborar conclusiones y recomendaciones sobre el potencial de tus resultados.   "
   ]
  },
  {
   "cell_type": "code",
   "execution_count": 8,
   "id": "26d00183-6058-42c5-b9d0-a211349690a8",
   "metadata": {},
   "outputs": [
    {
     "name": "stderr",
     "output_type": "stream",
     "text": [
      "C:\\Users\\nanaw\\AppData\\Local\\Temp\\ipykernel_25000\\965548698.py:14: UserWarning: pandas only supports SQLAlchemy connectable (engine/connection) or database string URI or sqlite3 DBAPI2 connection. Other DBAPI2 objects are not tested. Please consider using SQLAlchemy.\n",
      "  ventas_empleado = pd.read_sql(input_query, conn_str)\n"
     ]
    }
   ],
   "source": [
    "conn_str = pyodbc.connect('Driver={SQL Server};' 'Server=ANGELICA_RIOS_G;''Database=AdventureWorks2019;''Trusted_Connection=yes;')\n",
    "# En Server=BALRODJJ debes colocar el nombre de tu base de datos.\n",
    "# Lo demás se deja igual\n",
    "input_query = '''SELECT sp.BusinessEntityID AS EmployeeID,\n",
    "       p.FirstName + ' ' + p.LastName AS Vendedor,\n",
    "       SUM(soh.TotalDue) AS VentasTotales\n",
    "FROM Sales.SalesPerson sp\n",
    "JOIN HumanResources.Employee e ON sp.BusinessEntityID = e.BusinessEntityID\n",
    "JOIN Person.Person p ON e.BusinessEntityID = p.BusinessEntityID\n",
    "JOIN Sales.SalesOrderHeader soh ON sp.BusinessEntityID = soh.SalesPersonID\n",
    "WHERE YEAR(soh.OrderDate) IN (2011, 2012, 2013, 2014)\n",
    "GROUP BY sp.BusinessEntityID, p.FirstName, p.LastName;'''\n",
    "\n",
    "ventas_empleado = pd.read_sql(input_query, conn_str)"
   ]
  },
  {
   "cell_type": "code",
   "execution_count": 9,
   "id": "e05b5644",
   "metadata": {},
   "outputs": [
    {
     "data": {
      "text/html": [
       "<div>\n",
       "<style scoped>\n",
       "    .dataframe tbody tr th:only-of-type {\n",
       "        vertical-align: middle;\n",
       "    }\n",
       "\n",
       "    .dataframe tbody tr th {\n",
       "        vertical-align: top;\n",
       "    }\n",
       "\n",
       "    .dataframe thead th {\n",
       "        text-align: right;\n",
       "    }\n",
       "</style>\n",
       "<table border=\"1\" class=\"dataframe\">\n",
       "  <thead>\n",
       "    <tr style=\"text-align: right;\">\n",
       "      <th></th>\n",
       "      <th>EmployeeID</th>\n",
       "      <th>Vendedor</th>\n",
       "      <th>VentasTotales</th>\n",
       "    </tr>\n",
       "  </thead>\n",
       "  <tbody>\n",
       "    <tr>\n",
       "      <th>0</th>\n",
       "      <td>274</td>\n",
       "      <td>Stephen Jiang</td>\n",
       "      <td>1235934.45</td>\n",
       "    </tr>\n",
       "    <tr>\n",
       "      <th>1</th>\n",
       "      <td>275</td>\n",
       "      <td>Michael Blythe</td>\n",
       "      <td>10475367.08</td>\n",
       "    </tr>\n",
       "    <tr>\n",
       "      <th>2</th>\n",
       "      <td>276</td>\n",
       "      <td>Linda Mitchell</td>\n",
       "      <td>11695019.06</td>\n",
       "    </tr>\n",
       "    <tr>\n",
       "      <th>3</th>\n",
       "      <td>277</td>\n",
       "      <td>Jillian Carson</td>\n",
       "      <td>11342385.90</td>\n",
       "    </tr>\n",
       "    <tr>\n",
       "      <th>4</th>\n",
       "      <td>278</td>\n",
       "      <td>Garrett Vargas</td>\n",
       "      <td>4069422.21</td>\n",
       "    </tr>\n",
       "    <tr>\n",
       "      <th>5</th>\n",
       "      <td>279</td>\n",
       "      <td>Tsvi Reiter</td>\n",
       "      <td>8086073.68</td>\n",
       "    </tr>\n",
       "    <tr>\n",
       "      <th>6</th>\n",
       "      <td>280</td>\n",
       "      <td>Pamela Ansman-Wolfe</td>\n",
       "      <td>3748246.12</td>\n",
       "    </tr>\n",
       "    <tr>\n",
       "      <th>7</th>\n",
       "      <td>281</td>\n",
       "      <td>Shu Ito</td>\n",
       "      <td>7259567.88</td>\n",
       "    </tr>\n",
       "    <tr>\n",
       "      <th>8</th>\n",
       "      <td>282</td>\n",
       "      <td>José Saraiva</td>\n",
       "      <td>6683536.66</td>\n",
       "    </tr>\n",
       "    <tr>\n",
       "      <th>9</th>\n",
       "      <td>283</td>\n",
       "      <td>David Campbell</td>\n",
       "      <td>4207894.60</td>\n",
       "    </tr>\n",
       "    <tr>\n",
       "      <th>10</th>\n",
       "      <td>284</td>\n",
       "      <td>Tete Mensa-Annan</td>\n",
       "      <td>2608116.38</td>\n",
       "    </tr>\n",
       "    <tr>\n",
       "      <th>11</th>\n",
       "      <td>285</td>\n",
       "      <td>Syed Abbas</td>\n",
       "      <td>195528.78</td>\n",
       "    </tr>\n",
       "    <tr>\n",
       "      <th>12</th>\n",
       "      <td>286</td>\n",
       "      <td>Lynn Tsoflias</td>\n",
       "      <td>1606441.45</td>\n",
       "    </tr>\n",
       "    <tr>\n",
       "      <th>13</th>\n",
       "      <td>287</td>\n",
       "      <td>Amy Alberts</td>\n",
       "      <td>826417.47</td>\n",
       "    </tr>\n",
       "    <tr>\n",
       "      <th>14</th>\n",
       "      <td>288</td>\n",
       "      <td>Rachel Valdez</td>\n",
       "      <td>2062393.14</td>\n",
       "    </tr>\n",
       "    <tr>\n",
       "      <th>15</th>\n",
       "      <td>289</td>\n",
       "      <td>Jae Pak</td>\n",
       "      <td>9585124.95</td>\n",
       "    </tr>\n",
       "    <tr>\n",
       "      <th>16</th>\n",
       "      <td>290</td>\n",
       "      <td>Ranjit Varkey Chudukatil</td>\n",
       "      <td>5087977.21</td>\n",
       "    </tr>\n",
       "  </tbody>\n",
       "</table>\n",
       "</div>"
      ],
      "text/plain": [
       "    EmployeeID                  Vendedor  VentasTotales\n",
       "0          274             Stephen Jiang     1235934.45\n",
       "1          275            Michael Blythe    10475367.08\n",
       "2          276            Linda Mitchell    11695019.06\n",
       "3          277            Jillian Carson    11342385.90\n",
       "4          278            Garrett Vargas     4069422.21\n",
       "5          279               Tsvi Reiter     8086073.68\n",
       "6          280       Pamela Ansman-Wolfe     3748246.12\n",
       "7          281                   Shu Ito     7259567.88\n",
       "8          282              José Saraiva     6683536.66\n",
       "9          283            David Campbell     4207894.60\n",
       "10         284          Tete Mensa-Annan     2608116.38\n",
       "11         285                Syed Abbas      195528.78\n",
       "12         286             Lynn Tsoflias     1606441.45\n",
       "13         287               Amy Alberts      826417.47\n",
       "14         288             Rachel Valdez     2062393.14\n",
       "15         289                   Jae Pak     9585124.95\n",
       "16         290  Ranjit Varkey Chudukatil     5087977.21"
      ]
     },
     "execution_count": 9,
     "metadata": {},
     "output_type": "execute_result"
    }
   ],
   "source": [
    "ventas_empleado"
   ]
  },
  {
   "cell_type": "code",
   "execution_count": 10,
   "id": "3a2f4a33",
   "metadata": {},
   "outputs": [
    {
     "name": "stdout",
     "output_type": "stream",
     "text": [
      "<class 'pandas.core.frame.DataFrame'>\n",
      "RangeIndex: 17 entries, 0 to 16\n",
      "Data columns (total 3 columns):\n",
      " #   Column         Non-Null Count  Dtype  \n",
      "---  ------         --------------  -----  \n",
      " 0   EmployeeID     17 non-null     int64  \n",
      " 1   Vendedor       17 non-null     object \n",
      " 2   VentasTotales  17 non-null     float64\n",
      "dtypes: float64(1), int64(1), object(1)\n",
      "memory usage: 540.0+ bytes\n"
     ]
    }
   ],
   "source": [
    "ventas_empleado.info()"
   ]
  },
  {
   "cell_type": "code",
   "execution_count": 15,
   "id": "2b477be4",
   "metadata": {},
   "outputs": [
    {
     "name": "stdout",
     "output_type": "stream",
     "text": [
      "\n",
      "Resumen de las principales estadísticas descriptivas:\n",
      "count         17.00\n",
      "mean     5339732.18\n",
      "std      3833721.12\n",
      "min       195528.78\n",
      "25%      2062393.14\n",
      "50%      4207894.60\n",
      "75%      8086073.68\n",
      "max     11695019.06\n",
      "Name: VentasTotales, dtype: float64\n"
     ]
    }
   ],
   "source": [
    "\n",
    "ventas_res = ventas_empleado[\"VentasTotales\"].describe()\n",
    "\n",
    "print(\"\\nResumen de las principales estadísticas descriptivas:\")\n",
    "print(ventas_res)"
   ]
  },
  {
   "cell_type": "code",
   "execution_count": 16,
   "id": "54b851c1",
   "metadata": {},
   "outputs": [
    {
     "name": "stdout",
     "output_type": "stream",
     "text": [
      "(17, 3)\n",
      "17\n",
      "51\n",
      "2\n"
     ]
    }
   ],
   "source": [
    "# Se muestra las dimensiones del Dataset\n",
    "print(ventas_empleado.shape) #Tupla con número de filas y el número de columnas DataFrame\n",
    "print(len(ventas_empleado))  # Se obtiene el número de filas\n",
    "print(ventas_empleado.size)  #  Se obtiene el número de elementos de la dataFrame 38 x3\n",
    "print(ventas_empleado.ndim) # Se ve el número de dimensiones de la DataFrame"
   ]
  },
  {
   "cell_type": "code",
   "execution_count": 17,
   "id": "72259173",
   "metadata": {},
   "outputs": [
    {
     "name": "stdout",
     "output_type": "stream",
     "text": [
      "Index(['EmployeeID', 'Vendedor', 'VentasTotales'], dtype='object')\n"
     ]
    }
   ],
   "source": [
    "indices_columnas = ventas_empleado.columns\n",
    "print(indices_columnas)"
   ]
  },
  {
   "cell_type": "code",
   "execution_count": 18,
   "id": "03b8c6f3",
   "metadata": {},
   "outputs": [
    {
     "data": {
      "text/html": [
       "<div>\n",
       "<style scoped>\n",
       "    .dataframe tbody tr th:only-of-type {\n",
       "        vertical-align: middle;\n",
       "    }\n",
       "\n",
       "    .dataframe tbody tr th {\n",
       "        vertical-align: top;\n",
       "    }\n",
       "\n",
       "    .dataframe thead th {\n",
       "        text-align: right;\n",
       "    }\n",
       "</style>\n",
       "<table border=\"1\" class=\"dataframe\">\n",
       "  <thead>\n",
       "    <tr style=\"text-align: right;\">\n",
       "      <th></th>\n",
       "      <th>EmployeeID</th>\n",
       "      <th>Vendedor</th>\n",
       "      <th>VentasTotales</th>\n",
       "    </tr>\n",
       "  </thead>\n",
       "  <tbody>\n",
       "    <tr>\n",
       "      <th>0</th>\n",
       "      <td>274</td>\n",
       "      <td>Stephen Jiang</td>\n",
       "      <td>1235934.45</td>\n",
       "    </tr>\n",
       "    <tr>\n",
       "      <th>1</th>\n",
       "      <td>275</td>\n",
       "      <td>Michael Blythe</td>\n",
       "      <td>10475367.08</td>\n",
       "    </tr>\n",
       "    <tr>\n",
       "      <th>2</th>\n",
       "      <td>276</td>\n",
       "      <td>Linda Mitchell</td>\n",
       "      <td>11695019.06</td>\n",
       "    </tr>\n",
       "    <tr>\n",
       "      <th>3</th>\n",
       "      <td>277</td>\n",
       "      <td>Jillian Carson</td>\n",
       "      <td>11342385.90</td>\n",
       "    </tr>\n",
       "    <tr>\n",
       "      <th>4</th>\n",
       "      <td>278</td>\n",
       "      <td>Garrett Vargas</td>\n",
       "      <td>4069422.21</td>\n",
       "    </tr>\n",
       "    <tr>\n",
       "      <th>5</th>\n",
       "      <td>279</td>\n",
       "      <td>Tsvi Reiter</td>\n",
       "      <td>8086073.68</td>\n",
       "    </tr>\n",
       "    <tr>\n",
       "      <th>6</th>\n",
       "      <td>280</td>\n",
       "      <td>Pamela Ansman-Wolfe</td>\n",
       "      <td>3748246.12</td>\n",
       "    </tr>\n",
       "    <tr>\n",
       "      <th>7</th>\n",
       "      <td>281</td>\n",
       "      <td>Shu Ito</td>\n",
       "      <td>7259567.88</td>\n",
       "    </tr>\n",
       "    <tr>\n",
       "      <th>8</th>\n",
       "      <td>282</td>\n",
       "      <td>José Saraiva</td>\n",
       "      <td>6683536.66</td>\n",
       "    </tr>\n",
       "    <tr>\n",
       "      <th>9</th>\n",
       "      <td>283</td>\n",
       "      <td>David Campbell</td>\n",
       "      <td>4207894.60</td>\n",
       "    </tr>\n",
       "  </tbody>\n",
       "</table>\n",
       "</div>"
      ],
      "text/plain": [
       "   EmployeeID             Vendedor  VentasTotales\n",
       "0         274        Stephen Jiang     1235934.45\n",
       "1         275       Michael Blythe    10475367.08\n",
       "2         276       Linda Mitchell    11695019.06\n",
       "3         277       Jillian Carson    11342385.90\n",
       "4         278       Garrett Vargas     4069422.21\n",
       "5         279          Tsvi Reiter     8086073.68\n",
       "6         280  Pamela Ansman-Wolfe     3748246.12\n",
       "7         281              Shu Ito     7259567.88\n",
       "8         282         José Saraiva     6683536.66\n",
       "9         283       David Campbell     4207894.60"
      ]
     },
     "execution_count": 18,
     "metadata": {},
     "output_type": "execute_result"
    }
   ],
   "source": [
    "#Contenido de la 10 primeras filas\n",
    "ventas_primeras_10 = ventas.iloc[:10]\n",
    "ventas_primeras_10 "
   ]
  },
  {
   "cell_type": "code",
   "execution_count": 20,
   "id": "4b3bedd4",
   "metadata": {},
   "outputs": [
    {
     "data": {
      "text/html": [
       "<div>\n",
       "<style scoped>\n",
       "    .dataframe tbody tr th:only-of-type {\n",
       "        vertical-align: middle;\n",
       "    }\n",
       "\n",
       "    .dataframe tbody tr th {\n",
       "        vertical-align: top;\n",
       "    }\n",
       "\n",
       "    .dataframe thead th {\n",
       "        text-align: right;\n",
       "    }\n",
       "</style>\n",
       "<table border=\"1\" class=\"dataframe\">\n",
       "  <thead>\n",
       "    <tr style=\"text-align: right;\">\n",
       "      <th></th>\n",
       "      <th>EmployeeID</th>\n",
       "      <th>Vendedor</th>\n",
       "      <th>VentasTotales</th>\n",
       "    </tr>\n",
       "  </thead>\n",
       "  <tbody>\n",
       "    <tr>\n",
       "      <th>10</th>\n",
       "      <td>284</td>\n",
       "      <td>Tete Mensa-Annan</td>\n",
       "      <td>2608116.38</td>\n",
       "    </tr>\n",
       "    <tr>\n",
       "      <th>11</th>\n",
       "      <td>285</td>\n",
       "      <td>Syed Abbas</td>\n",
       "      <td>195528.78</td>\n",
       "    </tr>\n",
       "    <tr>\n",
       "      <th>12</th>\n",
       "      <td>286</td>\n",
       "      <td>Lynn Tsoflias</td>\n",
       "      <td>1606441.45</td>\n",
       "    </tr>\n",
       "    <tr>\n",
       "      <th>13</th>\n",
       "      <td>287</td>\n",
       "      <td>Amy Alberts</td>\n",
       "      <td>826417.47</td>\n",
       "    </tr>\n",
       "    <tr>\n",
       "      <th>14</th>\n",
       "      <td>288</td>\n",
       "      <td>Rachel Valdez</td>\n",
       "      <td>2062393.14</td>\n",
       "    </tr>\n",
       "    <tr>\n",
       "      <th>15</th>\n",
       "      <td>289</td>\n",
       "      <td>Jae Pak</td>\n",
       "      <td>9585124.95</td>\n",
       "    </tr>\n",
       "    <tr>\n",
       "      <th>16</th>\n",
       "      <td>290</td>\n",
       "      <td>Ranjit Varkey Chudukatil</td>\n",
       "      <td>5087977.21</td>\n",
       "    </tr>\n",
       "  </tbody>\n",
       "</table>\n",
       "</div>"
      ],
      "text/plain": [
       "    EmployeeID                  Vendedor  VentasTotales\n",
       "10         284          Tete Mensa-Annan     2608116.38\n",
       "11         285                Syed Abbas      195528.78\n",
       "12         286             Lynn Tsoflias     1606441.45\n",
       "13         287               Amy Alberts      826417.47\n",
       "14         288             Rachel Valdez     2062393.14\n",
       "15         289                   Jae Pak     9585124.95\n",
       "16         290  Ranjit Varkey Chudukatil     5087977.21"
      ]
     },
     "execution_count": 20,
     "metadata": {},
     "output_type": "execute_result"
    }
   ],
   "source": [
    "ventas_primeras_7 = ventas_empleado.tail(7)\n",
    "ventas_primeras_7 "
   ]
  },
  {
   "cell_type": "markdown",
   "id": "0f5eaaa8",
   "metadata": {},
   "source": [
    "- Calcule Correlaciones y Covarianzas. Explicar resultados"
   ]
  },
  {
   "cell_type": "code",
   "execution_count": 23,
   "id": "62dbcf41",
   "metadata": {},
   "outputs": [
    {
     "data": {
      "text/plain": [
       "np.float64(-0.4024104891845868)"
      ]
     },
     "execution_count": 23,
     "metadata": {},
     "output_type": "execute_result"
    }
   ],
   "source": [
    "correlacion = ventas_empleado['EmployeeID'].corr(ventas_empleado['VentasTotales'])\n",
    "correlacion"
   ]
  },
  {
   "cell_type": "code",
   "execution_count": 26,
   "id": "3e625b14",
   "metadata": {},
   "outputs": [
    {
     "name": "stdout",
     "output_type": "stream",
     "text": [
      "Correlación:\n",
      "               EmployeeID  VentasTotales\n",
      "EmployeeID           1.00          -0.40\n",
      "VentasTotales       -0.40           1.00\n"
     ]
    }
   ],
   "source": [
    "columnas_numericas = ventas_empleado.drop(columns=[\"Vendedor\"])\n",
    "correlacion = columnas_numericas.corr()\n",
    "\n",
    "print(\"Correlación:\")\n",
    "print(correlacion)"
   ]
  },
  {
   "cell_type": "markdown",
   "id": "774d051a",
   "metadata": {},
   "source": [
    "1 - Correlación entre EmployeeID y VentasTotales:\n",
    "- El valor de correlación entre estas dos variables es aproximadamente -0.40.\n",
    "- La correlación negativa sugiere que hay una relación moderada entre ellas.\n",
    "Interpretación:\n",
    "- A medida que el “EmployeeID” aumenta (es decir, se mueve de un empleado a otro), hay una tendencia a que las “VentasTotales” disminuyan, o viceversa.\n",
    "- Esto podría indicar que los empleados con números de identificación más bajos tienden a tener mayores ventas totales, o que hay algún otro patrón inverso.\n",
    "2 - Valores en la diagonal principal:\n",
    "- Los valores en la diagonal principal son siempre 1.00.\n",
    "- Esto es esperado, ya que representa la correlación de cada variable consigo misma (que siempre es perfecta)."
   ]
  },
  {
   "cell_type": "code",
   "execution_count": 28,
   "id": "2432a964",
   "metadata": {},
   "outputs": [
    {
     "name": "stdout",
     "output_type": "stream",
     "text": [
      "Matriz de covarianza:\n",
      "               EmployeeID     VentasTotales\n",
      "EmployeeID          25.50       -7790402.56\n",
      "VentasTotales -7790402.56 14697417611537.12\n"
     ]
    }
   ],
   "source": [
    "# Supongamos que tienes un DataFrame llamado ventas_empleado\n",
    "# con columnas \"ventas\" y \"otra_columna\"\n",
    "columnas_numericas = ventas_empleado.drop(columns=[\"Vendedor\"])\n",
    "covarianza = columnas_numericas.cov()\n",
    "\n",
    "print(\"Matriz de covarianza:\")\n",
    "print(covarianza)"
   ]
  },
  {
   "cell_type": "markdown",
   "id": "c8026646",
   "metadata": {},
   "source": [
    "1 -Covarianza entre EmployeeID y VentasTotales:\n",
    "- El valor de covarianza entre estas dos variables es aproximadamente -7790402.56.\n",
    "- La covarianza negativa sugiere que hay una relación inversa entre ellas.\n",
    "- Interpretación:\n",
    "A medida que el “EmployeeID” aumenta (es decir, se mueve de un empleado a otro), hay una tendencia a que las “VentasTotales” disminuyan, o viceversa.\n",
    "Esto podría indicar que los empleados con números de identificación más bajos tienden a tener mayores ventas totales, o que hay algún otro patrón inverso.\n",
    "Valores en la diagonal principal:\n",
    "2 -Los valores en la diagonal principal son siempre positivos (en este caso, 25.50 y 14697417611537.12).\n",
    "Esto es esperado, ya que representa la covarianza de cada variable consigo misma (que siempre es positiva)."
   ]
  },
  {
   "cell_type": "code",
   "execution_count": 30,
   "id": "15cc1e44",
   "metadata": {},
   "outputs": [
    {
     "data": {
      "image/png": "[encoded data removed]",
      "text/plain": [
       "<Figure size 1200x800 with 1 Axes>"
      ]
     },
     "metadata": {},
     "output_type": "display_data"
    }
   ],
   "source": [
    "ventas_por_vendedor = ventas_empleado.groupby('EmployeeID')['VentasTotales'].sum().reset_index()\n",
    "sns.barplot(x='EmployeeID', y='VentasTotales', data=ventas_por_vendedor)\n",
    "plt.title('Ventas por vendedor')\n",
    "plt.show()"
   ]
  },
  {
   "cell_type": "markdown",
   "id": "ea7a4c13",
   "metadata": {},
   "source": [
    "Empleado con Mayor Venta:\n",
    "Para encontrar al empleado con la mayor venta, simplemente identificamos el valor más alto en la columna “VentasTotales”.\n",
    "En este caso, el empleado con el mayor valor de ventas es Stephen Jiang, con un total de $12,359,934.45.\n",
    "Empleado con Menor Venta:\n",
    "Para encontrar al empleado con la menor venta, identificamos el valor más bajo en la columna “VentasTotales”.\n",
    "El empleado con la menor venta es Syed Abbas, con un total de $195,528.78."
   ]
  },
  {
   "cell_type": "code",
   "execution_count": 31,
   "id": "e379a4cc",
   "metadata": {},
   "outputs": [
    {
     "name": "stdout",
     "output_type": "stream",
     "text": [
      "    EmployeeID                  Vendedor  VentasTotales\n",
      "0          274             Stephen Jiang     1235934.45\n",
      "1          275            Michael Blythe    10475367.08\n",
      "2          276            Linda Mitchell    11695019.06\n",
      "3          277            Jillian Carson    11342385.90\n",
      "4          278            Garrett Vargas     4069422.21\n",
      "5          279               Tsvi Reiter     8086073.68\n",
      "6          280       Pamela Ansman-Wolfe     3748246.12\n",
      "7          281                   Shu Ito     7259567.88\n",
      "8          282              José Saraiva     6683536.66\n",
      "9          283            David Campbell     4207894.60\n",
      "10         284          Tete Mensa-Annan     2608116.38\n",
      "11         285                Syed Abbas      195528.78\n",
      "12         286             Lynn Tsoflias     1606441.45\n",
      "13         287               Amy Alberts      826417.47\n",
      "14         288             Rachel Valdez     2062393.14\n",
      "15         289                   Jae Pak     9585124.95\n",
      "16         290  Ranjit Varkey Chudukatil     5087977.21\n"
     ]
    }
   ],
   "source": [
    "print(ventas_empleado)"
   ]
  }
 ],
 "metadata": {
  "kernelspec": {
   "display_name": "Python 3 (ipykernel)",
   "language": "python",
   "name": "python3"
  },
  "language_info": {
   "codemirror_mode": {
    "name": "ipython",
    "version": 3
   },
   "file_extension": ".py",
   "mimetype": "text/x-python",
   "name": "python",
   "nbconvert_exporter": "python",
   "pygments_lexer": "ipython3",
   "version": "3.11.9"
  }
 },
 "nbformat": 4,
 "nbformat_minor": 5
}
