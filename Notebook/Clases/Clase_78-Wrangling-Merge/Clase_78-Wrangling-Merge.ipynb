{
 "cells": [
  {
   "cell_type": "code",
   "execution_count": 1,
   "metadata": {},
   "outputs": [],
   "source": [
    "import pandas as pd"
   ]
  },
  {
   "cell_type": "markdown",
   "metadata": {},
   "source": [
    "Partiendo d ela DataFrames de abajo, se responde las 'preguntas siguientes'"
   ]
  },
  {
   "cell_type": "code",
   "execution_count": 4,
   "metadata": {},
   "outputs": [
    {
     "name": "stdout",
     "output_type": "stream",
     "text": [
      "DataFrame de Clientes:\n"
     ]
    },
    {
     "data": {
      "text/html": [
       "<div>\n",
       "<style scoped>\n",
       "    .dataframe tbody tr th:only-of-type {\n",
       "        vertical-align: middle;\n",
       "    }\n",
       "\n",
       "    .dataframe tbody tr th {\n",
       "        vertical-align: top;\n",
       "    }\n",
       "\n",
       "    .dataframe thead th {\n",
       "        text-align: right;\n",
       "    }\n",
       "</style>\n",
       "<table border=\"1\" class=\"dataframe\">\n",
       "  <thead>\n",
       "    <tr style=\"text-align: right;\">\n",
       "      <th></th>\n",
       "      <th>ClienteID</th>\n",
       "      <th>Nombre</th>\n",
       "      <th>Edad</th>\n",
       "      <th>Ciudad</th>\n",
       "      <th>Email</th>\n",
       "      <th>FechaRegistro</th>\n",
       "    </tr>\n",
       "  </thead>\n",
       "  <tbody>\n",
       "    <tr>\n",
       "      <th>0</th>\n",
       "      <td>1</td>\n",
       "      <td>Ana</td>\n",
       "      <td>34</td>\n",
       "      <td>Madrid</td>\n",
       "      <td>ana@example.com</td>\n",
       "      <td>2020-01-01</td>\n",
       "    </tr>\n",
       "    <tr>\n",
       "      <th>1</th>\n",
       "      <td>2</td>\n",
       "      <td>Luis</td>\n",
       "      <td>45</td>\n",
       "      <td>Barcelona</td>\n",
       "      <td>luis@example.com</td>\n",
       "      <td>2020-06-15</td>\n",
       "    </tr>\n",
       "    <tr>\n",
       "      <th>2</th>\n",
       "      <td>3</td>\n",
       "      <td>Maria</td>\n",
       "      <td>23</td>\n",
       "      <td>Madrid</td>\n",
       "      <td>maria@example.com</td>\n",
       "      <td>2021-03-20</td>\n",
       "    </tr>\n",
       "    <tr>\n",
       "      <th>3</th>\n",
       "      <td>4</td>\n",
       "      <td>Carlos</td>\n",
       "      <td>54</td>\n",
       "      <td>Sevilla</td>\n",
       "      <td>carlos@example.com</td>\n",
       "      <td>2021-07-30</td>\n",
       "    </tr>\n",
       "    <tr>\n",
       "      <th>4</th>\n",
       "      <td>5</td>\n",
       "      <td>Laura</td>\n",
       "      <td>31</td>\n",
       "      <td>Valencia</td>\n",
       "      <td>laura@example.com</td>\n",
       "      <td>2022-02-17</td>\n",
       "    </tr>\n",
       "    <tr>\n",
       "      <th>5</th>\n",
       "      <td>6</td>\n",
       "      <td>Jorge</td>\n",
       "      <td>40</td>\n",
       "      <td>Bilbao</td>\n",
       "      <td>jorge@example.com</td>\n",
       "      <td>2022-05-25</td>\n",
       "    </tr>\n",
       "  </tbody>\n",
       "</table>\n",
       "</div>"
      ],
      "text/plain": [
       "   ClienteID  Nombre  Edad     Ciudad               Email FechaRegistro\n",
       "0          1     Ana    34     Madrid     ana@example.com    2020-01-01\n",
       "1          2    Luis    45  Barcelona    luis@example.com    2020-06-15\n",
       "2          3   Maria    23     Madrid   maria@example.com    2021-03-20\n",
       "3          4  Carlos    54    Sevilla  carlos@example.com    2021-07-30\n",
       "4          5   Laura    31   Valencia   laura@example.com    2022-02-17\n",
       "5          6   Jorge    40     Bilbao   jorge@example.com    2022-05-25"
      ]
     },
     "execution_count": 4,
     "metadata": {},
     "output_type": "execute_result"
    }
   ],
   "source": [
    "clientes = pd.DataFrame({\n",
    "    'ClienteID': [1, 2, 3, 4, 5, 6],\n",
    "    'Nombre': ['Ana', 'Luis', 'Maria', 'Carlos', 'Laura', 'Jorge'],\n",
    "    'Edad': [34, 45, 23, 54, 31, 40],\n",
    "    'Ciudad': ['Madrid', 'Barcelona', 'Madrid', 'Sevilla', 'Valencia', 'Bilbao'],\n",
    "    'Email': ['ana@example.com', 'luis@example.com', 'maria@example.com', 'carlos@example.com', 'laura@example.com', 'jorge@example.com'],\n",
    "    'FechaRegistro': ['2020-01-01', '2020-06-15', '2021-03-20', '2021-07-30', '2022-02-17', '2022-05-25']\n",
    "})\n",
    "\n",
    "print(\"DataFrame de Clientes:\")\n",
    "clientes"
   ]
  },
  {
   "cell_type": "markdown",
   "metadata": {},
   "source": [
    "DataFrame 2:Información de contratos"
   ]
  },
  {
   "cell_type": "code",
   "execution_count": 16,
   "metadata": {},
   "outputs": [
    {
     "name": "stdout",
     "output_type": "stream",
     "text": [
      "dataFrame de Contratos: \n"
     ]
    },
    {
     "data": {
      "text/html": [
       "<div>\n",
       "<style scoped>\n",
       "    .dataframe tbody tr th:only-of-type {\n",
       "        vertical-align: middle;\n",
       "    }\n",
       "\n",
       "    .dataframe tbody tr th {\n",
       "        vertical-align: top;\n",
       "    }\n",
       "\n",
       "    .dataframe thead th {\n",
       "        text-align: right;\n",
       "    }\n",
       "</style>\n",
       "<table border=\"1\" class=\"dataframe\">\n",
       "  <thead>\n",
       "    <tr style=\"text-align: right;\">\n",
       "      <th></th>\n",
       "      <th>ContratoID</th>\n",
       "      <th>ClienteID</th>\n",
       "      <th>Tipo</th>\n",
       "      <th>FechaInicio</th>\n",
       "      <th>DuracionMeses</th>\n",
       "      <th>CostoMensual</th>\n",
       "    </tr>\n",
       "  </thead>\n",
       "  <tbody>\n",
       "    <tr>\n",
       "      <th>0</th>\n",
       "      <td>101</td>\n",
       "      <td>1</td>\n",
       "      <td>Móvil</td>\n",
       "      <td>2021-01-15</td>\n",
       "      <td>24</td>\n",
       "      <td>20</td>\n",
       "    </tr>\n",
       "    <tr>\n",
       "      <th>1</th>\n",
       "      <td>102</td>\n",
       "      <td>2</td>\n",
       "      <td>Internet</td>\n",
       "      <td>2021-06-23</td>\n",
       "      <td>12</td>\n",
       "      <td>40</td>\n",
       "    </tr>\n",
       "    <tr>\n",
       "      <th>2</th>\n",
       "      <td>103</td>\n",
       "      <td>2</td>\n",
       "      <td>Televisión</td>\n",
       "      <td>2021-03-10</td>\n",
       "      <td>12</td>\n",
       "      <td>50</td>\n",
       "    </tr>\n",
       "    <tr>\n",
       "      <th>3</th>\n",
       "      <td>104</td>\n",
       "      <td>3</td>\n",
       "      <td>Móvil</td>\n",
       "      <td>2021-08-05</td>\n",
       "      <td>24</td>\n",
       "      <td>25</td>\n",
       "    </tr>\n",
       "    <tr>\n",
       "      <th>4</th>\n",
       "      <td>105</td>\n",
       "      <td>5</td>\n",
       "      <td>Internet</td>\n",
       "      <td>2021-12-12</td>\n",
       "      <td>12</td>\n",
       "      <td>45</td>\n",
       "    </tr>\n",
       "    <tr>\n",
       "      <th>5</th>\n",
       "      <td>106</td>\n",
       "      <td>6</td>\n",
       "      <td>Televisión</td>\n",
       "      <td>2021-07-19</td>\n",
       "      <td>24</td>\n",
       "      <td>55</td>\n",
       "    </tr>\n",
       "    <tr>\n",
       "      <th>6</th>\n",
       "      <td>107</td>\n",
       "      <td>7</td>\n",
       "      <td>Móvil</td>\n",
       "      <td>2022-01-10</td>\n",
       "      <td>12</td>\n",
       "      <td>30</td>\n",
       "    </tr>\n",
       "  </tbody>\n",
       "</table>\n",
       "</div>"
      ],
      "text/plain": [
       "   ContratoID  ClienteID        Tipo FechaInicio  DuracionMeses  CostoMensual\n",
       "0         101          1       Móvil  2021-01-15             24            20\n",
       "1         102          2    Internet  2021-06-23             12            40\n",
       "2         103          2  Televisión  2021-03-10             12            50\n",
       "3         104          3       Móvil  2021-08-05             24            25\n",
       "4         105          5    Internet  2021-12-12             12            45\n",
       "5         106          6  Televisión  2021-07-19             24            55\n",
       "6         107          7       Móvil  2022-01-10             12            30"
      ]
     },
     "execution_count": 16,
     "metadata": {},
     "output_type": "execute_result"
    }
   ],
   "source": [
    "contratos = pd.DataFrame({\n",
    "    'ContratoID': [101,102,103,104,105,106,107],\n",
    "    'ClienteID' : [1, 2, 2, 3, 5, 6, 7],\n",
    "    'Tipo': ['Móvil', 'Internet', 'Televisión', 'Móvil', 'Internet', 'Televisión', 'Móvil'],\n",
    "    'FechaInicio' : ['2021-01-15','2021-06-23','2021-03-10','2021-08-05','2021-12-12','2021-07-19','2022-01-10'],\n",
    "    'DuracionMeses':[24, 12, 12, 24, 12, 24,12],\n",
    "    'CostoMensual' : [20, 40, 50, 25, 45, 55,30]\n",
    "})\n",
    "print(\"dataFrame de Contratos: \")\n",
    "contratos"
   ]
  },
  {
   "cell_type": "markdown",
   "metadata": {},
   "source": [
    "Preguntas"
   ]
  },
  {
   "cell_type": "markdown",
   "metadata": {},
   "source": [
    "1-(Inner Join)¿Cuáles son los detalles de contacto de los clientes que tienen contratos activos?"
   ]
  },
  {
   "cell_type": "code",
   "execution_count": 17,
   "metadata": {},
   "outputs": [
    {
     "name": "stdout",
     "output_type": "stream",
     "text": [
      "Detalles de contrato de clientes con contratos activos: \n"
     ]
    },
    {
     "data": {
      "text/html": [
       "<div>\n",
       "<style scoped>\n",
       "    .dataframe tbody tr th:only-of-type {\n",
       "        vertical-align: middle;\n",
       "    }\n",
       "\n",
       "    .dataframe tbody tr th {\n",
       "        vertical-align: top;\n",
       "    }\n",
       "\n",
       "    .dataframe thead th {\n",
       "        text-align: right;\n",
       "    }\n",
       "</style>\n",
       "<table border=\"1\" class=\"dataframe\">\n",
       "  <thead>\n",
       "    <tr style=\"text-align: right;\">\n",
       "      <th></th>\n",
       "      <th>Nombre</th>\n",
       "      <th>Email</th>\n",
       "      <th>Tipo</th>\n",
       "      <th>FechaInicio</th>\n",
       "    </tr>\n",
       "  </thead>\n",
       "  <tbody>\n",
       "    <tr>\n",
       "      <th>0</th>\n",
       "      <td>Ana</td>\n",
       "      <td>ana@example.com</td>\n",
       "      <td>Móvil</td>\n",
       "      <td>2021-01-15</td>\n",
       "    </tr>\n",
       "    <tr>\n",
       "      <th>1</th>\n",
       "      <td>Luis</td>\n",
       "      <td>luis@example.com</td>\n",
       "      <td>Internet</td>\n",
       "      <td>2021-06-23</td>\n",
       "    </tr>\n",
       "    <tr>\n",
       "      <th>2</th>\n",
       "      <td>Luis</td>\n",
       "      <td>luis@example.com</td>\n",
       "      <td>Televisión</td>\n",
       "      <td>2021-03-10</td>\n",
       "    </tr>\n",
       "    <tr>\n",
       "      <th>3</th>\n",
       "      <td>Maria</td>\n",
       "      <td>maria@example.com</td>\n",
       "      <td>Móvil</td>\n",
       "      <td>2021-08-05</td>\n",
       "    </tr>\n",
       "    <tr>\n",
       "      <th>4</th>\n",
       "      <td>Laura</td>\n",
       "      <td>laura@example.com</td>\n",
       "      <td>Internet</td>\n",
       "      <td>2021-12-12</td>\n",
       "    </tr>\n",
       "    <tr>\n",
       "      <th>5</th>\n",
       "      <td>Jorge</td>\n",
       "      <td>jorge@example.com</td>\n",
       "      <td>Televisión</td>\n",
       "      <td>2021-07-19</td>\n",
       "    </tr>\n",
       "  </tbody>\n",
       "</table>\n",
       "</div>"
      ],
      "text/plain": [
       "  Nombre              Email        Tipo FechaInicio\n",
       "0    Ana    ana@example.com       Móvil  2021-01-15\n",
       "1   Luis   luis@example.com    Internet  2021-06-23\n",
       "2   Luis   luis@example.com  Televisión  2021-03-10\n",
       "3  Maria  maria@example.com       Móvil  2021-08-05\n",
       "4  Laura  laura@example.com    Internet  2021-12-12\n",
       "5  Jorge  jorge@example.com  Televisión  2021-07-19"
      ]
     },
     "execution_count": 17,
     "metadata": {},
     "output_type": "execute_result"
    }
   ],
   "source": [
    "clientes_con_contratos = pd.merge(clientes,contratos, on='ClienteID', how='inner')\n",
    "print(\"Detalles de contrato de clientes con contratos activos: \")\n",
    "clientes_con_contratos[['Nombre','Email', 'Tipo', 'FechaInicio']]\n"
   ]
  },
  {
   "cell_type": "markdown",
   "metadata": {},
   "source": [
    "2- ¿Qué clientes se registraron antes de obtener un contrato?"
   ]
  },
  {
   "cell_type": "code",
   "execution_count": 18,
   "metadata": {},
   "outputs": [
    {
     "name": "stdout",
     "output_type": "stream",
     "text": [
      "Clientes que se registraron antes de obtener un contrato\n",
      "###################################################################################\n"
     ]
    },
    {
     "data": {
      "text/html": [
       "<div>\n",
       "<style scoped>\n",
       "    .dataframe tbody tr th:only-of-type {\n",
       "        vertical-align: middle;\n",
       "    }\n",
       "\n",
       "    .dataframe tbody tr th {\n",
       "        vertical-align: top;\n",
       "    }\n",
       "\n",
       "    .dataframe thead th {\n",
       "        text-align: right;\n",
       "    }\n",
       "</style>\n",
       "<table border=\"1\" class=\"dataframe\">\n",
       "  <thead>\n",
       "    <tr style=\"text-align: right;\">\n",
       "      <th></th>\n",
       "      <th>Nombre</th>\n",
       "      <th>FechaRegistro</th>\n",
       "      <th>FechaInicio</th>\n",
       "    </tr>\n",
       "  </thead>\n",
       "  <tbody>\n",
       "    <tr>\n",
       "      <th>0</th>\n",
       "      <td>Ana</td>\n",
       "      <td>2020-01-01</td>\n",
       "      <td>2021-01-15</td>\n",
       "    </tr>\n",
       "    <tr>\n",
       "      <th>1</th>\n",
       "      <td>Luis</td>\n",
       "      <td>2020-06-15</td>\n",
       "      <td>2021-06-23</td>\n",
       "    </tr>\n",
       "    <tr>\n",
       "      <th>2</th>\n",
       "      <td>Luis</td>\n",
       "      <td>2020-06-15</td>\n",
       "      <td>2021-03-10</td>\n",
       "    </tr>\n",
       "    <tr>\n",
       "      <th>3</th>\n",
       "      <td>Maria</td>\n",
       "      <td>2021-03-20</td>\n",
       "      <td>2021-08-05</td>\n",
       "    </tr>\n",
       "  </tbody>\n",
       "</table>\n",
       "</div>"
      ],
      "text/plain": [
       "  Nombre FechaRegistro FechaInicio\n",
       "0    Ana    2020-01-01  2021-01-15\n",
       "1   Luis    2020-06-15  2021-06-23\n",
       "2   Luis    2020-06-15  2021-03-10\n",
       "3  Maria    2021-03-20  2021-08-05"
      ]
     },
     "execution_count": 18,
     "metadata": {},
     "output_type": "execute_result"
    }
   ],
   "source": [
    "clientes_con_contratos = pd.merge(clientes, contratos, on='ClienteID', how ='inner')\n",
    "clientes_antes_contrato = clientes_con_contratos[clientes_con_contratos['FechaRegistro']< clientes_con_contratos['FechaInicio']]\n",
    "print(\"Clientes que se registraron antes de obtener un contrato\")\n",
    "print(\"###################################################################################\")\n",
    "clientes_antes_contrato[['Nombre','FechaRegistro','FechaInicio']]"
   ]
  },
  {
   "cell_type": "markdown",
   "metadata": {},
   "source": [
    "3- ¿Qué clientes no tienen ningún contrato asociado y cuáles son sus detalles de contacto?"
   ]
  },
  {
   "cell_type": "code",
   "execution_count": 20,
   "metadata": {},
   "outputs": [
    {
     "name": "stdout",
     "output_type": "stream",
     "text": [
      "Clientes sin contratos asociados:\n",
      "###################################################################\n"
     ]
    },
    {
     "data": {
      "text/html": [
       "<div>\n",
       "<style scoped>\n",
       "    .dataframe tbody tr th:only-of-type {\n",
       "        vertical-align: middle;\n",
       "    }\n",
       "\n",
       "    .dataframe tbody tr th {\n",
       "        vertical-align: top;\n",
       "    }\n",
       "\n",
       "    .dataframe thead th {\n",
       "        text-align: right;\n",
       "    }\n",
       "</style>\n",
       "<table border=\"1\" class=\"dataframe\">\n",
       "  <thead>\n",
       "    <tr style=\"text-align: right;\">\n",
       "      <th></th>\n",
       "      <th>Nombre</th>\n",
       "      <th>Email</th>\n",
       "      <th>Ciudad</th>\n",
       "    </tr>\n",
       "  </thead>\n",
       "  <tbody>\n",
       "    <tr>\n",
       "      <th>4</th>\n",
       "      <td>Carlos</td>\n",
       "      <td>carlos@example.com</td>\n",
       "      <td>Sevilla</td>\n",
       "    </tr>\n",
       "  </tbody>\n",
       "</table>\n",
       "</div>"
      ],
      "text/plain": [
       "   Nombre               Email   Ciudad\n",
       "4  Carlos  carlos@example.com  Sevilla"
      ]
     },
     "execution_count": 20,
     "metadata": {},
     "output_type": "execute_result"
    }
   ],
   "source": [
    "clientes_sin_contratos = pd.merge(clientes, contratos, on = 'ClienteID', how='left', indicator = True )\n",
    "clientes_sin_contratos = clientes_sin_contratos[clientes_sin_contratos['_merge'] == 'left_only']\n",
    "#filtrar el resultado de la unión para conservar\n",
    "#solo las filas donde el valor en la columna _merge\n",
    "#es left_only\n",
    "\n",
    "print(\"Clientes sin contratos asociados:\")\n",
    "print(\"###################################################################\") \n",
    "clientes_sin_contratos [['Nombre', 'Email', 'Ciudad']]"
   ]
  },
  {
   "cell_type": "markdown",
   "metadata": {},
   "source": [
    "La línea:\n",
    "\n",
    "clientes_sin_contratos = clientes_sin_contratos[clientes_sin_contratos['_merge'] == 'left_only']\n",
    "Significa que se seleccionan únicamente las filas que están presentes en el DataFrame de clientes pero no tienen correspondencia en el DataFrame de contratos."
   ]
  },
  {
   "cell_type": "markdown",
   "metadata": {},
   "source": [
    "El parámetro indicator=True agrega una columna extra llamada _merge al resultado de la unión. Esta columna indica el origen de cada fila en el resultado de la unión:\n",
    "\n",
    "left_only si la fila solo está presente en el DataFrame de la izquierda.\n",
    "right_only si la fila solo está presente en el DataFrame de la derecha.\n",
    "both si la fila está presente en ambos DataFrames."
   ]
  },
  {
   "cell_type": "markdown",
   "metadata": {},
   "source": [
    "4-¿Qué contratos no tienen un cliente asociado en la base de datos de clientes y cuáles son los detalles del contrato?"
   ]
  },
  {
   "cell_type": "code",
   "execution_count": 23,
   "metadata": {},
   "outputs": [
    {
     "name": "stdout",
     "output_type": "stream",
     "text": [
      "Contratos sin clientes asociados\n",
      "###################################################\n"
     ]
    },
    {
     "data": {
      "text/html": [
       "<div>\n",
       "<style scoped>\n",
       "    .dataframe tbody tr th:only-of-type {\n",
       "        vertical-align: middle;\n",
       "    }\n",
       "\n",
       "    .dataframe tbody tr th {\n",
       "        vertical-align: top;\n",
       "    }\n",
       "\n",
       "    .dataframe thead th {\n",
       "        text-align: right;\n",
       "    }\n",
       "</style>\n",
       "<table border=\"1\" class=\"dataframe\">\n",
       "  <thead>\n",
       "    <tr style=\"text-align: right;\">\n",
       "      <th></th>\n",
       "      <th>ContratoID</th>\n",
       "      <th>Tipo</th>\n",
       "      <th>FechaInicio</th>\n",
       "      <th>CostoMensual</th>\n",
       "    </tr>\n",
       "  </thead>\n",
       "  <tbody>\n",
       "    <tr>\n",
       "      <th>6</th>\n",
       "      <td>107</td>\n",
       "      <td>Móvil</td>\n",
       "      <td>2022-01-10</td>\n",
       "      <td>30</td>\n",
       "    </tr>\n",
       "  </tbody>\n",
       "</table>\n",
       "</div>"
      ],
      "text/plain": [
       "   ContratoID   Tipo FechaInicio  CostoMensual\n",
       "6         107  Móvil  2022-01-10            30"
      ]
     },
     "execution_count": 23,
     "metadata": {},
     "output_type": "execute_result"
    }
   ],
   "source": [
    "contratos_sin_clientes = pd.merge(clientes,contratos, on='ClienteID', how = 'right', indicator=True)\n",
    "\n",
    "contratos_sin_clientes = contratos_sin_clientes[contratos_sin_clientes['_merge']== 'right_only'] \n",
    "# filtra el resultado de la unión para conservar\n",
    "# Solo las filas donde el valor en la columna _merge\n",
    "# es right_only\n",
    "\n",
    "print(\"Contratos sin clientes asociados\")\n",
    "print('###################################################')\n",
    "contratos_sin_clientes[['ContratoID','Tipo','FechaInicio','CostoMensual']]"
   ]
  },
  {
   "cell_type": "markdown",
   "metadata": {},
   "source": [
    "La linea:\n",
    "\n",
    "contratos_sin_clientes = contratos_sin_clientes[contratos_sin_clientes['_merge'] == 'right_only']\n",
    "Esto significa que se seleccionan únicamente las filas que están presentes en el DataFrame de contratos pero no tienen correspondencia en el DataFrame de clientes."
   ]
  },
  {
   "cell_type": "markdown",
   "metadata": {},
   "source": [
    "5-Obtener una lista completa de todos los clientes y todos los contratos, independientemente de si tienen coincidencias en las otras tablas."
   ]
  },
  {
   "cell_type": "code",
   "execution_count": 31,
   "metadata": {},
   "outputs": [
    {
     "name": "stdout",
     "output_type": "stream",
     "text": [
      "Todos los clientes y contratos\n",
      "##########################################################\n",
      "   ClienteID  Nombre  Edad     Ciudad               Email FechaRegistro  \\\n",
      "0          1     Ana  34.0     Madrid     ana@example.com    2020-01-01   \n",
      "1          2    Luis  45.0  Barcelona    luis@example.com    2020-06-15   \n",
      "2          2    Luis  45.0  Barcelona    luis@example.com    2020-06-15   \n",
      "3          3   Maria  23.0     Madrid   maria@example.com    2021-03-20   \n",
      "4          4  Carlos  54.0    Sevilla  carlos@example.com    2021-07-30   \n",
      "5          5   Laura  31.0   Valencia   laura@example.com    2022-02-17   \n",
      "6          6   Jorge  40.0     Bilbao   jorge@example.com    2022-05-25   \n",
      "7          7     NaN   NaN        NaN                 NaN           NaN   \n",
      "\n",
      "   ContratoID        Tipo FechaInicio  DuracionMeses  CostoMensual      _merge  \n",
      "0       101.0       Móvil  2021-01-15           24.0          20.0        both  \n",
      "1       102.0    Internet  2021-06-23           12.0          40.0        both  \n",
      "2       103.0  Televisión  2021-03-10           12.0          50.0        both  \n",
      "3       104.0       Móvil  2021-08-05           24.0          25.0        both  \n",
      "4         NaN         NaN         NaN            NaN           NaN   left_only  \n",
      "5       105.0    Internet  2021-12-12           12.0          45.0        both  \n",
      "6       106.0  Televisión  2021-07-19           24.0          55.0        both  \n",
      "7       107.0       Móvil  2022-01-10           12.0          30.0  right_only  \n"
     ]
    }
   ],
   "source": [
    "todos_clientes_contratos = pd.merge(clientes,contratos, on='ClienteID', how='outer', indicator=True)\n",
    "print(\"Todos los clientes y contratos\")\n",
    "print('##########################################################')\n",
    "print(todos_clientes_contratos)"
   ]
  },
  {
   "cell_type": "markdown",
   "metadata": {},
   "source": [
    " contrato_sin_clientes = "
   ]
  },
  {
   "cell_type": "markdown",
   "metadata": {},
   "source": [
    "**6- Cuáles son los clientes con contratos de más de 12 meses y cuáles son los detalles del contrato?**"
   ]
  },
  {
   "cell_type": "code",
   "execution_count": 30,
   "metadata": {},
   "outputs": [
    {
     "name": "stdout",
     "output_type": "stream",
     "text": [
      "Clientes con contratos de mas de 12 meses: \n"
     ]
    },
    {
     "data": {
      "text/html": [
       "<div>\n",
       "<style scoped>\n",
       "    .dataframe tbody tr th:only-of-type {\n",
       "        vertical-align: middle;\n",
       "    }\n",
       "\n",
       "    .dataframe tbody tr th {\n",
       "        vertical-align: top;\n",
       "    }\n",
       "\n",
       "    .dataframe thead th {\n",
       "        text-align: right;\n",
       "    }\n",
       "</style>\n",
       "<table border=\"1\" class=\"dataframe\">\n",
       "  <thead>\n",
       "    <tr style=\"text-align: right;\">\n",
       "      <th></th>\n",
       "      <th>ClienteID</th>\n",
       "      <th>Nombre</th>\n",
       "      <th>Edad</th>\n",
       "      <th>Ciudad</th>\n",
       "      <th>Email</th>\n",
       "      <th>FechaRegistro</th>\n",
       "      <th>ContratoID</th>\n",
       "      <th>Tipo</th>\n",
       "      <th>FechaInicio</th>\n",
       "      <th>DuracionMeses</th>\n",
       "      <th>CostoMensual</th>\n",
       "    </tr>\n",
       "  </thead>\n",
       "  <tbody>\n",
       "    <tr>\n",
       "      <th>0</th>\n",
       "      <td>1</td>\n",
       "      <td>Ana</td>\n",
       "      <td>34</td>\n",
       "      <td>Madrid</td>\n",
       "      <td>ana@example.com</td>\n",
       "      <td>2020-01-01</td>\n",
       "      <td>101</td>\n",
       "      <td>Móvil</td>\n",
       "      <td>2021-01-15</td>\n",
       "      <td>24</td>\n",
       "      <td>20</td>\n",
       "    </tr>\n",
       "    <tr>\n",
       "      <th>3</th>\n",
       "      <td>3</td>\n",
       "      <td>Maria</td>\n",
       "      <td>23</td>\n",
       "      <td>Madrid</td>\n",
       "      <td>maria@example.com</td>\n",
       "      <td>2021-03-20</td>\n",
       "      <td>104</td>\n",
       "      <td>Móvil</td>\n",
       "      <td>2021-08-05</td>\n",
       "      <td>24</td>\n",
       "      <td>25</td>\n",
       "    </tr>\n",
       "    <tr>\n",
       "      <th>5</th>\n",
       "      <td>6</td>\n",
       "      <td>Jorge</td>\n",
       "      <td>40</td>\n",
       "      <td>Bilbao</td>\n",
       "      <td>jorge@example.com</td>\n",
       "      <td>2022-05-25</td>\n",
       "      <td>106</td>\n",
       "      <td>Televisión</td>\n",
       "      <td>2021-07-19</td>\n",
       "      <td>24</td>\n",
       "      <td>55</td>\n",
       "    </tr>\n",
       "  </tbody>\n",
       "</table>\n",
       "</div>"
      ],
      "text/plain": [
       "   ClienteID Nombre  Edad  Ciudad              Email FechaRegistro  \\\n",
       "0          1    Ana    34  Madrid    ana@example.com    2020-01-01   \n",
       "3          3  Maria    23  Madrid  maria@example.com    2021-03-20   \n",
       "5          6  Jorge    40  Bilbao  jorge@example.com    2022-05-25   \n",
       "\n",
       "   ContratoID        Tipo FechaInicio  DuracionMeses  CostoMensual  \n",
       "0         101       Móvil  2021-01-15             24            20  \n",
       "3         104       Móvil  2021-08-05             24            25  \n",
       "5         106  Televisión  2021-07-19             24            55  "
      ]
     },
     "execution_count": 30,
     "metadata": {},
     "output_type": "execute_result"
    }
   ],
   "source": [
    "clientes_con_contratos_largos = pd.merge(clientes, contratos, on='ClienteID', how='inner')\n",
    "clientes_con_contratos_largos = clientes_con_contratos_largos[clientes_con_contratos_largos['DuracionMeses'] > 12]\n",
    "print(\"Clientes con contratos de mas de 12 meses: \")\n",
    "clientes_con_contratos_largos                                        \n",
    "                                         "
   ]
  },
  {
   "cell_type": "markdown",
   "metadata": {},
   "source": [
    "7-¿Qué clientes tienen contratos de un costo mensual superior a 40?"
   ]
  },
  {
   "cell_type": "code",
   "execution_count": 32,
   "metadata": {},
   "outputs": [
    {
     "name": "stdout",
     "output_type": "stream",
     "text": [
      "Clientes con contratos de un costo mensual superior a 40: \n"
     ]
    },
    {
     "data": {
      "text/html": [
       "<div>\n",
       "<style scoped>\n",
       "    .dataframe tbody tr th:only-of-type {\n",
       "        vertical-align: middle;\n",
       "    }\n",
       "\n",
       "    .dataframe tbody tr th {\n",
       "        vertical-align: top;\n",
       "    }\n",
       "\n",
       "    .dataframe thead th {\n",
       "        text-align: right;\n",
       "    }\n",
       "</style>\n",
       "<table border=\"1\" class=\"dataframe\">\n",
       "  <thead>\n",
       "    <tr style=\"text-align: right;\">\n",
       "      <th></th>\n",
       "      <th>Nombre</th>\n",
       "      <th>Tipo</th>\n",
       "      <th>CostoMensual</th>\n",
       "    </tr>\n",
       "  </thead>\n",
       "  <tbody>\n",
       "    <tr>\n",
       "      <th>2</th>\n",
       "      <td>Luis</td>\n",
       "      <td>Televisión</td>\n",
       "      <td>50</td>\n",
       "    </tr>\n",
       "    <tr>\n",
       "      <th>4</th>\n",
       "      <td>Laura</td>\n",
       "      <td>Internet</td>\n",
       "      <td>45</td>\n",
       "    </tr>\n",
       "    <tr>\n",
       "      <th>5</th>\n",
       "      <td>Jorge</td>\n",
       "      <td>Televisión</td>\n",
       "      <td>55</td>\n",
       "    </tr>\n",
       "  </tbody>\n",
       "</table>\n",
       "</div>"
      ],
      "text/plain": [
       "  Nombre        Tipo  CostoMensual\n",
       "2   Luis  Televisión            50\n",
       "4  Laura    Internet            45\n",
       "5  Jorge  Televisión            55"
      ]
     },
     "execution_count": 32,
     "metadata": {},
     "output_type": "execute_result"
    }
   ],
   "source": [
    "clientes_con_contratos_caros = pd.merge(clientes,contratos, on='ClienteID', how='inner')\n",
    "clientes_con_contratos_caros = clientes_con_contratos_caros[clientes_con_contratos_caros['CostoMensual'] > 40 ]\n",
    "print(\"Clientes con contratos de un costo mensual superior a 40: \")\n",
    "clientes_con_contratos_caros[['Nombre', 'Tipo','CostoMensual']]"
   ]
  },
  {
   "cell_type": "markdown",
   "metadata": {},
   "source": [
    "Observa la siguiente tabla para una referencia de argumentos en pandas.merge. La siguiente seccion cubre la unión (join) usando el indice de filas de DataFrame"
   ]
  },
  {
   "cell_type": "markdown",
   "metadata": {},
   "source": [
    "left : DataFrame a fusionar en el lado izquierdo.\n",
    "\n",
    "right : DataFrame que se fusionará en el lado derecho.\n",
    "\n",
    "how: Tipo de join a aplicar: \"inner\", \"outer\", \"left\", o \"right\"; por defecto es \"inner\".\n",
    "\n",
    "on: Nombres de las columnas a unir (join). Deben encontrarse en ambos objetos DataFrame. Si no se especifica y no se dan otras claves de unión (join), se utilizará la intersección de los nombres de columna de la izquierda y la derecha como claves de join.\n",
    "\n",
    "left_on: Columnas del DataFrame izquierdo (left) que se utilizarán como claves de unión (join). Puede ser un único nombre de columna o una lista de nombres de columna.\n",
    "\n",
    "right_on: Análogo a left_on para DataFrame derecho(right).\n",
    "\n",
    "left_index: Utiliza el índice de la fila de la izquierda como clave de unión(join) (o claves, si es un MultiIndex).\n",
    "\n",
    "right_index: Análogo a left_index\n",
    "\n",
    "sort: Ordena los datos fusionados lexicográficamente por las claves de unión (join); Falso por defecto.\n",
    "\n",
    "suffixes: Tuple de valores de cadena para añadir a los nombres de columna en caso de solapamiento; por defecto (\"_x\", \"_y\") (por ejemplo, si \"data\" está en ambos objetos DataFrame, aparecerá como \"data_x\" y \"data_y\" en el resultado).\n",
    "\n",
    "copy: Si es False, evita copiar datos en la estructura de datos resultante en algunos casos excepcionales; por defecto siempre copia.\n",
    "\n",
    "validate: Verifica si la fusión (merge) es del tipo especificado, ya sea uno a uno, uno a muchos o muchos a muchos. Consulte el docstring para obtener más información sobre las opciones.\n",
    "\n",
    "indicator: Añade una columna especial _merge que indica el origen de cada fila; los valores serán \"left_only\", \"right_only\" o \"both\" en función del origen de los datos unidos (joined) en cada fila."
   ]
  },
  {
   "cell_type": "markdown",
   "metadata": {},
   "source": [
    "Mergin en indice (Index)"
   ]
  },
  {
   "cell_type": "markdown",
   "metadata": {},
   "source": [
    "En algunos casos. la(s) clave(s) de fusión(merging) de un DataFrame se encuentran(n) en su índice (eqtiquetas de filas), En este caso, puede pasar  left_index=True o right_index=True (o ambos) para indicar que el índice debe utilizarse como clave fusión:   "
   ]
  },
  {
   "cell_type": "code",
   "execution_count": 33,
   "metadata": {},
   "outputs": [
    {
     "data": {
      "text/html": [
       "<div>\n",
       "<style scoped>\n",
       "    .dataframe tbody tr th:only-of-type {\n",
       "        vertical-align: middle;\n",
       "    }\n",
       "\n",
       "    .dataframe tbody tr th {\n",
       "        vertical-align: top;\n",
       "    }\n",
       "\n",
       "    .dataframe thead th {\n",
       "        text-align: right;\n",
       "    }\n",
       "</style>\n",
       "<table border=\"1\" class=\"dataframe\">\n",
       "  <thead>\n",
       "    <tr style=\"text-align: right;\">\n",
       "      <th></th>\n",
       "      <th>key</th>\n",
       "      <th>value</th>\n",
       "    </tr>\n",
       "  </thead>\n",
       "  <tbody>\n",
       "    <tr>\n",
       "      <th>0</th>\n",
       "      <td>a</td>\n",
       "      <td>0</td>\n",
       "    </tr>\n",
       "    <tr>\n",
       "      <th>1</th>\n",
       "      <td>b</td>\n",
       "      <td>1</td>\n",
       "    </tr>\n",
       "    <tr>\n",
       "      <th>2</th>\n",
       "      <td>a</td>\n",
       "      <td>2</td>\n",
       "    </tr>\n",
       "    <tr>\n",
       "      <th>3</th>\n",
       "      <td>a</td>\n",
       "      <td>3</td>\n",
       "    </tr>\n",
       "    <tr>\n",
       "      <th>4</th>\n",
       "      <td>b</td>\n",
       "      <td>4</td>\n",
       "    </tr>\n",
       "    <tr>\n",
       "      <th>5</th>\n",
       "      <td>c</td>\n",
       "      <td>5</td>\n",
       "    </tr>\n",
       "  </tbody>\n",
       "</table>\n",
       "</div>"
      ],
      "text/plain": [
       "  key  value\n",
       "0   a      0\n",
       "1   b      1\n",
       "2   a      2\n",
       "3   a      3\n",
       "4   b      4\n",
       "5   c      5"
      ]
     },
     "execution_count": 33,
     "metadata": {},
     "output_type": "execute_result"
    }
   ],
   "source": [
    "left1 = pd.DataFrame({\"key\": [\"a\",\"b\",\"a\",\"a\",\"b\",\"c\"],\n",
    "                      \"value\":pd.Series(range(6), dtype=\"Int64\")})\n",
    "left1 "
   ]
  },
  {
   "cell_type": "code",
   "execution_count": 34,
   "metadata": {},
   "outputs": [
    {
     "data": {
      "text/html": [
       "<div>\n",
       "<style scoped>\n",
       "    .dataframe tbody tr th:only-of-type {\n",
       "        vertical-align: middle;\n",
       "    }\n",
       "\n",
       "    .dataframe tbody tr th {\n",
       "        vertical-align: top;\n",
       "    }\n",
       "\n",
       "    .dataframe thead th {\n",
       "        text-align: right;\n",
       "    }\n",
       "</style>\n",
       "<table border=\"1\" class=\"dataframe\">\n",
       "  <thead>\n",
       "    <tr style=\"text-align: right;\">\n",
       "      <th></th>\n",
       "      <th>group_val</th>\n",
       "    </tr>\n",
       "  </thead>\n",
       "  <tbody>\n",
       "    <tr>\n",
       "      <th>a</th>\n",
       "      <td>3.5</td>\n",
       "    </tr>\n",
       "    <tr>\n",
       "      <th>b</th>\n",
       "      <td>7.0</td>\n",
       "    </tr>\n",
       "  </tbody>\n",
       "</table>\n",
       "</div>"
      ],
      "text/plain": [
       "   group_val\n",
       "a        3.5\n",
       "b        7.0"
      ]
     },
     "execution_count": 34,
     "metadata": {},
     "output_type": "execute_result"
    }
   ],
   "source": [
    "right1 = pd.DataFrame({\"group_val\": [3.5, 7]}, index=[\"a\",\"b\"])\n",
    "right1"
   ]
  },
  {
   "cell_type": "code",
   "execution_count": 35,
   "metadata": {},
   "outputs": [
    {
     "data": {
      "text/html": [
       "<div>\n",
       "<style scoped>\n",
       "    .dataframe tbody tr th:only-of-type {\n",
       "        vertical-align: middle;\n",
       "    }\n",
       "\n",
       "    .dataframe tbody tr th {\n",
       "        vertical-align: top;\n",
       "    }\n",
       "\n",
       "    .dataframe thead th {\n",
       "        text-align: right;\n",
       "    }\n",
       "</style>\n",
       "<table border=\"1\" class=\"dataframe\">\n",
       "  <thead>\n",
       "    <tr style=\"text-align: right;\">\n",
       "      <th></th>\n",
       "      <th>key</th>\n",
       "      <th>value</th>\n",
       "      <th>group_val</th>\n",
       "    </tr>\n",
       "  </thead>\n",
       "  <tbody>\n",
       "    <tr>\n",
       "      <th>0</th>\n",
       "      <td>a</td>\n",
       "      <td>0</td>\n",
       "      <td>3.5</td>\n",
       "    </tr>\n",
       "    <tr>\n",
       "      <th>1</th>\n",
       "      <td>b</td>\n",
       "      <td>1</td>\n",
       "      <td>7.0</td>\n",
       "    </tr>\n",
       "    <tr>\n",
       "      <th>2</th>\n",
       "      <td>a</td>\n",
       "      <td>2</td>\n",
       "      <td>3.5</td>\n",
       "    </tr>\n",
       "    <tr>\n",
       "      <th>3</th>\n",
       "      <td>a</td>\n",
       "      <td>3</td>\n",
       "      <td>3.5</td>\n",
       "    </tr>\n",
       "    <tr>\n",
       "      <th>4</th>\n",
       "      <td>b</td>\n",
       "      <td>4</td>\n",
       "      <td>7.0</td>\n",
       "    </tr>\n",
       "  </tbody>\n",
       "</table>\n",
       "</div>"
      ],
      "text/plain": [
       "  key  value  group_val\n",
       "0   a      0        3.5\n",
       "1   b      1        7.0\n",
       "2   a      2        3.5\n",
       "3   a      3        3.5\n",
       "4   b      4        7.0"
      ]
     },
     "execution_count": 35,
     "metadata": {},
     "output_type": "execute_result"
    }
   ],
   "source": [
    "pd.merge(left1,right1, left_on=\"key\", right_index=True)"
   ]
  },
  {
   "cell_type": "markdown",
   "metadata": {},
   "source": [
    "left_on=\"key\" significa que vamos a usar la columna key del DataFrame left1 como la clave para la unión.\n",
    "right_index=True significa que vamos a usar el índice del DataFrame right1 como la clave para la unión."
   ]
  },
  {
   "cell_type": "markdown",
   "metadata": {},
   "source": [
    "Ejemplo 3.3"
   ]
  },
  {
   "cell_type": "markdown",
   "metadata": {},
   "source": [
    "Supongamos que tenemos dos DataFrame: uno con información de ventas de dispositivos y otro con detalles de los dispositivos."
   ]
  },
  {
   "cell_type": "code",
   "execution_count": 40,
   "metadata": {},
   "outputs": [
    {
     "name": "stdout",
     "output_type": "stream",
     "text": [
      "DataFrame de Ventas:\n"
     ]
    },
    {
     "data": {
      "text/html": [
       "<div>\n",
       "<style scoped>\n",
       "    .dataframe tbody tr th:only-of-type {\n",
       "        vertical-align: middle;\n",
       "    }\n",
       "\n",
       "    .dataframe tbody tr th {\n",
       "        vertical-align: top;\n",
       "    }\n",
       "\n",
       "    .dataframe thead th {\n",
       "        text-align: right;\n",
       "    }\n",
       "</style>\n",
       "<table border=\"1\" class=\"dataframe\">\n",
       "  <thead>\n",
       "    <tr style=\"text-align: right;\">\n",
       "      <th></th>\n",
       "      <th>VentasID</th>\n",
       "      <th>DispositivoID</th>\n",
       "      <th>Cantidad</th>\n",
       "    </tr>\n",
       "  </thead>\n",
       "  <tbody>\n",
       "    <tr>\n",
       "      <th>0</th>\n",
       "      <td>1</td>\n",
       "      <td>101</td>\n",
       "      <td>10</td>\n",
       "    </tr>\n",
       "    <tr>\n",
       "      <th>1</th>\n",
       "      <td>2</td>\n",
       "      <td>102</td>\n",
       "      <td>5</td>\n",
       "    </tr>\n",
       "    <tr>\n",
       "      <th>2</th>\n",
       "      <td>3</td>\n",
       "      <td>101</td>\n",
       "      <td>8</td>\n",
       "    </tr>\n",
       "    <tr>\n",
       "      <th>3</th>\n",
       "      <td>4</td>\n",
       "      <td>103</td>\n",
       "      <td>7</td>\n",
       "    </tr>\n",
       "    <tr>\n",
       "      <th>4</th>\n",
       "      <td>5</td>\n",
       "      <td>102</td>\n",
       "      <td>6</td>\n",
       "    </tr>\n",
       "  </tbody>\n",
       "</table>\n",
       "</div>"
      ],
      "text/plain": [
       "   VentasID  DispositivoID  Cantidad\n",
       "0         1            101        10\n",
       "1         2            102         5\n",
       "2         3            101         8\n",
       "3         4            103         7\n",
       "4         5            102         6"
      ]
     },
     "execution_count": 40,
     "metadata": {},
     "output_type": "execute_result"
    }
   ],
   "source": [
    "# DataFrame ventas\n",
    "ventas = pd.DataFrame({\n",
    "    'VentasID':[1,2,3,4,5],\n",
    "    'DispositivoID': [101,102,101,103,102],\n",
    "    'Cantidad':[10,5,8,7,6]\n",
    "})\n",
    "\n",
    "# Dataframe dispositivos\n",
    "dispositivos = pd.DataFrame({\n",
    "    'NombreDispositivo': ['iPhone 13', 'Samsung Galaxy S21', 'Google Pixel 6'],\n",
    "    'Precio': [799, 999, 599]\n",
    "}, index=[101, 102, 103])\n",
    "\n",
    "print(\"DataFrame de Ventas:\")\n",
    "ventas"
   ]
  },
  {
   "cell_type": "code",
   "execution_count": 41,
   "metadata": {},
   "outputs": [
    {
     "name": "stdout",
     "output_type": "stream",
     "text": [
      "\n",
      "DataFrame de Dispositivos:\n"
     ]
    },
    {
     "data": {
      "text/html": [
       "<div>\n",
       "<style scoped>\n",
       "    .dataframe tbody tr th:only-of-type {\n",
       "        vertical-align: middle;\n",
       "    }\n",
       "\n",
       "    .dataframe tbody tr th {\n",
       "        vertical-align: top;\n",
       "    }\n",
       "\n",
       "    .dataframe thead th {\n",
       "        text-align: right;\n",
       "    }\n",
       "</style>\n",
       "<table border=\"1\" class=\"dataframe\">\n",
       "  <thead>\n",
       "    <tr style=\"text-align: right;\">\n",
       "      <th></th>\n",
       "      <th>NombreDispositivo</th>\n",
       "      <th>Precio</th>\n",
       "    </tr>\n",
       "  </thead>\n",
       "  <tbody>\n",
       "    <tr>\n",
       "      <th>101</th>\n",
       "      <td>iPhone 13</td>\n",
       "      <td>799</td>\n",
       "    </tr>\n",
       "    <tr>\n",
       "      <th>102</th>\n",
       "      <td>Samsung Galaxy S21</td>\n",
       "      <td>999</td>\n",
       "    </tr>\n",
       "    <tr>\n",
       "      <th>103</th>\n",
       "      <td>Google Pixel 6</td>\n",
       "      <td>599</td>\n",
       "    </tr>\n",
       "  </tbody>\n",
       "</table>\n",
       "</div>"
      ],
      "text/plain": [
       "      NombreDispositivo  Precio\n",
       "101           iPhone 13     799\n",
       "102  Samsung Galaxy S21     999\n",
       "103      Google Pixel 6     599"
      ]
     },
     "execution_count": 41,
     "metadata": {},
     "output_type": "execute_result"
    }
   ],
   "source": [
    "print(\"\\nDataFrame de Dispositivos:\")\n",
    "dispositivos"
   ]
  },
  {
   "cell_type": "markdown",
   "metadata": {},
   "source": [
    "Ahora realizamos el merge \"utilizandola columna DispositivoID del DataFrame izquierdo(ventas) como clave para la unión\". Además se usara el índice del DataFrame derecho(dispositivos) como clave para la unión. "
   ]
  },
  {
   "cell_type": "code",
   "execution_count": null,
   "metadata": {},
   "outputs": [],
   "source": []
  }
 ],
 "metadata": {
  "kernelspec": {
   "display_name": "Python 3",
   "language": "python",
   "name": "python3"
  },
  "language_info": {
   "codemirror_mode": {
    "name": "ipython",
    "version": 3
   },
   "file_extension": ".py",
   "mimetype": "text/x-python",
   "name": "python",
   "nbconvert_exporter": "python",
   "pygments_lexer": "ipython3",
   "version": "3.11.7"
  }
 },
 "nbformat": 4,
 "nbformat_minor": 2
}
